{
 "cells": [
  {
   "cell_type": "markdown",
   "id": "9fc10f89",
   "metadata": {},
   "source": [
    "# Simple logistic regression model"
   ]
  },
  {
   "cell_type": "code",
   "execution_count": null,
   "id": "6de1c935",
   "metadata": {},
   "outputs": [],
   "source": []
  }
 ],
 "metadata": {
  "kernelspec": {
   "display_name": "Python 3",
   "language": "python",
   "name": "python3"
  },
  "language_info": {
   "name": "python",
   "version": "3.9.6"
  }
 },
 "nbformat": 4,
 "nbformat_minor": 5
}
