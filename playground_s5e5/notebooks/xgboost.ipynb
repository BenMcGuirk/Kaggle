{
 "cells": [
  {
   "cell_type": "markdown",
   "id": "9fc10f89",
   "metadata": {},
   "source": [
    "# Single XGBoost model"
   ]
  },
  {
   "cell_type": "code",
   "execution_count": 2,
   "id": "ec2e653b",
   "metadata": {},
   "outputs": [],
   "source": [
    "import sys\n",
    "import os\n",
    "\n",
    "# Adjust the path to point to your project root (the folder containing 'src')\n",
    "sys.path.append(os.path.abspath(os.path.join(os.getcwd(), '..')))"
   ]
  },
  {
   "cell_type": "code",
   "execution_count": 3,
   "id": "6de1c935",
   "metadata": {},
   "outputs": [
    {
     "data": {
      "text/plain": [
       "<module 'src.preprocessing' from '/Users/wpw555/Documents/Kaggle/playground_s5e5/src/preprocessing.py'>"
      ]
     },
     "execution_count": 3,
     "metadata": {},
     "output_type": "execute_result"
    }
   ],
   "source": [
    "import pandas as pd\n",
    "import numpy as np\n",
    "import matplotlib.pyplot as plt\n",
    "import seaborn as sns\n",
    "import joblib\n",
    "import xgboost as xgb\n",
    "from sklearn.model_selection import train_test_split\n",
    "from sklearn.metrics import r2_score, mean_squared_log_error\n",
    "import wandb\n",
    "import importlib\n",
    "import src.preprocessing as prep\n",
    "importlib.reload(prep)"
   ]
  },
  {
   "cell_type": "code",
   "execution_count": 4,
   "id": "243e2d7c",
   "metadata": {},
   "outputs": [
    {
     "name": "stderr",
     "output_type": "stream",
     "text": [
      "\u001b[34m\u001b[1mwandb\u001b[0m: \u001b[33mWARNING\u001b[0m If you're specifying your api key in code, ensure this code is not shared publicly.\n",
      "\u001b[34m\u001b[1mwandb\u001b[0m: \u001b[33mWARNING\u001b[0m Consider setting the WANDB_API_KEY environment variable, or running `wandb login` from the command line.\n",
      "\u001b[34m\u001b[1mwandb\u001b[0m: No netrc file found, creating one.\n",
      "\u001b[34m\u001b[1mwandb\u001b[0m: Appending key for api.wandb.ai to your netrc file: /Users/wpw555/.netrc\n",
      "\u001b[34m\u001b[1mwandb\u001b[0m: Currently logged in as: \u001b[33mbenmcguirk\u001b[0m (\u001b[33mbenmcguirk-queen-mary-university-of-london\u001b[0m) to \u001b[32mhttps://api.wandb.ai\u001b[0m. Use \u001b[1m`wandb login --relogin`\u001b[0m to force relogin\n"
     ]
    },
    {
     "data": {
      "text/plain": [
       "True"
      ]
     },
     "execution_count": 4,
     "metadata": {},
     "output_type": "execute_result"
    }
   ],
   "source": [
    "wandb.login(key=\"0aaf3a0cef734fd8a0c505e1d077ed9d13ab5095\")"
   ]
  },
  {
   "cell_type": "code",
   "execution_count": 10,
   "id": "aca58a0a",
   "metadata": {},
   "outputs": [],
   "source": [
    "sweep_config = {\n",
    "    'method': 'bayes',  # or 'grid', 'random'\n",
    "    'metric': {'name': 'rmsle', 'goal': 'minimize'},\n",
    "    'parameters': {\n",
    "        'learning_rate': {'min': 0.01, 'max': 0.3},\n",
    "        'max_depth': {'values': [3, 5, 7]},\n",
    "        'n_estimators': {'min': 100, 'max': 1000},\n",
    "    }\n",
    "}"
   ]
  },
  {
   "cell_type": "code",
   "execution_count": 6,
   "id": "80eaa6cc",
   "metadata": {},
   "outputs": [
    {
     "name": "stdout",
     "output_type": "stream",
     "text": [
      "Dataset shape: (750000, 9)\n"
     ]
    },
    {
     "data": {
      "text/html": [
       "<div>\n",
       "<style scoped>\n",
       "    .dataframe tbody tr th:only-of-type {\n",
       "        vertical-align: middle;\n",
       "    }\n",
       "\n",
       "    .dataframe tbody tr th {\n",
       "        vertical-align: top;\n",
       "    }\n",
       "\n",
       "    .dataframe thead th {\n",
       "        text-align: right;\n",
       "    }\n",
       "</style>\n",
       "<table border=\"1\" class=\"dataframe\">\n",
       "  <thead>\n",
       "    <tr style=\"text-align: right;\">\n",
       "      <th></th>\n",
       "      <th>id</th>\n",
       "      <th>Sex</th>\n",
       "      <th>Age</th>\n",
       "      <th>Height</th>\n",
       "      <th>Weight</th>\n",
       "      <th>Duration</th>\n",
       "      <th>Heart_Rate</th>\n",
       "      <th>Body_Temp</th>\n",
       "      <th>Calories</th>\n",
       "    </tr>\n",
       "  </thead>\n",
       "  <tbody>\n",
       "    <tr>\n",
       "      <th>0</th>\n",
       "      <td>0</td>\n",
       "      <td>male</td>\n",
       "      <td>36</td>\n",
       "      <td>189.0</td>\n",
       "      <td>82.0</td>\n",
       "      <td>26.0</td>\n",
       "      <td>101.0</td>\n",
       "      <td>41.0</td>\n",
       "      <td>150.0</td>\n",
       "    </tr>\n",
       "    <tr>\n",
       "      <th>1</th>\n",
       "      <td>1</td>\n",
       "      <td>female</td>\n",
       "      <td>64</td>\n",
       "      <td>163.0</td>\n",
       "      <td>60.0</td>\n",
       "      <td>8.0</td>\n",
       "      <td>85.0</td>\n",
       "      <td>39.7</td>\n",
       "      <td>34.0</td>\n",
       "    </tr>\n",
       "    <tr>\n",
       "      <th>2</th>\n",
       "      <td>2</td>\n",
       "      <td>female</td>\n",
       "      <td>51</td>\n",
       "      <td>161.0</td>\n",
       "      <td>64.0</td>\n",
       "      <td>7.0</td>\n",
       "      <td>84.0</td>\n",
       "      <td>39.8</td>\n",
       "      <td>29.0</td>\n",
       "    </tr>\n",
       "    <tr>\n",
       "      <th>3</th>\n",
       "      <td>3</td>\n",
       "      <td>male</td>\n",
       "      <td>20</td>\n",
       "      <td>192.0</td>\n",
       "      <td>90.0</td>\n",
       "      <td>25.0</td>\n",
       "      <td>105.0</td>\n",
       "      <td>40.7</td>\n",
       "      <td>140.0</td>\n",
       "    </tr>\n",
       "    <tr>\n",
       "      <th>4</th>\n",
       "      <td>4</td>\n",
       "      <td>female</td>\n",
       "      <td>38</td>\n",
       "      <td>166.0</td>\n",
       "      <td>61.0</td>\n",
       "      <td>25.0</td>\n",
       "      <td>102.0</td>\n",
       "      <td>40.6</td>\n",
       "      <td>146.0</td>\n",
       "    </tr>\n",
       "  </tbody>\n",
       "</table>\n",
       "</div>"
      ],
      "text/plain": [
       "   id     Sex  Age  Height  Weight  Duration  Heart_Rate  Body_Temp  Calories\n",
       "0   0    male   36   189.0    82.0      26.0       101.0       41.0     150.0\n",
       "1   1  female   64   163.0    60.0       8.0        85.0       39.7      34.0\n",
       "2   2  female   51   161.0    64.0       7.0        84.0       39.8      29.0\n",
       "3   3    male   20   192.0    90.0      25.0       105.0       40.7     140.0\n",
       "4   4  female   38   166.0    61.0      25.0       102.0       40.6     146.0"
      ]
     },
     "execution_count": 6,
     "metadata": {},
     "output_type": "execute_result"
    }
   ],
   "source": [
    "# Set paths\n",
    "DATA_PATH = '../data/raw/train.csv'\n",
    "PREPROCESSOR_PATH = '../src/preprocessor.pkl'\n",
    "\n",
    "# Load the data\n",
    "data = pd.read_csv(DATA_PATH)\n",
    "print(f\"Dataset shape: {data.shape}\")\n",
    "data.head()"
   ]
  },
  {
   "cell_type": "code",
   "execution_count": 7,
   "id": "08f53b39",
   "metadata": {},
   "outputs": [
    {
     "data": {
      "text/plain": [
       "Index(['id', 'Sex', 'Age', 'Height', 'Weight', 'Duration', 'Heart_Rate',\n",
       "       'Body_Temp', 'Calories'],\n",
       "      dtype='object')"
      ]
     },
     "execution_count": 7,
     "metadata": {},
     "output_type": "execute_result"
    }
   ],
   "source": [
    "data.columns"
   ]
  },
  {
   "cell_type": "code",
   "execution_count": 8,
   "id": "2d9b8874",
   "metadata": {},
   "outputs": [
    {
     "data": {
      "text/plain": [
       "['../src/preprocessor.pkl']"
      ]
     },
     "execution_count": 8,
     "metadata": {},
     "output_type": "execute_result"
    }
   ],
   "source": [
    "# Clean data\n",
    "cleaned_data = prep.clean_train_data(data)\n",
    "\n",
    "# Split into training and validation sets\n",
    "X = data.drop(columns=['id', 'Calories'])\n",
    "X = prep.create_features(X)\n",
    "y = data['Calories']\n",
    "X_train, X_val, y_train, y_val = train_test_split(X, y, test_size=0.2, random_state=42)\n",
    "\n",
    "# Build and fit preprocessor\n",
    "preprocessor = prep.build_preprocessor(X_train)\n",
    "X_train_processed, X_val_processed = prep.fit_and_transform_preprocessor(preprocessor, X_train, X_val)\n",
    "\n",
    "# Save preprocessor\n",
    "joblib.dump(preprocessor, PREPROCESSOR_PATH)"
   ]
  },
  {
   "cell_type": "code",
   "execution_count": 12,
   "id": "47d8caa9",
   "metadata": {},
   "outputs": [
    {
     "name": "stdout",
     "output_type": "stream",
     "text": [
      "Create sweep with ID: kk3lk19c\n",
      "Sweep URL: https://wandb.ai/benmcguirk-queen-mary-university-of-london/xgboost-optimization/sweeps/kk3lk19c\n"
     ]
    },
    {
     "name": "stderr",
     "output_type": "stream",
     "text": [
      "\u001b[34m\u001b[1mwandb\u001b[0m: Agent Starting Run: g1raipa0 with config:\n",
      "\u001b[34m\u001b[1mwandb\u001b[0m: \tlearning_rate: 0.2987653346734741\n",
      "\u001b[34m\u001b[1mwandb\u001b[0m: \tmax_depth: 5\n",
      "\u001b[34m\u001b[1mwandb\u001b[0m: \tn_estimators: 729\n"
     ]
    },
    {
     "data": {
      "text/html": [
       "Tracking run with wandb version 0.19.11"
      ],
      "text/plain": [
       "<IPython.core.display.HTML object>"
      ]
     },
     "metadata": {},
     "output_type": "display_data"
    },
    {
     "data": {
      "text/html": [
       "Run data is saved locally in <code>/Users/wpw555/Documents/Kaggle/playground_s5e5/notebooks/wandb/run-20250510_151543-g1raipa0</code>"
      ],
      "text/plain": [
       "<IPython.core.display.HTML object>"
      ]
     },
     "metadata": {},
     "output_type": "display_data"
    },
    {
     "data": {
      "text/html": [
       "Syncing run <strong><a href='https://wandb.ai/benmcguirk-queen-mary-university-of-london/xgboost-optimization/runs/g1raipa0' target=\"_blank\">dandy-sweep-1</a></strong> to <a href='https://wandb.ai/benmcguirk-queen-mary-university-of-london/xgboost-optimization' target=\"_blank\">Weights & Biases</a> (<a href='https://wandb.me/developer-guide' target=\"_blank\">docs</a>)<br>Sweep page: <a href='https://wandb.ai/benmcguirk-queen-mary-university-of-london/xgboost-optimization/sweeps/kk3lk19c' target=\"_blank\">https://wandb.ai/benmcguirk-queen-mary-university-of-london/xgboost-optimization/sweeps/kk3lk19c</a>"
      ],
      "text/plain": [
       "<IPython.core.display.HTML object>"
      ]
     },
     "metadata": {},
     "output_type": "display_data"
    },
    {
     "data": {
      "text/html": [
       " View project at <a href='https://wandb.ai/benmcguirk-queen-mary-university-of-london/xgboost-optimization' target=\"_blank\">https://wandb.ai/benmcguirk-queen-mary-university-of-london/xgboost-optimization</a>"
      ],
      "text/plain": [
       "<IPython.core.display.HTML object>"
      ]
     },
     "metadata": {},
     "output_type": "display_data"
    },
    {
     "data": {
      "text/html": [
       " View sweep at <a href='https://wandb.ai/benmcguirk-queen-mary-university-of-london/xgboost-optimization/sweeps/kk3lk19c' target=\"_blank\">https://wandb.ai/benmcguirk-queen-mary-university-of-london/xgboost-optimization/sweeps/kk3lk19c</a>"
      ],
      "text/plain": [
       "<IPython.core.display.HTML object>"
      ]
     },
     "metadata": {},
     "output_type": "display_data"
    },
    {
     "data": {
      "text/html": [
       " View run at <a href='https://wandb.ai/benmcguirk-queen-mary-university-of-london/xgboost-optimization/runs/g1raipa0' target=\"_blank\">https://wandb.ai/benmcguirk-queen-mary-university-of-london/xgboost-optimization/runs/g1raipa0</a>"
      ],
      "text/plain": [
       "<IPython.core.display.HTML object>"
      ]
     },
     "metadata": {},
     "output_type": "display_data"
    },
    {
     "data": {
      "text/html": [],
      "text/plain": [
       "<IPython.core.display.HTML object>"
      ]
     },
     "metadata": {},
     "output_type": "display_data"
    },
    {
     "data": {
      "text/html": [
       "<br>    <style><br>        .wandb-row {<br>            display: flex;<br>            flex-direction: row;<br>            flex-wrap: wrap;<br>            justify-content: flex-start;<br>            width: 100%;<br>        }<br>        .wandb-col {<br>            display: flex;<br>            flex-direction: column;<br>            flex-basis: 100%;<br>            flex: 1;<br>            padding: 10px;<br>        }<br>    </style><br><div class=\"wandb-row\"><div class=\"wandb-col\"><h3>Run history:</h3><br/><table class=\"wandb\"><tr><td>learning_rate</td><td>▁</td></tr><tr><td>max_depth</td><td>▁</td></tr><tr><td>n_estimators</td><td>▁</td></tr><tr><td>rmsle</td><td>▁</td></tr></table><br/></div><div class=\"wandb-col\"><h3>Run summary:</h3><br/><table class=\"wandb\"><tr><td>learning_rate</td><td>0.29877</td></tr><tr><td>max_depth</td><td>5</td></tr><tr><td>n_estimators</td><td>729</td></tr><tr><td>rmsle</td><td>0.00428</td></tr></table><br/></div></div>"
      ],
      "text/plain": [
       "<IPython.core.display.HTML object>"
      ]
     },
     "metadata": {},
     "output_type": "display_data"
    },
    {
     "data": {
      "text/html": [
       " View run <strong style=\"color:#cdcd00\">dandy-sweep-1</strong> at: <a href='https://wandb.ai/benmcguirk-queen-mary-university-of-london/xgboost-optimization/runs/g1raipa0' target=\"_blank\">https://wandb.ai/benmcguirk-queen-mary-university-of-london/xgboost-optimization/runs/g1raipa0</a><br> View project at: <a href='https://wandb.ai/benmcguirk-queen-mary-university-of-london/xgboost-optimization' target=\"_blank\">https://wandb.ai/benmcguirk-queen-mary-university-of-london/xgboost-optimization</a><br>Synced 5 W&B file(s), 0 media file(s), 0 artifact file(s) and 0 other file(s)"
      ],
      "text/plain": [
       "<IPython.core.display.HTML object>"
      ]
     },
     "metadata": {},
     "output_type": "display_data"
    },
    {
     "data": {
      "text/html": [
       "Find logs at: <code>./wandb/run-20250510_151543-g1raipa0/logs</code>"
      ],
      "text/plain": [
       "<IPython.core.display.HTML object>"
      ]
     },
     "metadata": {},
     "output_type": "display_data"
    },
    {
     "name": "stderr",
     "output_type": "stream",
     "text": [
      "\u001b[34m\u001b[1mwandb\u001b[0m: Agent Starting Run: o6pnw1zg with config:\n",
      "\u001b[34m\u001b[1mwandb\u001b[0m: \tlearning_rate: 0.2568891176098514\n",
      "\u001b[34m\u001b[1mwandb\u001b[0m: \tmax_depth: 5\n",
      "\u001b[34m\u001b[1mwandb\u001b[0m: \tn_estimators: 289\n"
     ]
    },
    {
     "data": {
      "text/html": [
       "Tracking run with wandb version 0.19.11"
      ],
      "text/plain": [
       "<IPython.core.display.HTML object>"
      ]
     },
     "metadata": {},
     "output_type": "display_data"
    },
    {
     "data": {
      "text/html": [
       "Run data is saved locally in <code>/Users/wpw555/Documents/Kaggle/playground_s5e5/notebooks/wandb/run-20250510_151558-o6pnw1zg</code>"
      ],
      "text/plain": [
       "<IPython.core.display.HTML object>"
      ]
     },
     "metadata": {},
     "output_type": "display_data"
    },
    {
     "data": {
      "text/html": [
       "Syncing run <strong><a href='https://wandb.ai/benmcguirk-queen-mary-university-of-london/xgboost-optimization/runs/o6pnw1zg' target=\"_blank\">neat-sweep-2</a></strong> to <a href='https://wandb.ai/benmcguirk-queen-mary-university-of-london/xgboost-optimization' target=\"_blank\">Weights & Biases</a> (<a href='https://wandb.me/developer-guide' target=\"_blank\">docs</a>)<br>Sweep page: <a href='https://wandb.ai/benmcguirk-queen-mary-university-of-london/xgboost-optimization/sweeps/kk3lk19c' target=\"_blank\">https://wandb.ai/benmcguirk-queen-mary-university-of-london/xgboost-optimization/sweeps/kk3lk19c</a>"
      ],
      "text/plain": [
       "<IPython.core.display.HTML object>"
      ]
     },
     "metadata": {},
     "output_type": "display_data"
    },
    {
     "data": {
      "text/html": [
       " View project at <a href='https://wandb.ai/benmcguirk-queen-mary-university-of-london/xgboost-optimization' target=\"_blank\">https://wandb.ai/benmcguirk-queen-mary-university-of-london/xgboost-optimization</a>"
      ],
      "text/plain": [
       "<IPython.core.display.HTML object>"
      ]
     },
     "metadata": {},
     "output_type": "display_data"
    },
    {
     "data": {
      "text/html": [
       " View sweep at <a href='https://wandb.ai/benmcguirk-queen-mary-university-of-london/xgboost-optimization/sweeps/kk3lk19c' target=\"_blank\">https://wandb.ai/benmcguirk-queen-mary-university-of-london/xgboost-optimization/sweeps/kk3lk19c</a>"
      ],
      "text/plain": [
       "<IPython.core.display.HTML object>"
      ]
     },
     "metadata": {},
     "output_type": "display_data"
    },
    {
     "data": {
      "text/html": [
       " View run at <a href='https://wandb.ai/benmcguirk-queen-mary-university-of-london/xgboost-optimization/runs/o6pnw1zg' target=\"_blank\">https://wandb.ai/benmcguirk-queen-mary-university-of-london/xgboost-optimization/runs/o6pnw1zg</a>"
      ],
      "text/plain": [
       "<IPython.core.display.HTML object>"
      ]
     },
     "metadata": {},
     "output_type": "display_data"
    },
    {
     "data": {
      "text/html": [],
      "text/plain": [
       "<IPython.core.display.HTML object>"
      ]
     },
     "metadata": {},
     "output_type": "display_data"
    },
    {
     "data": {
      "text/html": [
       "<br>    <style><br>        .wandb-row {<br>            display: flex;<br>            flex-direction: row;<br>            flex-wrap: wrap;<br>            justify-content: flex-start;<br>            width: 100%;<br>        }<br>        .wandb-col {<br>            display: flex;<br>            flex-direction: column;<br>            flex-basis: 100%;<br>            flex: 1;<br>            padding: 10px;<br>        }<br>    </style><br><div class=\"wandb-row\"><div class=\"wandb-col\"><h3>Run history:</h3><br/><table class=\"wandb\"><tr><td>learning_rate</td><td>▁</td></tr><tr><td>max_depth</td><td>▁</td></tr><tr><td>n_estimators</td><td>▁</td></tr><tr><td>rmsle</td><td>▁</td></tr></table><br/></div><div class=\"wandb-col\"><h3>Run summary:</h3><br/><table class=\"wandb\"><tr><td>learning_rate</td><td>0.25689</td></tr><tr><td>max_depth</td><td>5</td></tr><tr><td>n_estimators</td><td>289</td></tr><tr><td>rmsle</td><td>0.00423</td></tr></table><br/></div></div>"
      ],
      "text/plain": [
       "<IPython.core.display.HTML object>"
      ]
     },
     "metadata": {},
     "output_type": "display_data"
    },
    {
     "data": {
      "text/html": [
       " View run <strong style=\"color:#cdcd00\">neat-sweep-2</strong> at: <a href='https://wandb.ai/benmcguirk-queen-mary-university-of-london/xgboost-optimization/runs/o6pnw1zg' target=\"_blank\">https://wandb.ai/benmcguirk-queen-mary-university-of-london/xgboost-optimization/runs/o6pnw1zg</a><br> View project at: <a href='https://wandb.ai/benmcguirk-queen-mary-university-of-london/xgboost-optimization' target=\"_blank\">https://wandb.ai/benmcguirk-queen-mary-university-of-london/xgboost-optimization</a><br>Synced 5 W&B file(s), 0 media file(s), 0 artifact file(s) and 0 other file(s)"
      ],
      "text/plain": [
       "<IPython.core.display.HTML object>"
      ]
     },
     "metadata": {},
     "output_type": "display_data"
    },
    {
     "data": {
      "text/html": [
       "Find logs at: <code>./wandb/run-20250510_151558-o6pnw1zg/logs</code>"
      ],
      "text/plain": [
       "<IPython.core.display.HTML object>"
      ]
     },
     "metadata": {},
     "output_type": "display_data"
    },
    {
     "name": "stderr",
     "output_type": "stream",
     "text": [
      "\u001b[34m\u001b[1mwandb\u001b[0m: Agent Starting Run: gte035bh with config:\n",
      "\u001b[34m\u001b[1mwandb\u001b[0m: \tlearning_rate: 0.25125562491900066\n",
      "\u001b[34m\u001b[1mwandb\u001b[0m: \tmax_depth: 5\n",
      "\u001b[34m\u001b[1mwandb\u001b[0m: \tn_estimators: 276\n"
     ]
    },
    {
     "data": {
      "text/html": [
       "Tracking run with wandb version 0.19.11"
      ],
      "text/plain": [
       "<IPython.core.display.HTML object>"
      ]
     },
     "metadata": {},
     "output_type": "display_data"
    },
    {
     "data": {
      "text/html": [
       "Run data is saved locally in <code>/Users/wpw555/Documents/Kaggle/playground_s5e5/notebooks/wandb/run-20250510_151609-gte035bh</code>"
      ],
      "text/plain": [
       "<IPython.core.display.HTML object>"
      ]
     },
     "metadata": {},
     "output_type": "display_data"
    },
    {
     "data": {
      "text/html": [
       "Syncing run <strong><a href='https://wandb.ai/benmcguirk-queen-mary-university-of-london/xgboost-optimization/runs/gte035bh' target=\"_blank\">expert-sweep-3</a></strong> to <a href='https://wandb.ai/benmcguirk-queen-mary-university-of-london/xgboost-optimization' target=\"_blank\">Weights & Biases</a> (<a href='https://wandb.me/developer-guide' target=\"_blank\">docs</a>)<br>Sweep page: <a href='https://wandb.ai/benmcguirk-queen-mary-university-of-london/xgboost-optimization/sweeps/kk3lk19c' target=\"_blank\">https://wandb.ai/benmcguirk-queen-mary-university-of-london/xgboost-optimization/sweeps/kk3lk19c</a>"
      ],
      "text/plain": [
       "<IPython.core.display.HTML object>"
      ]
     },
     "metadata": {},
     "output_type": "display_data"
    },
    {
     "data": {
      "text/html": [
       " View project at <a href='https://wandb.ai/benmcguirk-queen-mary-university-of-london/xgboost-optimization' target=\"_blank\">https://wandb.ai/benmcguirk-queen-mary-university-of-london/xgboost-optimization</a>"
      ],
      "text/plain": [
       "<IPython.core.display.HTML object>"
      ]
     },
     "metadata": {},
     "output_type": "display_data"
    },
    {
     "data": {
      "text/html": [
       " View sweep at <a href='https://wandb.ai/benmcguirk-queen-mary-university-of-london/xgboost-optimization/sweeps/kk3lk19c' target=\"_blank\">https://wandb.ai/benmcguirk-queen-mary-university-of-london/xgboost-optimization/sweeps/kk3lk19c</a>"
      ],
      "text/plain": [
       "<IPython.core.display.HTML object>"
      ]
     },
     "metadata": {},
     "output_type": "display_data"
    },
    {
     "data": {
      "text/html": [
       " View run at <a href='https://wandb.ai/benmcguirk-queen-mary-university-of-london/xgboost-optimization/runs/gte035bh' target=\"_blank\">https://wandb.ai/benmcguirk-queen-mary-university-of-london/xgboost-optimization/runs/gte035bh</a>"
      ],
      "text/plain": [
       "<IPython.core.display.HTML object>"
      ]
     },
     "metadata": {},
     "output_type": "display_data"
    },
    {
     "data": {
      "text/html": [],
      "text/plain": [
       "<IPython.core.display.HTML object>"
      ]
     },
     "metadata": {},
     "output_type": "display_data"
    },
    {
     "data": {
      "text/html": [
       "<br>    <style><br>        .wandb-row {<br>            display: flex;<br>            flex-direction: row;<br>            flex-wrap: wrap;<br>            justify-content: flex-start;<br>            width: 100%;<br>        }<br>        .wandb-col {<br>            display: flex;<br>            flex-direction: column;<br>            flex-basis: 100%;<br>            flex: 1;<br>            padding: 10px;<br>        }<br>    </style><br><div class=\"wandb-row\"><div class=\"wandb-col\"><h3>Run history:</h3><br/><table class=\"wandb\"><tr><td>learning_rate</td><td>▁</td></tr><tr><td>max_depth</td><td>▁</td></tr><tr><td>n_estimators</td><td>▁</td></tr><tr><td>rmsle</td><td>▁</td></tr></table><br/></div><div class=\"wandb-col\"><h3>Run summary:</h3><br/><table class=\"wandb\"><tr><td>learning_rate</td><td>0.25126</td></tr><tr><td>max_depth</td><td>5</td></tr><tr><td>n_estimators</td><td>276</td></tr><tr><td>rmsle</td><td>0.00426</td></tr></table><br/></div></div>"
      ],
      "text/plain": [
       "<IPython.core.display.HTML object>"
      ]
     },
     "metadata": {},
     "output_type": "display_data"
    },
    {
     "data": {
      "text/html": [
       " View run <strong style=\"color:#cdcd00\">expert-sweep-3</strong> at: <a href='https://wandb.ai/benmcguirk-queen-mary-university-of-london/xgboost-optimization/runs/gte035bh' target=\"_blank\">https://wandb.ai/benmcguirk-queen-mary-university-of-london/xgboost-optimization/runs/gte035bh</a><br> View project at: <a href='https://wandb.ai/benmcguirk-queen-mary-university-of-london/xgboost-optimization' target=\"_blank\">https://wandb.ai/benmcguirk-queen-mary-university-of-london/xgboost-optimization</a><br>Synced 5 W&B file(s), 0 media file(s), 0 artifact file(s) and 0 other file(s)"
      ],
      "text/plain": [
       "<IPython.core.display.HTML object>"
      ]
     },
     "metadata": {},
     "output_type": "display_data"
    },
    {
     "data": {
      "text/html": [
       "Find logs at: <code>./wandb/run-20250510_151609-gte035bh/logs</code>"
      ],
      "text/plain": [
       "<IPython.core.display.HTML object>"
      ]
     },
     "metadata": {},
     "output_type": "display_data"
    },
    {
     "name": "stderr",
     "output_type": "stream",
     "text": [
      "\u001b[34m\u001b[1mwandb\u001b[0m: Agent Starting Run: oynl1fkg with config:\n",
      "\u001b[34m\u001b[1mwandb\u001b[0m: \tlearning_rate: 0.2770330269872484\n",
      "\u001b[34m\u001b[1mwandb\u001b[0m: \tmax_depth: 5\n",
      "\u001b[34m\u001b[1mwandb\u001b[0m: \tn_estimators: 553\n"
     ]
    },
    {
     "data": {
      "text/html": [
       "Tracking run with wandb version 0.19.11"
      ],
      "text/plain": [
       "<IPython.core.display.HTML object>"
      ]
     },
     "metadata": {},
     "output_type": "display_data"
    },
    {
     "data": {
      "text/html": [
       "Run data is saved locally in <code>/Users/wpw555/Documents/Kaggle/playground_s5e5/notebooks/wandb/run-20250510_151620-oynl1fkg</code>"
      ],
      "text/plain": [
       "<IPython.core.display.HTML object>"
      ]
     },
     "metadata": {},
     "output_type": "display_data"
    },
    {
     "data": {
      "text/html": [
       "Syncing run <strong><a href='https://wandb.ai/benmcguirk-queen-mary-university-of-london/xgboost-optimization/runs/oynl1fkg' target=\"_blank\">classic-sweep-4</a></strong> to <a href='https://wandb.ai/benmcguirk-queen-mary-university-of-london/xgboost-optimization' target=\"_blank\">Weights & Biases</a> (<a href='https://wandb.me/developer-guide' target=\"_blank\">docs</a>)<br>Sweep page: <a href='https://wandb.ai/benmcguirk-queen-mary-university-of-london/xgboost-optimization/sweeps/kk3lk19c' target=\"_blank\">https://wandb.ai/benmcguirk-queen-mary-university-of-london/xgboost-optimization/sweeps/kk3lk19c</a>"
      ],
      "text/plain": [
       "<IPython.core.display.HTML object>"
      ]
     },
     "metadata": {},
     "output_type": "display_data"
    },
    {
     "data": {
      "text/html": [
       " View project at <a href='https://wandb.ai/benmcguirk-queen-mary-university-of-london/xgboost-optimization' target=\"_blank\">https://wandb.ai/benmcguirk-queen-mary-university-of-london/xgboost-optimization</a>"
      ],
      "text/plain": [
       "<IPython.core.display.HTML object>"
      ]
     },
     "metadata": {},
     "output_type": "display_data"
    },
    {
     "data": {
      "text/html": [
       " View sweep at <a href='https://wandb.ai/benmcguirk-queen-mary-university-of-london/xgboost-optimization/sweeps/kk3lk19c' target=\"_blank\">https://wandb.ai/benmcguirk-queen-mary-university-of-london/xgboost-optimization/sweeps/kk3lk19c</a>"
      ],
      "text/plain": [
       "<IPython.core.display.HTML object>"
      ]
     },
     "metadata": {},
     "output_type": "display_data"
    },
    {
     "data": {
      "text/html": [
       " View run at <a href='https://wandb.ai/benmcguirk-queen-mary-university-of-london/xgboost-optimization/runs/oynl1fkg' target=\"_blank\">https://wandb.ai/benmcguirk-queen-mary-university-of-london/xgboost-optimization/runs/oynl1fkg</a>"
      ],
      "text/plain": [
       "<IPython.core.display.HTML object>"
      ]
     },
     "metadata": {},
     "output_type": "display_data"
    },
    {
     "data": {
      "text/html": [],
      "text/plain": [
       "<IPython.core.display.HTML object>"
      ]
     },
     "metadata": {},
     "output_type": "display_data"
    },
    {
     "data": {
      "text/html": [
       "<br>    <style><br>        .wandb-row {<br>            display: flex;<br>            flex-direction: row;<br>            flex-wrap: wrap;<br>            justify-content: flex-start;<br>            width: 100%;<br>        }<br>        .wandb-col {<br>            display: flex;<br>            flex-direction: column;<br>            flex-basis: 100%;<br>            flex: 1;<br>            padding: 10px;<br>        }<br>    </style><br><div class=\"wandb-row\"><div class=\"wandb-col\"><h3>Run history:</h3><br/><table class=\"wandb\"><tr><td>learning_rate</td><td>▁</td></tr><tr><td>max_depth</td><td>▁</td></tr><tr><td>n_estimators</td><td>▁</td></tr><tr><td>rmsle</td><td>▁</td></tr></table><br/></div><div class=\"wandb-col\"><h3>Run summary:</h3><br/><table class=\"wandb\"><tr><td>learning_rate</td><td>0.27703</td></tr><tr><td>max_depth</td><td>5</td></tr><tr><td>n_estimators</td><td>553</td></tr><tr><td>rmsle</td><td>0.0041</td></tr></table><br/></div></div>"
      ],
      "text/plain": [
       "<IPython.core.display.HTML object>"
      ]
     },
     "metadata": {},
     "output_type": "display_data"
    },
    {
     "data": {
      "text/html": [
       " View run <strong style=\"color:#cdcd00\">classic-sweep-4</strong> at: <a href='https://wandb.ai/benmcguirk-queen-mary-university-of-london/xgboost-optimization/runs/oynl1fkg' target=\"_blank\">https://wandb.ai/benmcguirk-queen-mary-university-of-london/xgboost-optimization/runs/oynl1fkg</a><br> View project at: <a href='https://wandb.ai/benmcguirk-queen-mary-university-of-london/xgboost-optimization' target=\"_blank\">https://wandb.ai/benmcguirk-queen-mary-university-of-london/xgboost-optimization</a><br>Synced 5 W&B file(s), 0 media file(s), 0 artifact file(s) and 0 other file(s)"
      ],
      "text/plain": [
       "<IPython.core.display.HTML object>"
      ]
     },
     "metadata": {},
     "output_type": "display_data"
    },
    {
     "data": {
      "text/html": [
       "Find logs at: <code>./wandb/run-20250510_151620-oynl1fkg/logs</code>"
      ],
      "text/plain": [
       "<IPython.core.display.HTML object>"
      ]
     },
     "metadata": {},
     "output_type": "display_data"
    },
    {
     "name": "stderr",
     "output_type": "stream",
     "text": [
      "\u001b[34m\u001b[1mwandb\u001b[0m: Agent Starting Run: w7imwwir with config:\n",
      "\u001b[34m\u001b[1mwandb\u001b[0m: \tlearning_rate: 0.2750830581977992\n",
      "\u001b[34m\u001b[1mwandb\u001b[0m: \tmax_depth: 3\n",
      "\u001b[34m\u001b[1mwandb\u001b[0m: \tn_estimators: 656\n"
     ]
    },
    {
     "data": {
      "text/html": [
       "Tracking run with wandb version 0.19.11"
      ],
      "text/plain": [
       "<IPython.core.display.HTML object>"
      ]
     },
     "metadata": {},
     "output_type": "display_data"
    },
    {
     "data": {
      "text/html": [
       "Run data is saved locally in <code>/Users/wpw555/Documents/Kaggle/playground_s5e5/notebooks/wandb/run-20250510_151635-w7imwwir</code>"
      ],
      "text/plain": [
       "<IPython.core.display.HTML object>"
      ]
     },
     "metadata": {},
     "output_type": "display_data"
    },
    {
     "data": {
      "text/html": [
       "Syncing run <strong><a href='https://wandb.ai/benmcguirk-queen-mary-university-of-london/xgboost-optimization/runs/w7imwwir' target=\"_blank\">still-sweep-5</a></strong> to <a href='https://wandb.ai/benmcguirk-queen-mary-university-of-london/xgboost-optimization' target=\"_blank\">Weights & Biases</a> (<a href='https://wandb.me/developer-guide' target=\"_blank\">docs</a>)<br>Sweep page: <a href='https://wandb.ai/benmcguirk-queen-mary-university-of-london/xgboost-optimization/sweeps/kk3lk19c' target=\"_blank\">https://wandb.ai/benmcguirk-queen-mary-university-of-london/xgboost-optimization/sweeps/kk3lk19c</a>"
      ],
      "text/plain": [
       "<IPython.core.display.HTML object>"
      ]
     },
     "metadata": {},
     "output_type": "display_data"
    },
    {
     "data": {
      "text/html": [
       " View project at <a href='https://wandb.ai/benmcguirk-queen-mary-university-of-london/xgboost-optimization' target=\"_blank\">https://wandb.ai/benmcguirk-queen-mary-university-of-london/xgboost-optimization</a>"
      ],
      "text/plain": [
       "<IPython.core.display.HTML object>"
      ]
     },
     "metadata": {},
     "output_type": "display_data"
    },
    {
     "data": {
      "text/html": [
       " View sweep at <a href='https://wandb.ai/benmcguirk-queen-mary-university-of-london/xgboost-optimization/sweeps/kk3lk19c' target=\"_blank\">https://wandb.ai/benmcguirk-queen-mary-university-of-london/xgboost-optimization/sweeps/kk3lk19c</a>"
      ],
      "text/plain": [
       "<IPython.core.display.HTML object>"
      ]
     },
     "metadata": {},
     "output_type": "display_data"
    },
    {
     "data": {
      "text/html": [
       " View run at <a href='https://wandb.ai/benmcguirk-queen-mary-university-of-london/xgboost-optimization/runs/w7imwwir' target=\"_blank\">https://wandb.ai/benmcguirk-queen-mary-university-of-london/xgboost-optimization/runs/w7imwwir</a>"
      ],
      "text/plain": [
       "<IPython.core.display.HTML object>"
      ]
     },
     "metadata": {},
     "output_type": "display_data"
    },
    {
     "data": {
      "text/html": [],
      "text/plain": [
       "<IPython.core.display.HTML object>"
      ]
     },
     "metadata": {},
     "output_type": "display_data"
    },
    {
     "data": {
      "text/html": [
       "<br>    <style><br>        .wandb-row {<br>            display: flex;<br>            flex-direction: row;<br>            flex-wrap: wrap;<br>            justify-content: flex-start;<br>            width: 100%;<br>        }<br>        .wandb-col {<br>            display: flex;<br>            flex-direction: column;<br>            flex-basis: 100%;<br>            flex: 1;<br>            padding: 10px;<br>        }<br>    </style><br><div class=\"wandb-row\"><div class=\"wandb-col\"><h3>Run history:</h3><br/><table class=\"wandb\"><tr><td>learning_rate</td><td>▁</td></tr><tr><td>max_depth</td><td>▁</td></tr><tr><td>n_estimators</td><td>▁</td></tr><tr><td>rmsle</td><td>▁</td></tr></table><br/></div><div class=\"wandb-col\"><h3>Run summary:</h3><br/><table class=\"wandb\"><tr><td>learning_rate</td><td>0.27508</td></tr><tr><td>max_depth</td><td>3</td></tr><tr><td>n_estimators</td><td>656</td></tr><tr><td>rmsle</td><td>0.00481</td></tr></table><br/></div></div>"
      ],
      "text/plain": [
       "<IPython.core.display.HTML object>"
      ]
     },
     "metadata": {},
     "output_type": "display_data"
    },
    {
     "data": {
      "text/html": [
       " View run <strong style=\"color:#cdcd00\">still-sweep-5</strong> at: <a href='https://wandb.ai/benmcguirk-queen-mary-university-of-london/xgboost-optimization/runs/w7imwwir' target=\"_blank\">https://wandb.ai/benmcguirk-queen-mary-university-of-london/xgboost-optimization/runs/w7imwwir</a><br> View project at: <a href='https://wandb.ai/benmcguirk-queen-mary-university-of-london/xgboost-optimization' target=\"_blank\">https://wandb.ai/benmcguirk-queen-mary-university-of-london/xgboost-optimization</a><br>Synced 5 W&B file(s), 0 media file(s), 0 artifact file(s) and 0 other file(s)"
      ],
      "text/plain": [
       "<IPython.core.display.HTML object>"
      ]
     },
     "metadata": {},
     "output_type": "display_data"
    },
    {
     "data": {
      "text/html": [
       "Find logs at: <code>./wandb/run-20250510_151635-w7imwwir/logs</code>"
      ],
      "text/plain": [
       "<IPython.core.display.HTML object>"
      ]
     },
     "metadata": {},
     "output_type": "display_data"
    },
    {
     "name": "stderr",
     "output_type": "stream",
     "text": [
      "\u001b[34m\u001b[1mwandb\u001b[0m: Agent Starting Run: i483klb5 with config:\n",
      "\u001b[34m\u001b[1mwandb\u001b[0m: \tlearning_rate: 0.27293419200384383\n",
      "\u001b[34m\u001b[1mwandb\u001b[0m: \tmax_depth: 7\n",
      "\u001b[34m\u001b[1mwandb\u001b[0m: \tn_estimators: 473\n"
     ]
    },
    {
     "data": {
      "text/html": [
       "Tracking run with wandb version 0.19.11"
      ],
      "text/plain": [
       "<IPython.core.display.HTML object>"
      ]
     },
     "metadata": {},
     "output_type": "display_data"
    },
    {
     "data": {
      "text/html": [
       "Run data is saved locally in <code>/Users/wpw555/Documents/Kaggle/playground_s5e5/notebooks/wandb/run-20250510_151646-i483klb5</code>"
      ],
      "text/plain": [
       "<IPython.core.display.HTML object>"
      ]
     },
     "metadata": {},
     "output_type": "display_data"
    },
    {
     "data": {
      "text/html": [
       "Syncing run <strong><a href='https://wandb.ai/benmcguirk-queen-mary-university-of-london/xgboost-optimization/runs/i483klb5' target=\"_blank\">smart-sweep-6</a></strong> to <a href='https://wandb.ai/benmcguirk-queen-mary-university-of-london/xgboost-optimization' target=\"_blank\">Weights & Biases</a> (<a href='https://wandb.me/developer-guide' target=\"_blank\">docs</a>)<br>Sweep page: <a href='https://wandb.ai/benmcguirk-queen-mary-university-of-london/xgboost-optimization/sweeps/kk3lk19c' target=\"_blank\">https://wandb.ai/benmcguirk-queen-mary-university-of-london/xgboost-optimization/sweeps/kk3lk19c</a>"
      ],
      "text/plain": [
       "<IPython.core.display.HTML object>"
      ]
     },
     "metadata": {},
     "output_type": "display_data"
    },
    {
     "data": {
      "text/html": [
       " View project at <a href='https://wandb.ai/benmcguirk-queen-mary-university-of-london/xgboost-optimization' target=\"_blank\">https://wandb.ai/benmcguirk-queen-mary-university-of-london/xgboost-optimization</a>"
      ],
      "text/plain": [
       "<IPython.core.display.HTML object>"
      ]
     },
     "metadata": {},
     "output_type": "display_data"
    },
    {
     "data": {
      "text/html": [
       " View sweep at <a href='https://wandb.ai/benmcguirk-queen-mary-university-of-london/xgboost-optimization/sweeps/kk3lk19c' target=\"_blank\">https://wandb.ai/benmcguirk-queen-mary-university-of-london/xgboost-optimization/sweeps/kk3lk19c</a>"
      ],
      "text/plain": [
       "<IPython.core.display.HTML object>"
      ]
     },
     "metadata": {},
     "output_type": "display_data"
    },
    {
     "data": {
      "text/html": [
       " View run at <a href='https://wandb.ai/benmcguirk-queen-mary-university-of-london/xgboost-optimization/runs/i483klb5' target=\"_blank\">https://wandb.ai/benmcguirk-queen-mary-university-of-london/xgboost-optimization/runs/i483klb5</a>"
      ],
      "text/plain": [
       "<IPython.core.display.HTML object>"
      ]
     },
     "metadata": {},
     "output_type": "display_data"
    },
    {
     "data": {
      "text/html": [],
      "text/plain": [
       "<IPython.core.display.HTML object>"
      ]
     },
     "metadata": {},
     "output_type": "display_data"
    },
    {
     "data": {
      "text/html": [
       "<br>    <style><br>        .wandb-row {<br>            display: flex;<br>            flex-direction: row;<br>            flex-wrap: wrap;<br>            justify-content: flex-start;<br>            width: 100%;<br>        }<br>        .wandb-col {<br>            display: flex;<br>            flex-direction: column;<br>            flex-basis: 100%;<br>            flex: 1;<br>            padding: 10px;<br>        }<br>    </style><br><div class=\"wandb-row\"><div class=\"wandb-col\"><h3>Run history:</h3><br/><table class=\"wandb\"><tr><td>learning_rate</td><td>▁</td></tr><tr><td>max_depth</td><td>▁</td></tr><tr><td>n_estimators</td><td>▁</td></tr><tr><td>rmsle</td><td>▁</td></tr></table><br/></div><div class=\"wandb-col\"><h3>Run summary:</h3><br/><table class=\"wandb\"><tr><td>learning_rate</td><td>0.27293</td></tr><tr><td>max_depth</td><td>7</td></tr><tr><td>n_estimators</td><td>473</td></tr><tr><td>rmsle</td><td>0.00397</td></tr></table><br/></div></div>"
      ],
      "text/plain": [
       "<IPython.core.display.HTML object>"
      ]
     },
     "metadata": {},
     "output_type": "display_data"
    },
    {
     "data": {
      "text/html": [
       " View run <strong style=\"color:#cdcd00\">smart-sweep-6</strong> at: <a href='https://wandb.ai/benmcguirk-queen-mary-university-of-london/xgboost-optimization/runs/i483klb5' target=\"_blank\">https://wandb.ai/benmcguirk-queen-mary-university-of-london/xgboost-optimization/runs/i483klb5</a><br> View project at: <a href='https://wandb.ai/benmcguirk-queen-mary-university-of-london/xgboost-optimization' target=\"_blank\">https://wandb.ai/benmcguirk-queen-mary-university-of-london/xgboost-optimization</a><br>Synced 5 W&B file(s), 0 media file(s), 0 artifact file(s) and 0 other file(s)"
      ],
      "text/plain": [
       "<IPython.core.display.HTML object>"
      ]
     },
     "metadata": {},
     "output_type": "display_data"
    },
    {
     "data": {
      "text/html": [
       "Find logs at: <code>./wandb/run-20250510_151646-i483klb5/logs</code>"
      ],
      "text/plain": [
       "<IPython.core.display.HTML object>"
      ]
     },
     "metadata": {},
     "output_type": "display_data"
    },
    {
     "name": "stderr",
     "output_type": "stream",
     "text": [
      "\u001b[34m\u001b[1mwandb\u001b[0m: Agent Starting Run: q5g1twfd with config:\n",
      "\u001b[34m\u001b[1mwandb\u001b[0m: \tlearning_rate: 0.2820667037792405\n",
      "\u001b[34m\u001b[1mwandb\u001b[0m: \tmax_depth: 7\n",
      "\u001b[34m\u001b[1mwandb\u001b[0m: \tn_estimators: 503\n"
     ]
    },
    {
     "data": {
      "text/html": [
       "Tracking run with wandb version 0.19.11"
      ],
      "text/plain": [
       "<IPython.core.display.HTML object>"
      ]
     },
     "metadata": {},
     "output_type": "display_data"
    },
    {
     "data": {
      "text/html": [
       "Run data is saved locally in <code>/Users/wpw555/Documents/Kaggle/playground_s5e5/notebooks/wandb/run-20250510_151702-q5g1twfd</code>"
      ],
      "text/plain": [
       "<IPython.core.display.HTML object>"
      ]
     },
     "metadata": {},
     "output_type": "display_data"
    },
    {
     "data": {
      "text/html": [
       "Syncing run <strong><a href='https://wandb.ai/benmcguirk-queen-mary-university-of-london/xgboost-optimization/runs/q5g1twfd' target=\"_blank\">sweet-sweep-7</a></strong> to <a href='https://wandb.ai/benmcguirk-queen-mary-university-of-london/xgboost-optimization' target=\"_blank\">Weights & Biases</a> (<a href='https://wandb.me/developer-guide' target=\"_blank\">docs</a>)<br>Sweep page: <a href='https://wandb.ai/benmcguirk-queen-mary-university-of-london/xgboost-optimization/sweeps/kk3lk19c' target=\"_blank\">https://wandb.ai/benmcguirk-queen-mary-university-of-london/xgboost-optimization/sweeps/kk3lk19c</a>"
      ],
      "text/plain": [
       "<IPython.core.display.HTML object>"
      ]
     },
     "metadata": {},
     "output_type": "display_data"
    },
    {
     "data": {
      "text/html": [
       " View project at <a href='https://wandb.ai/benmcguirk-queen-mary-university-of-london/xgboost-optimization' target=\"_blank\">https://wandb.ai/benmcguirk-queen-mary-university-of-london/xgboost-optimization</a>"
      ],
      "text/plain": [
       "<IPython.core.display.HTML object>"
      ]
     },
     "metadata": {},
     "output_type": "display_data"
    },
    {
     "data": {
      "text/html": [
       " View sweep at <a href='https://wandb.ai/benmcguirk-queen-mary-university-of-london/xgboost-optimization/sweeps/kk3lk19c' target=\"_blank\">https://wandb.ai/benmcguirk-queen-mary-university-of-london/xgboost-optimization/sweeps/kk3lk19c</a>"
      ],
      "text/plain": [
       "<IPython.core.display.HTML object>"
      ]
     },
     "metadata": {},
     "output_type": "display_data"
    },
    {
     "data": {
      "text/html": [
       " View run at <a href='https://wandb.ai/benmcguirk-queen-mary-university-of-london/xgboost-optimization/runs/q5g1twfd' target=\"_blank\">https://wandb.ai/benmcguirk-queen-mary-university-of-london/xgboost-optimization/runs/q5g1twfd</a>"
      ],
      "text/plain": [
       "<IPython.core.display.HTML object>"
      ]
     },
     "metadata": {},
     "output_type": "display_data"
    },
    {
     "data": {
      "text/html": [],
      "text/plain": [
       "<IPython.core.display.HTML object>"
      ]
     },
     "metadata": {},
     "output_type": "display_data"
    },
    {
     "data": {
      "text/html": [
       "<br>    <style><br>        .wandb-row {<br>            display: flex;<br>            flex-direction: row;<br>            flex-wrap: wrap;<br>            justify-content: flex-start;<br>            width: 100%;<br>        }<br>        .wandb-col {<br>            display: flex;<br>            flex-direction: column;<br>            flex-basis: 100%;<br>            flex: 1;<br>            padding: 10px;<br>        }<br>    </style><br><div class=\"wandb-row\"><div class=\"wandb-col\"><h3>Run history:</h3><br/><table class=\"wandb\"><tr><td>learning_rate</td><td>▁</td></tr><tr><td>max_depth</td><td>▁</td></tr><tr><td>n_estimators</td><td>▁</td></tr><tr><td>rmsle</td><td>▁</td></tr></table><br/></div><div class=\"wandb-col\"><h3>Run summary:</h3><br/><table class=\"wandb\"><tr><td>learning_rate</td><td>0.28207</td></tr><tr><td>max_depth</td><td>7</td></tr><tr><td>n_estimators</td><td>503</td></tr><tr><td>rmsle</td><td>0.00395</td></tr></table><br/></div></div>"
      ],
      "text/plain": [
       "<IPython.core.display.HTML object>"
      ]
     },
     "metadata": {},
     "output_type": "display_data"
    },
    {
     "data": {
      "text/html": [
       " View run <strong style=\"color:#cdcd00\">sweet-sweep-7</strong> at: <a href='https://wandb.ai/benmcguirk-queen-mary-university-of-london/xgboost-optimization/runs/q5g1twfd' target=\"_blank\">https://wandb.ai/benmcguirk-queen-mary-university-of-london/xgboost-optimization/runs/q5g1twfd</a><br> View project at: <a href='https://wandb.ai/benmcguirk-queen-mary-university-of-london/xgboost-optimization' target=\"_blank\">https://wandb.ai/benmcguirk-queen-mary-university-of-london/xgboost-optimization</a><br>Synced 5 W&B file(s), 0 media file(s), 0 artifact file(s) and 0 other file(s)"
      ],
      "text/plain": [
       "<IPython.core.display.HTML object>"
      ]
     },
     "metadata": {},
     "output_type": "display_data"
    },
    {
     "data": {
      "text/html": [
       "Find logs at: <code>./wandb/run-20250510_151702-q5g1twfd/logs</code>"
      ],
      "text/plain": [
       "<IPython.core.display.HTML object>"
      ]
     },
     "metadata": {},
     "output_type": "display_data"
    },
    {
     "name": "stderr",
     "output_type": "stream",
     "text": [
      "\u001b[34m\u001b[1mwandb\u001b[0m: Sweep Agent: Waiting for job.\n",
      "\u001b[34m\u001b[1mwandb\u001b[0m: Job received.\n",
      "\u001b[34m\u001b[1mwandb\u001b[0m: Agent Starting Run: fbo31dtu with config:\n",
      "\u001b[34m\u001b[1mwandb\u001b[0m: \tlearning_rate: 0.27238313909584627\n",
      "\u001b[34m\u001b[1mwandb\u001b[0m: \tmax_depth: 7\n",
      "\u001b[34m\u001b[1mwandb\u001b[0m: \tn_estimators: 641\n"
     ]
    },
    {
     "data": {
      "text/html": [
       "Tracking run with wandb version 0.19.11"
      ],
      "text/plain": [
       "<IPython.core.display.HTML object>"
      ]
     },
     "metadata": {},
     "output_type": "display_data"
    },
    {
     "data": {
      "text/html": [
       "Run data is saved locally in <code>/Users/wpw555/Documents/Kaggle/playground_s5e5/notebooks/wandb/run-20250510_151723-fbo31dtu</code>"
      ],
      "text/plain": [
       "<IPython.core.display.HTML object>"
      ]
     },
     "metadata": {},
     "output_type": "display_data"
    },
    {
     "data": {
      "text/html": [
       "Syncing run <strong><a href='https://wandb.ai/benmcguirk-queen-mary-university-of-london/xgboost-optimization/runs/fbo31dtu' target=\"_blank\">usual-sweep-8</a></strong> to <a href='https://wandb.ai/benmcguirk-queen-mary-university-of-london/xgboost-optimization' target=\"_blank\">Weights & Biases</a> (<a href='https://wandb.me/developer-guide' target=\"_blank\">docs</a>)<br>Sweep page: <a href='https://wandb.ai/benmcguirk-queen-mary-university-of-london/xgboost-optimization/sweeps/kk3lk19c' target=\"_blank\">https://wandb.ai/benmcguirk-queen-mary-university-of-london/xgboost-optimization/sweeps/kk3lk19c</a>"
      ],
      "text/plain": [
       "<IPython.core.display.HTML object>"
      ]
     },
     "metadata": {},
     "output_type": "display_data"
    },
    {
     "data": {
      "text/html": [
       " View project at <a href='https://wandb.ai/benmcguirk-queen-mary-university-of-london/xgboost-optimization' target=\"_blank\">https://wandb.ai/benmcguirk-queen-mary-university-of-london/xgboost-optimization</a>"
      ],
      "text/plain": [
       "<IPython.core.display.HTML object>"
      ]
     },
     "metadata": {},
     "output_type": "display_data"
    },
    {
     "data": {
      "text/html": [
       " View sweep at <a href='https://wandb.ai/benmcguirk-queen-mary-university-of-london/xgboost-optimization/sweeps/kk3lk19c' target=\"_blank\">https://wandb.ai/benmcguirk-queen-mary-university-of-london/xgboost-optimization/sweeps/kk3lk19c</a>"
      ],
      "text/plain": [
       "<IPython.core.display.HTML object>"
      ]
     },
     "metadata": {},
     "output_type": "display_data"
    },
    {
     "data": {
      "text/html": [
       " View run at <a href='https://wandb.ai/benmcguirk-queen-mary-university-of-london/xgboost-optimization/runs/fbo31dtu' target=\"_blank\">https://wandb.ai/benmcguirk-queen-mary-university-of-london/xgboost-optimization/runs/fbo31dtu</a>"
      ],
      "text/plain": [
       "<IPython.core.display.HTML object>"
      ]
     },
     "metadata": {},
     "output_type": "display_data"
    },
    {
     "data": {
      "text/html": [],
      "text/plain": [
       "<IPython.core.display.HTML object>"
      ]
     },
     "metadata": {},
     "output_type": "display_data"
    },
    {
     "data": {
      "text/html": [
       "<br>    <style><br>        .wandb-row {<br>            display: flex;<br>            flex-direction: row;<br>            flex-wrap: wrap;<br>            justify-content: flex-start;<br>            width: 100%;<br>        }<br>        .wandb-col {<br>            display: flex;<br>            flex-direction: column;<br>            flex-basis: 100%;<br>            flex: 1;<br>            padding: 10px;<br>        }<br>    </style><br><div class=\"wandb-row\"><div class=\"wandb-col\"><h3>Run history:</h3><br/><table class=\"wandb\"><tr><td>learning_rate</td><td>▁</td></tr><tr><td>max_depth</td><td>▁</td></tr><tr><td>n_estimators</td><td>▁</td></tr><tr><td>rmsle</td><td>▁</td></tr></table><br/></div><div class=\"wandb-col\"><h3>Run summary:</h3><br/><table class=\"wandb\"><tr><td>learning_rate</td><td>0.27238</td></tr><tr><td>max_depth</td><td>7</td></tr><tr><td>n_estimators</td><td>641</td></tr><tr><td>rmsle</td><td>0.00395</td></tr></table><br/></div></div>"
      ],
      "text/plain": [
       "<IPython.core.display.HTML object>"
      ]
     },
     "metadata": {},
     "output_type": "display_data"
    },
    {
     "data": {
      "text/html": [
       " View run <strong style=\"color:#cdcd00\">usual-sweep-8</strong> at: <a href='https://wandb.ai/benmcguirk-queen-mary-university-of-london/xgboost-optimization/runs/fbo31dtu' target=\"_blank\">https://wandb.ai/benmcguirk-queen-mary-university-of-london/xgboost-optimization/runs/fbo31dtu</a><br> View project at: <a href='https://wandb.ai/benmcguirk-queen-mary-university-of-london/xgboost-optimization' target=\"_blank\">https://wandb.ai/benmcguirk-queen-mary-university-of-london/xgboost-optimization</a><br>Synced 5 W&B file(s), 0 media file(s), 0 artifact file(s) and 0 other file(s)"
      ],
      "text/plain": [
       "<IPython.core.display.HTML object>"
      ]
     },
     "metadata": {},
     "output_type": "display_data"
    },
    {
     "data": {
      "text/html": [
       "Find logs at: <code>./wandb/run-20250510_151723-fbo31dtu/logs</code>"
      ],
      "text/plain": [
       "<IPython.core.display.HTML object>"
      ]
     },
     "metadata": {},
     "output_type": "display_data"
    },
    {
     "name": "stderr",
     "output_type": "stream",
     "text": [
      "\u001b[34m\u001b[1mwandb\u001b[0m: Agent Starting Run: k64uklx2 with config:\n",
      "\u001b[34m\u001b[1mwandb\u001b[0m: \tlearning_rate: 0.28641138177707365\n",
      "\u001b[34m\u001b[1mwandb\u001b[0m: \tmax_depth: 7\n",
      "\u001b[34m\u001b[1mwandb\u001b[0m: \tn_estimators: 537\n"
     ]
    },
    {
     "data": {
      "text/html": [
       "Tracking run with wandb version 0.19.11"
      ],
      "text/plain": [
       "<IPython.core.display.HTML object>"
      ]
     },
     "metadata": {},
     "output_type": "display_data"
    },
    {
     "data": {
      "text/html": [
       "Run data is saved locally in <code>/Users/wpw555/Documents/Kaggle/playground_s5e5/notebooks/wandb/run-20250510_151738-k64uklx2</code>"
      ],
      "text/plain": [
       "<IPython.core.display.HTML object>"
      ]
     },
     "metadata": {},
     "output_type": "display_data"
    },
    {
     "data": {
      "text/html": [
       "Syncing run <strong><a href='https://wandb.ai/benmcguirk-queen-mary-university-of-london/xgboost-optimization/runs/k64uklx2' target=\"_blank\">happy-sweep-9</a></strong> to <a href='https://wandb.ai/benmcguirk-queen-mary-university-of-london/xgboost-optimization' target=\"_blank\">Weights & Biases</a> (<a href='https://wandb.me/developer-guide' target=\"_blank\">docs</a>)<br>Sweep page: <a href='https://wandb.ai/benmcguirk-queen-mary-university-of-london/xgboost-optimization/sweeps/kk3lk19c' target=\"_blank\">https://wandb.ai/benmcguirk-queen-mary-university-of-london/xgboost-optimization/sweeps/kk3lk19c</a>"
      ],
      "text/plain": [
       "<IPython.core.display.HTML object>"
      ]
     },
     "metadata": {},
     "output_type": "display_data"
    },
    {
     "data": {
      "text/html": [
       " View project at <a href='https://wandb.ai/benmcguirk-queen-mary-university-of-london/xgboost-optimization' target=\"_blank\">https://wandb.ai/benmcguirk-queen-mary-university-of-london/xgboost-optimization</a>"
      ],
      "text/plain": [
       "<IPython.core.display.HTML object>"
      ]
     },
     "metadata": {},
     "output_type": "display_data"
    },
    {
     "data": {
      "text/html": [
       " View sweep at <a href='https://wandb.ai/benmcguirk-queen-mary-university-of-london/xgboost-optimization/sweeps/kk3lk19c' target=\"_blank\">https://wandb.ai/benmcguirk-queen-mary-university-of-london/xgboost-optimization/sweeps/kk3lk19c</a>"
      ],
      "text/plain": [
       "<IPython.core.display.HTML object>"
      ]
     },
     "metadata": {},
     "output_type": "display_data"
    },
    {
     "data": {
      "text/html": [
       " View run at <a href='https://wandb.ai/benmcguirk-queen-mary-university-of-london/xgboost-optimization/runs/k64uklx2' target=\"_blank\">https://wandb.ai/benmcguirk-queen-mary-university-of-london/xgboost-optimization/runs/k64uklx2</a>"
      ],
      "text/plain": [
       "<IPython.core.display.HTML object>"
      ]
     },
     "metadata": {},
     "output_type": "display_data"
    },
    {
     "data": {
      "text/html": [],
      "text/plain": [
       "<IPython.core.display.HTML object>"
      ]
     },
     "metadata": {},
     "output_type": "display_data"
    },
    {
     "data": {
      "text/html": [
       "<br>    <style><br>        .wandb-row {<br>            display: flex;<br>            flex-direction: row;<br>            flex-wrap: wrap;<br>            justify-content: flex-start;<br>            width: 100%;<br>        }<br>        .wandb-col {<br>            display: flex;<br>            flex-direction: column;<br>            flex-basis: 100%;<br>            flex: 1;<br>            padding: 10px;<br>        }<br>    </style><br><div class=\"wandb-row\"><div class=\"wandb-col\"><h3>Run history:</h3><br/><table class=\"wandb\"><tr><td>learning_rate</td><td>▁</td></tr><tr><td>max_depth</td><td>▁</td></tr><tr><td>n_estimators</td><td>▁</td></tr><tr><td>rmsle</td><td>▁</td></tr></table><br/></div><div class=\"wandb-col\"><h3>Run summary:</h3><br/><table class=\"wandb\"><tr><td>learning_rate</td><td>0.28641</td></tr><tr><td>max_depth</td><td>7</td></tr><tr><td>n_estimators</td><td>537</td></tr><tr><td>rmsle</td><td>0.00418</td></tr></table><br/></div></div>"
      ],
      "text/plain": [
       "<IPython.core.display.HTML object>"
      ]
     },
     "metadata": {},
     "output_type": "display_data"
    },
    {
     "data": {
      "text/html": [
       " View run <strong style=\"color:#cdcd00\">happy-sweep-9</strong> at: <a href='https://wandb.ai/benmcguirk-queen-mary-university-of-london/xgboost-optimization/runs/k64uklx2' target=\"_blank\">https://wandb.ai/benmcguirk-queen-mary-university-of-london/xgboost-optimization/runs/k64uklx2</a><br> View project at: <a href='https://wandb.ai/benmcguirk-queen-mary-university-of-london/xgboost-optimization' target=\"_blank\">https://wandb.ai/benmcguirk-queen-mary-university-of-london/xgboost-optimization</a><br>Synced 5 W&B file(s), 0 media file(s), 0 artifact file(s) and 0 other file(s)"
      ],
      "text/plain": [
       "<IPython.core.display.HTML object>"
      ]
     },
     "metadata": {},
     "output_type": "display_data"
    },
    {
     "data": {
      "text/html": [
       "Find logs at: <code>./wandb/run-20250510_151738-k64uklx2/logs</code>"
      ],
      "text/plain": [
       "<IPython.core.display.HTML object>"
      ]
     },
     "metadata": {},
     "output_type": "display_data"
    },
    {
     "name": "stderr",
     "output_type": "stream",
     "text": [
      "\u001b[34m\u001b[1mwandb\u001b[0m: Agent Starting Run: f91ipr4n with config:\n",
      "\u001b[34m\u001b[1mwandb\u001b[0m: \tlearning_rate: 0.24578910474359997\n",
      "\u001b[34m\u001b[1mwandb\u001b[0m: \tmax_depth: 5\n",
      "\u001b[34m\u001b[1mwandb\u001b[0m: \tn_estimators: 312\n"
     ]
    },
    {
     "data": {
      "text/html": [
       "Tracking run with wandb version 0.19.11"
      ],
      "text/plain": [
       "<IPython.core.display.HTML object>"
      ]
     },
     "metadata": {},
     "output_type": "display_data"
    },
    {
     "data": {
      "text/html": [
       "Run data is saved locally in <code>/Users/wpw555/Documents/Kaggle/playground_s5e5/notebooks/wandb/run-20250510_151754-f91ipr4n</code>"
      ],
      "text/plain": [
       "<IPython.core.display.HTML object>"
      ]
     },
     "metadata": {},
     "output_type": "display_data"
    },
    {
     "data": {
      "text/html": [
       "Syncing run <strong><a href='https://wandb.ai/benmcguirk-queen-mary-university-of-london/xgboost-optimization/runs/f91ipr4n' target=\"_blank\">jumping-sweep-10</a></strong> to <a href='https://wandb.ai/benmcguirk-queen-mary-university-of-london/xgboost-optimization' target=\"_blank\">Weights & Biases</a> (<a href='https://wandb.me/developer-guide' target=\"_blank\">docs</a>)<br>Sweep page: <a href='https://wandb.ai/benmcguirk-queen-mary-university-of-london/xgboost-optimization/sweeps/kk3lk19c' target=\"_blank\">https://wandb.ai/benmcguirk-queen-mary-university-of-london/xgboost-optimization/sweeps/kk3lk19c</a>"
      ],
      "text/plain": [
       "<IPython.core.display.HTML object>"
      ]
     },
     "metadata": {},
     "output_type": "display_data"
    },
    {
     "data": {
      "text/html": [
       " View project at <a href='https://wandb.ai/benmcguirk-queen-mary-university-of-london/xgboost-optimization' target=\"_blank\">https://wandb.ai/benmcguirk-queen-mary-university-of-london/xgboost-optimization</a>"
      ],
      "text/plain": [
       "<IPython.core.display.HTML object>"
      ]
     },
     "metadata": {},
     "output_type": "display_data"
    },
    {
     "data": {
      "text/html": [
       " View sweep at <a href='https://wandb.ai/benmcguirk-queen-mary-university-of-london/xgboost-optimization/sweeps/kk3lk19c' target=\"_blank\">https://wandb.ai/benmcguirk-queen-mary-university-of-london/xgboost-optimization/sweeps/kk3lk19c</a>"
      ],
      "text/plain": [
       "<IPython.core.display.HTML object>"
      ]
     },
     "metadata": {},
     "output_type": "display_data"
    },
    {
     "data": {
      "text/html": [
       " View run at <a href='https://wandb.ai/benmcguirk-queen-mary-university-of-london/xgboost-optimization/runs/f91ipr4n' target=\"_blank\">https://wandb.ai/benmcguirk-queen-mary-university-of-london/xgboost-optimization/runs/f91ipr4n</a>"
      ],
      "text/plain": [
       "<IPython.core.display.HTML object>"
      ]
     },
     "metadata": {},
     "output_type": "display_data"
    },
    {
     "data": {
      "text/html": [],
      "text/plain": [
       "<IPython.core.display.HTML object>"
      ]
     },
     "metadata": {},
     "output_type": "display_data"
    },
    {
     "data": {
      "text/html": [
       "<br>    <style><br>        .wandb-row {<br>            display: flex;<br>            flex-direction: row;<br>            flex-wrap: wrap;<br>            justify-content: flex-start;<br>            width: 100%;<br>        }<br>        .wandb-col {<br>            display: flex;<br>            flex-direction: column;<br>            flex-basis: 100%;<br>            flex: 1;<br>            padding: 10px;<br>        }<br>    </style><br><div class=\"wandb-row\"><div class=\"wandb-col\"><h3>Run history:</h3><br/><table class=\"wandb\"><tr><td>learning_rate</td><td>▁</td></tr><tr><td>max_depth</td><td>▁</td></tr><tr><td>n_estimators</td><td>▁</td></tr><tr><td>rmsle</td><td>▁</td></tr></table><br/></div><div class=\"wandb-col\"><h3>Run summary:</h3><br/><table class=\"wandb\"><tr><td>learning_rate</td><td>0.24579</td></tr><tr><td>max_depth</td><td>5</td></tr><tr><td>n_estimators</td><td>312</td></tr><tr><td>rmsle</td><td>0.00425</td></tr></table><br/></div></div>"
      ],
      "text/plain": [
       "<IPython.core.display.HTML object>"
      ]
     },
     "metadata": {},
     "output_type": "display_data"
    },
    {
     "data": {
      "text/html": [
       " View run <strong style=\"color:#cdcd00\">jumping-sweep-10</strong> at: <a href='https://wandb.ai/benmcguirk-queen-mary-university-of-london/xgboost-optimization/runs/f91ipr4n' target=\"_blank\">https://wandb.ai/benmcguirk-queen-mary-university-of-london/xgboost-optimization/runs/f91ipr4n</a><br> View project at: <a href='https://wandb.ai/benmcguirk-queen-mary-university-of-london/xgboost-optimization' target=\"_blank\">https://wandb.ai/benmcguirk-queen-mary-university-of-london/xgboost-optimization</a><br>Synced 5 W&B file(s), 0 media file(s), 0 artifact file(s) and 0 other file(s)"
      ],
      "text/plain": [
       "<IPython.core.display.HTML object>"
      ]
     },
     "metadata": {},
     "output_type": "display_data"
    },
    {
     "data": {
      "text/html": [
       "Find logs at: <code>./wandb/run-20250510_151754-f91ipr4n/logs</code>"
      ],
      "text/plain": [
       "<IPython.core.display.HTML object>"
      ]
     },
     "metadata": {},
     "output_type": "display_data"
    },
    {
     "name": "stderr",
     "output_type": "stream",
     "text": [
      "\u001b[34m\u001b[1mwandb\u001b[0m: Agent Starting Run: xes3wrgw with config:\n",
      "\u001b[34m\u001b[1mwandb\u001b[0m: \tlearning_rate: 0.12670972484623502\n",
      "\u001b[34m\u001b[1mwandb\u001b[0m: \tmax_depth: 5\n",
      "\u001b[34m\u001b[1mwandb\u001b[0m: \tn_estimators: 751\n"
     ]
    },
    {
     "data": {
      "text/html": [
       "Tracking run with wandb version 0.19.11"
      ],
      "text/plain": [
       "<IPython.core.display.HTML object>"
      ]
     },
     "metadata": {},
     "output_type": "display_data"
    },
    {
     "data": {
      "text/html": [
       "Run data is saved locally in <code>/Users/wpw555/Documents/Kaggle/playground_s5e5/notebooks/wandb/run-20250510_151804-xes3wrgw</code>"
      ],
      "text/plain": [
       "<IPython.core.display.HTML object>"
      ]
     },
     "metadata": {},
     "output_type": "display_data"
    },
    {
     "data": {
      "text/html": [
       "Syncing run <strong><a href='https://wandb.ai/benmcguirk-queen-mary-university-of-london/xgboost-optimization/runs/xes3wrgw' target=\"_blank\">dazzling-sweep-11</a></strong> to <a href='https://wandb.ai/benmcguirk-queen-mary-university-of-london/xgboost-optimization' target=\"_blank\">Weights & Biases</a> (<a href='https://wandb.me/developer-guide' target=\"_blank\">docs</a>)<br>Sweep page: <a href='https://wandb.ai/benmcguirk-queen-mary-university-of-london/xgboost-optimization/sweeps/kk3lk19c' target=\"_blank\">https://wandb.ai/benmcguirk-queen-mary-university-of-london/xgboost-optimization/sweeps/kk3lk19c</a>"
      ],
      "text/plain": [
       "<IPython.core.display.HTML object>"
      ]
     },
     "metadata": {},
     "output_type": "display_data"
    },
    {
     "data": {
      "text/html": [
       " View project at <a href='https://wandb.ai/benmcguirk-queen-mary-university-of-london/xgboost-optimization' target=\"_blank\">https://wandb.ai/benmcguirk-queen-mary-university-of-london/xgboost-optimization</a>"
      ],
      "text/plain": [
       "<IPython.core.display.HTML object>"
      ]
     },
     "metadata": {},
     "output_type": "display_data"
    },
    {
     "data": {
      "text/html": [
       " View sweep at <a href='https://wandb.ai/benmcguirk-queen-mary-university-of-london/xgboost-optimization/sweeps/kk3lk19c' target=\"_blank\">https://wandb.ai/benmcguirk-queen-mary-university-of-london/xgboost-optimization/sweeps/kk3lk19c</a>"
      ],
      "text/plain": [
       "<IPython.core.display.HTML object>"
      ]
     },
     "metadata": {},
     "output_type": "display_data"
    },
    {
     "data": {
      "text/html": [
       " View run at <a href='https://wandb.ai/benmcguirk-queen-mary-university-of-london/xgboost-optimization/runs/xes3wrgw' target=\"_blank\">https://wandb.ai/benmcguirk-queen-mary-university-of-london/xgboost-optimization/runs/xes3wrgw</a>"
      ],
      "text/plain": [
       "<IPython.core.display.HTML object>"
      ]
     },
     "metadata": {},
     "output_type": "display_data"
    },
    {
     "data": {
      "text/html": [],
      "text/plain": [
       "<IPython.core.display.HTML object>"
      ]
     },
     "metadata": {},
     "output_type": "display_data"
    },
    {
     "data": {
      "text/html": [
       "<br>    <style><br>        .wandb-row {<br>            display: flex;<br>            flex-direction: row;<br>            flex-wrap: wrap;<br>            justify-content: flex-start;<br>            width: 100%;<br>        }<br>        .wandb-col {<br>            display: flex;<br>            flex-direction: column;<br>            flex-basis: 100%;<br>            flex: 1;<br>            padding: 10px;<br>        }<br>    </style><br><div class=\"wandb-row\"><div class=\"wandb-col\"><h3>Run history:</h3><br/><table class=\"wandb\"><tr><td>learning_rate</td><td>▁</td></tr><tr><td>max_depth</td><td>▁</td></tr><tr><td>n_estimators</td><td>▁</td></tr><tr><td>rmsle</td><td>▁</td></tr></table><br/></div><div class=\"wandb-col\"><h3>Run summary:</h3><br/><table class=\"wandb\"><tr><td>learning_rate</td><td>0.12671</td></tr><tr><td>max_depth</td><td>5</td></tr><tr><td>n_estimators</td><td>751</td></tr><tr><td>rmsle</td><td>0.00397</td></tr></table><br/></div></div>"
      ],
      "text/plain": [
       "<IPython.core.display.HTML object>"
      ]
     },
     "metadata": {},
     "output_type": "display_data"
    },
    {
     "data": {
      "text/html": [
       " View run <strong style=\"color:#cdcd00\">dazzling-sweep-11</strong> at: <a href='https://wandb.ai/benmcguirk-queen-mary-university-of-london/xgboost-optimization/runs/xes3wrgw' target=\"_blank\">https://wandb.ai/benmcguirk-queen-mary-university-of-london/xgboost-optimization/runs/xes3wrgw</a><br> View project at: <a href='https://wandb.ai/benmcguirk-queen-mary-university-of-london/xgboost-optimization' target=\"_blank\">https://wandb.ai/benmcguirk-queen-mary-university-of-london/xgboost-optimization</a><br>Synced 5 W&B file(s), 0 media file(s), 0 artifact file(s) and 0 other file(s)"
      ],
      "text/plain": [
       "<IPython.core.display.HTML object>"
      ]
     },
     "metadata": {},
     "output_type": "display_data"
    },
    {
     "data": {
      "text/html": [
       "Find logs at: <code>./wandb/run-20250510_151804-xes3wrgw/logs</code>"
      ],
      "text/plain": [
       "<IPython.core.display.HTML object>"
      ]
     },
     "metadata": {},
     "output_type": "display_data"
    },
    {
     "name": "stderr",
     "output_type": "stream",
     "text": [
      "\u001b[34m\u001b[1mwandb\u001b[0m: Agent Starting Run: o59ly9nb with config:\n",
      "\u001b[34m\u001b[1mwandb\u001b[0m: \tlearning_rate: 0.2805643371475091\n",
      "\u001b[34m\u001b[1mwandb\u001b[0m: \tmax_depth: 7\n",
      "\u001b[34m\u001b[1mwandb\u001b[0m: \tn_estimators: 645\n"
     ]
    },
    {
     "data": {
      "text/html": [
       "Tracking run with wandb version 0.19.11"
      ],
      "text/plain": [
       "<IPython.core.display.HTML object>"
      ]
     },
     "metadata": {},
     "output_type": "display_data"
    },
    {
     "data": {
      "text/html": [
       "Run data is saved locally in <code>/Users/wpw555/Documents/Kaggle/playground_s5e5/notebooks/wandb/run-20250510_151821-o59ly9nb</code>"
      ],
      "text/plain": [
       "<IPython.core.display.HTML object>"
      ]
     },
     "metadata": {},
     "output_type": "display_data"
    },
    {
     "data": {
      "text/html": [
       "Syncing run <strong><a href='https://wandb.ai/benmcguirk-queen-mary-university-of-london/xgboost-optimization/runs/o59ly9nb' target=\"_blank\">restful-sweep-12</a></strong> to <a href='https://wandb.ai/benmcguirk-queen-mary-university-of-london/xgboost-optimization' target=\"_blank\">Weights & Biases</a> (<a href='https://wandb.me/developer-guide' target=\"_blank\">docs</a>)<br>Sweep page: <a href='https://wandb.ai/benmcguirk-queen-mary-university-of-london/xgboost-optimization/sweeps/kk3lk19c' target=\"_blank\">https://wandb.ai/benmcguirk-queen-mary-university-of-london/xgboost-optimization/sweeps/kk3lk19c</a>"
      ],
      "text/plain": [
       "<IPython.core.display.HTML object>"
      ]
     },
     "metadata": {},
     "output_type": "display_data"
    },
    {
     "data": {
      "text/html": [
       " View project at <a href='https://wandb.ai/benmcguirk-queen-mary-university-of-london/xgboost-optimization' target=\"_blank\">https://wandb.ai/benmcguirk-queen-mary-university-of-london/xgboost-optimization</a>"
      ],
      "text/plain": [
       "<IPython.core.display.HTML object>"
      ]
     },
     "metadata": {},
     "output_type": "display_data"
    },
    {
     "data": {
      "text/html": [
       " View sweep at <a href='https://wandb.ai/benmcguirk-queen-mary-university-of-london/xgboost-optimization/sweeps/kk3lk19c' target=\"_blank\">https://wandb.ai/benmcguirk-queen-mary-university-of-london/xgboost-optimization/sweeps/kk3lk19c</a>"
      ],
      "text/plain": [
       "<IPython.core.display.HTML object>"
      ]
     },
     "metadata": {},
     "output_type": "display_data"
    },
    {
     "data": {
      "text/html": [
       " View run at <a href='https://wandb.ai/benmcguirk-queen-mary-university-of-london/xgboost-optimization/runs/o59ly9nb' target=\"_blank\">https://wandb.ai/benmcguirk-queen-mary-university-of-london/xgboost-optimization/runs/o59ly9nb</a>"
      ],
      "text/plain": [
       "<IPython.core.display.HTML object>"
      ]
     },
     "metadata": {},
     "output_type": "display_data"
    },
    {
     "data": {
      "text/html": [],
      "text/plain": [
       "<IPython.core.display.HTML object>"
      ]
     },
     "metadata": {},
     "output_type": "display_data"
    },
    {
     "data": {
      "text/html": [
       "<br>    <style><br>        .wandb-row {<br>            display: flex;<br>            flex-direction: row;<br>            flex-wrap: wrap;<br>            justify-content: flex-start;<br>            width: 100%;<br>        }<br>        .wandb-col {<br>            display: flex;<br>            flex-direction: column;<br>            flex-basis: 100%;<br>            flex: 1;<br>            padding: 10px;<br>        }<br>    </style><br><div class=\"wandb-row\"><div class=\"wandb-col\"><h3>Run history:</h3><br/><table class=\"wandb\"><tr><td>learning_rate</td><td>▁</td></tr><tr><td>max_depth</td><td>▁</td></tr><tr><td>n_estimators</td><td>▁</td></tr><tr><td>rmsle</td><td>▁</td></tr></table><br/></div><div class=\"wandb-col\"><h3>Run summary:</h3><br/><table class=\"wandb\"><tr><td>learning_rate</td><td>0.28056</td></tr><tr><td>max_depth</td><td>7</td></tr><tr><td>n_estimators</td><td>645</td></tr><tr><td>rmsle</td><td>0.004</td></tr></table><br/></div></div>"
      ],
      "text/plain": [
       "<IPython.core.display.HTML object>"
      ]
     },
     "metadata": {},
     "output_type": "display_data"
    },
    {
     "data": {
      "text/html": [
       " View run <strong style=\"color:#cdcd00\">restful-sweep-12</strong> at: <a href='https://wandb.ai/benmcguirk-queen-mary-university-of-london/xgboost-optimization/runs/o59ly9nb' target=\"_blank\">https://wandb.ai/benmcguirk-queen-mary-university-of-london/xgboost-optimization/runs/o59ly9nb</a><br> View project at: <a href='https://wandb.ai/benmcguirk-queen-mary-university-of-london/xgboost-optimization' target=\"_blank\">https://wandb.ai/benmcguirk-queen-mary-university-of-london/xgboost-optimization</a><br>Synced 5 W&B file(s), 0 media file(s), 0 artifact file(s) and 0 other file(s)"
      ],
      "text/plain": [
       "<IPython.core.display.HTML object>"
      ]
     },
     "metadata": {},
     "output_type": "display_data"
    },
    {
     "data": {
      "text/html": [
       "Find logs at: <code>./wandb/run-20250510_151821-o59ly9nb/logs</code>"
      ],
      "text/plain": [
       "<IPython.core.display.HTML object>"
      ]
     },
     "metadata": {},
     "output_type": "display_data"
    },
    {
     "name": "stderr",
     "output_type": "stream",
     "text": [
      "\u001b[34m\u001b[1mwandb\u001b[0m: Agent Starting Run: 8k7ajkgg with config:\n",
      "\u001b[34m\u001b[1mwandb\u001b[0m: \tlearning_rate: 0.13939937816145853\n",
      "\u001b[34m\u001b[1mwandb\u001b[0m: \tmax_depth: 3\n",
      "\u001b[34m\u001b[1mwandb\u001b[0m: \tn_estimators: 492\n"
     ]
    },
    {
     "data": {
      "text/html": [
       "Tracking run with wandb version 0.19.11"
      ],
      "text/plain": [
       "<IPython.core.display.HTML object>"
      ]
     },
     "metadata": {},
     "output_type": "display_data"
    },
    {
     "data": {
      "text/html": [
       "Run data is saved locally in <code>/Users/wpw555/Documents/Kaggle/playground_s5e5/notebooks/wandb/run-20250510_151837-8k7ajkgg</code>"
      ],
      "text/plain": [
       "<IPython.core.display.HTML object>"
      ]
     },
     "metadata": {},
     "output_type": "display_data"
    },
    {
     "data": {
      "text/html": [
       "Syncing run <strong><a href='https://wandb.ai/benmcguirk-queen-mary-university-of-london/xgboost-optimization/runs/8k7ajkgg' target=\"_blank\">resilient-sweep-13</a></strong> to <a href='https://wandb.ai/benmcguirk-queen-mary-university-of-london/xgboost-optimization' target=\"_blank\">Weights & Biases</a> (<a href='https://wandb.me/developer-guide' target=\"_blank\">docs</a>)<br>Sweep page: <a href='https://wandb.ai/benmcguirk-queen-mary-university-of-london/xgboost-optimization/sweeps/kk3lk19c' target=\"_blank\">https://wandb.ai/benmcguirk-queen-mary-university-of-london/xgboost-optimization/sweeps/kk3lk19c</a>"
      ],
      "text/plain": [
       "<IPython.core.display.HTML object>"
      ]
     },
     "metadata": {},
     "output_type": "display_data"
    },
    {
     "data": {
      "text/html": [
       " View project at <a href='https://wandb.ai/benmcguirk-queen-mary-university-of-london/xgboost-optimization' target=\"_blank\">https://wandb.ai/benmcguirk-queen-mary-university-of-london/xgboost-optimization</a>"
      ],
      "text/plain": [
       "<IPython.core.display.HTML object>"
      ]
     },
     "metadata": {},
     "output_type": "display_data"
    },
    {
     "data": {
      "text/html": [
       " View sweep at <a href='https://wandb.ai/benmcguirk-queen-mary-university-of-london/xgboost-optimization/sweeps/kk3lk19c' target=\"_blank\">https://wandb.ai/benmcguirk-queen-mary-university-of-london/xgboost-optimization/sweeps/kk3lk19c</a>"
      ],
      "text/plain": [
       "<IPython.core.display.HTML object>"
      ]
     },
     "metadata": {},
     "output_type": "display_data"
    },
    {
     "data": {
      "text/html": [
       " View run at <a href='https://wandb.ai/benmcguirk-queen-mary-university-of-london/xgboost-optimization/runs/8k7ajkgg' target=\"_blank\">https://wandb.ai/benmcguirk-queen-mary-university-of-london/xgboost-optimization/runs/8k7ajkgg</a>"
      ],
      "text/plain": [
       "<IPython.core.display.HTML object>"
      ]
     },
     "metadata": {},
     "output_type": "display_data"
    },
    {
     "data": {
      "text/html": [],
      "text/plain": [
       "<IPython.core.display.HTML object>"
      ]
     },
     "metadata": {},
     "output_type": "display_data"
    },
    {
     "data": {
      "text/html": [
       "<br>    <style><br>        .wandb-row {<br>            display: flex;<br>            flex-direction: row;<br>            flex-wrap: wrap;<br>            justify-content: flex-start;<br>            width: 100%;<br>        }<br>        .wandb-col {<br>            display: flex;<br>            flex-direction: column;<br>            flex-basis: 100%;<br>            flex: 1;<br>            padding: 10px;<br>        }<br>    </style><br><div class=\"wandb-row\"><div class=\"wandb-col\"><h3>Run history:</h3><br/><table class=\"wandb\"><tr><td>learning_rate</td><td>▁</td></tr><tr><td>max_depth</td><td>▁</td></tr><tr><td>n_estimators</td><td>▁</td></tr><tr><td>rmsle</td><td>▁</td></tr></table><br/></div><div class=\"wandb-col\"><h3>Run summary:</h3><br/><table class=\"wandb\"><tr><td>learning_rate</td><td>0.1394</td></tr><tr><td>max_depth</td><td>3</td></tr><tr><td>n_estimators</td><td>492</td></tr><tr><td>rmsle</td><td>0.00514</td></tr></table><br/></div></div>"
      ],
      "text/plain": [
       "<IPython.core.display.HTML object>"
      ]
     },
     "metadata": {},
     "output_type": "display_data"
    },
    {
     "data": {
      "text/html": [
       " View run <strong style=\"color:#cdcd00\">resilient-sweep-13</strong> at: <a href='https://wandb.ai/benmcguirk-queen-mary-university-of-london/xgboost-optimization/runs/8k7ajkgg' target=\"_blank\">https://wandb.ai/benmcguirk-queen-mary-university-of-london/xgboost-optimization/runs/8k7ajkgg</a><br> View project at: <a href='https://wandb.ai/benmcguirk-queen-mary-university-of-london/xgboost-optimization' target=\"_blank\">https://wandb.ai/benmcguirk-queen-mary-university-of-london/xgboost-optimization</a><br>Synced 5 W&B file(s), 0 media file(s), 0 artifact file(s) and 0 other file(s)"
      ],
      "text/plain": [
       "<IPython.core.display.HTML object>"
      ]
     },
     "metadata": {},
     "output_type": "display_data"
    },
    {
     "data": {
      "text/html": [
       "Find logs at: <code>./wandb/run-20250510_151837-8k7ajkgg/logs</code>"
      ],
      "text/plain": [
       "<IPython.core.display.HTML object>"
      ]
     },
     "metadata": {},
     "output_type": "display_data"
    },
    {
     "name": "stderr",
     "output_type": "stream",
     "text": [
      "\u001b[34m\u001b[1mwandb\u001b[0m: Agent Starting Run: cdswkoks with config:\n",
      "\u001b[34m\u001b[1mwandb\u001b[0m: \tlearning_rate: 0.2481805135004256\n",
      "\u001b[34m\u001b[1mwandb\u001b[0m: \tmax_depth: 7\n",
      "\u001b[34m\u001b[1mwandb\u001b[0m: \tn_estimators: 591\n"
     ]
    },
    {
     "data": {
      "text/html": [
       "Tracking run with wandb version 0.19.11"
      ],
      "text/plain": [
       "<IPython.core.display.HTML object>"
      ]
     },
     "metadata": {},
     "output_type": "display_data"
    },
    {
     "data": {
      "text/html": [
       "Run data is saved locally in <code>/Users/wpw555/Documents/Kaggle/playground_s5e5/notebooks/wandb/run-20250510_151847-cdswkoks</code>"
      ],
      "text/plain": [
       "<IPython.core.display.HTML object>"
      ]
     },
     "metadata": {},
     "output_type": "display_data"
    },
    {
     "data": {
      "text/html": [
       "Syncing run <strong><a href='https://wandb.ai/benmcguirk-queen-mary-university-of-london/xgboost-optimization/runs/cdswkoks' target=\"_blank\">clean-sweep-14</a></strong> to <a href='https://wandb.ai/benmcguirk-queen-mary-university-of-london/xgboost-optimization' target=\"_blank\">Weights & Biases</a> (<a href='https://wandb.me/developer-guide' target=\"_blank\">docs</a>)<br>Sweep page: <a href='https://wandb.ai/benmcguirk-queen-mary-university-of-london/xgboost-optimization/sweeps/kk3lk19c' target=\"_blank\">https://wandb.ai/benmcguirk-queen-mary-university-of-london/xgboost-optimization/sweeps/kk3lk19c</a>"
      ],
      "text/plain": [
       "<IPython.core.display.HTML object>"
      ]
     },
     "metadata": {},
     "output_type": "display_data"
    },
    {
     "data": {
      "text/html": [
       " View project at <a href='https://wandb.ai/benmcguirk-queen-mary-university-of-london/xgboost-optimization' target=\"_blank\">https://wandb.ai/benmcguirk-queen-mary-university-of-london/xgboost-optimization</a>"
      ],
      "text/plain": [
       "<IPython.core.display.HTML object>"
      ]
     },
     "metadata": {},
     "output_type": "display_data"
    },
    {
     "data": {
      "text/html": [
       " View sweep at <a href='https://wandb.ai/benmcguirk-queen-mary-university-of-london/xgboost-optimization/sweeps/kk3lk19c' target=\"_blank\">https://wandb.ai/benmcguirk-queen-mary-university-of-london/xgboost-optimization/sweeps/kk3lk19c</a>"
      ],
      "text/plain": [
       "<IPython.core.display.HTML object>"
      ]
     },
     "metadata": {},
     "output_type": "display_data"
    },
    {
     "data": {
      "text/html": [
       " View run at <a href='https://wandb.ai/benmcguirk-queen-mary-university-of-london/xgboost-optimization/runs/cdswkoks' target=\"_blank\">https://wandb.ai/benmcguirk-queen-mary-university-of-london/xgboost-optimization/runs/cdswkoks</a>"
      ],
      "text/plain": [
       "<IPython.core.display.HTML object>"
      ]
     },
     "metadata": {},
     "output_type": "display_data"
    },
    {
     "data": {
      "text/html": [],
      "text/plain": [
       "<IPython.core.display.HTML object>"
      ]
     },
     "metadata": {},
     "output_type": "display_data"
    },
    {
     "data": {
      "text/html": [
       "<br>    <style><br>        .wandb-row {<br>            display: flex;<br>            flex-direction: row;<br>            flex-wrap: wrap;<br>            justify-content: flex-start;<br>            width: 100%;<br>        }<br>        .wandb-col {<br>            display: flex;<br>            flex-direction: column;<br>            flex-basis: 100%;<br>            flex: 1;<br>            padding: 10px;<br>        }<br>    </style><br><div class=\"wandb-row\"><div class=\"wandb-col\"><h3>Run history:</h3><br/><table class=\"wandb\"><tr><td>learning_rate</td><td>▁</td></tr><tr><td>max_depth</td><td>▁</td></tr><tr><td>n_estimators</td><td>▁</td></tr><tr><td>rmsle</td><td>▁</td></tr></table><br/></div><div class=\"wandb-col\"><h3>Run summary:</h3><br/><table class=\"wandb\"><tr><td>learning_rate</td><td>0.24818</td></tr><tr><td>max_depth</td><td>7</td></tr><tr><td>n_estimators</td><td>591</td></tr><tr><td>rmsle</td><td>0.00393</td></tr></table><br/></div></div>"
      ],
      "text/plain": [
       "<IPython.core.display.HTML object>"
      ]
     },
     "metadata": {},
     "output_type": "display_data"
    },
    {
     "data": {
      "text/html": [
       " View run <strong style=\"color:#cdcd00\">clean-sweep-14</strong> at: <a href='https://wandb.ai/benmcguirk-queen-mary-university-of-london/xgboost-optimization/runs/cdswkoks' target=\"_blank\">https://wandb.ai/benmcguirk-queen-mary-university-of-london/xgboost-optimization/runs/cdswkoks</a><br> View project at: <a href='https://wandb.ai/benmcguirk-queen-mary-university-of-london/xgboost-optimization' target=\"_blank\">https://wandb.ai/benmcguirk-queen-mary-university-of-london/xgboost-optimization</a><br>Synced 5 W&B file(s), 0 media file(s), 0 artifact file(s) and 0 other file(s)"
      ],
      "text/plain": [
       "<IPython.core.display.HTML object>"
      ]
     },
     "metadata": {},
     "output_type": "display_data"
    },
    {
     "data": {
      "text/html": [
       "Find logs at: <code>./wandb/run-20250510_151847-cdswkoks/logs</code>"
      ],
      "text/plain": [
       "<IPython.core.display.HTML object>"
      ]
     },
     "metadata": {},
     "output_type": "display_data"
    },
    {
     "name": "stderr",
     "output_type": "stream",
     "text": [
      "\u001b[34m\u001b[1mwandb\u001b[0m: Agent Starting Run: 2lw3kimj with config:\n",
      "\u001b[34m\u001b[1mwandb\u001b[0m: \tlearning_rate: 0.24892377201395613\n",
      "\u001b[34m\u001b[1mwandb\u001b[0m: \tmax_depth: 7\n",
      "\u001b[34m\u001b[1mwandb\u001b[0m: \tn_estimators: 735\n"
     ]
    },
    {
     "data": {
      "text/html": [
       "Tracking run with wandb version 0.19.11"
      ],
      "text/plain": [
       "<IPython.core.display.HTML object>"
      ]
     },
     "metadata": {},
     "output_type": "display_data"
    },
    {
     "data": {
      "text/html": [
       "Run data is saved locally in <code>/Users/wpw555/Documents/Kaggle/playground_s5e5/notebooks/wandb/run-20250510_151904-2lw3kimj</code>"
      ],
      "text/plain": [
       "<IPython.core.display.HTML object>"
      ]
     },
     "metadata": {},
     "output_type": "display_data"
    },
    {
     "data": {
      "text/html": [
       "Syncing run <strong><a href='https://wandb.ai/benmcguirk-queen-mary-university-of-london/xgboost-optimization/runs/2lw3kimj' target=\"_blank\">sweet-sweep-15</a></strong> to <a href='https://wandb.ai/benmcguirk-queen-mary-university-of-london/xgboost-optimization' target=\"_blank\">Weights & Biases</a> (<a href='https://wandb.me/developer-guide' target=\"_blank\">docs</a>)<br>Sweep page: <a href='https://wandb.ai/benmcguirk-queen-mary-university-of-london/xgboost-optimization/sweeps/kk3lk19c' target=\"_blank\">https://wandb.ai/benmcguirk-queen-mary-university-of-london/xgboost-optimization/sweeps/kk3lk19c</a>"
      ],
      "text/plain": [
       "<IPython.core.display.HTML object>"
      ]
     },
     "metadata": {},
     "output_type": "display_data"
    },
    {
     "data": {
      "text/html": [
       " View project at <a href='https://wandb.ai/benmcguirk-queen-mary-university-of-london/xgboost-optimization' target=\"_blank\">https://wandb.ai/benmcguirk-queen-mary-university-of-london/xgboost-optimization</a>"
      ],
      "text/plain": [
       "<IPython.core.display.HTML object>"
      ]
     },
     "metadata": {},
     "output_type": "display_data"
    },
    {
     "data": {
      "text/html": [
       " View sweep at <a href='https://wandb.ai/benmcguirk-queen-mary-university-of-london/xgboost-optimization/sweeps/kk3lk19c' target=\"_blank\">https://wandb.ai/benmcguirk-queen-mary-university-of-london/xgboost-optimization/sweeps/kk3lk19c</a>"
      ],
      "text/plain": [
       "<IPython.core.display.HTML object>"
      ]
     },
     "metadata": {},
     "output_type": "display_data"
    },
    {
     "data": {
      "text/html": [
       " View run at <a href='https://wandb.ai/benmcguirk-queen-mary-university-of-london/xgboost-optimization/runs/2lw3kimj' target=\"_blank\">https://wandb.ai/benmcguirk-queen-mary-university-of-london/xgboost-optimization/runs/2lw3kimj</a>"
      ],
      "text/plain": [
       "<IPython.core.display.HTML object>"
      ]
     },
     "metadata": {},
     "output_type": "display_data"
    },
    {
     "data": {
      "text/html": [],
      "text/plain": [
       "<IPython.core.display.HTML object>"
      ]
     },
     "metadata": {},
     "output_type": "display_data"
    },
    {
     "data": {
      "text/html": [
       "<br>    <style><br>        .wandb-row {<br>            display: flex;<br>            flex-direction: row;<br>            flex-wrap: wrap;<br>            justify-content: flex-start;<br>            width: 100%;<br>        }<br>        .wandb-col {<br>            display: flex;<br>            flex-direction: column;<br>            flex-basis: 100%;<br>            flex: 1;<br>            padding: 10px;<br>        }<br>    </style><br><div class=\"wandb-row\"><div class=\"wandb-col\"><h3>Run history:</h3><br/><table class=\"wandb\"><tr><td>learning_rate</td><td>▁</td></tr><tr><td>max_depth</td><td>▁</td></tr><tr><td>n_estimators</td><td>▁</td></tr><tr><td>rmsle</td><td>▁</td></tr></table><br/></div><div class=\"wandb-col\"><h3>Run summary:</h3><br/><table class=\"wandb\"><tr><td>learning_rate</td><td>0.24892</td></tr><tr><td>max_depth</td><td>7</td></tr><tr><td>n_estimators</td><td>735</td></tr><tr><td>rmsle</td><td>0.00391</td></tr></table><br/></div></div>"
      ],
      "text/plain": [
       "<IPython.core.display.HTML object>"
      ]
     },
     "metadata": {},
     "output_type": "display_data"
    },
    {
     "data": {
      "text/html": [
       " View run <strong style=\"color:#cdcd00\">sweet-sweep-15</strong> at: <a href='https://wandb.ai/benmcguirk-queen-mary-university-of-london/xgboost-optimization/runs/2lw3kimj' target=\"_blank\">https://wandb.ai/benmcguirk-queen-mary-university-of-london/xgboost-optimization/runs/2lw3kimj</a><br> View project at: <a href='https://wandb.ai/benmcguirk-queen-mary-university-of-london/xgboost-optimization' target=\"_blank\">https://wandb.ai/benmcguirk-queen-mary-university-of-london/xgboost-optimization</a><br>Synced 5 W&B file(s), 0 media file(s), 0 artifact file(s) and 0 other file(s)"
      ],
      "text/plain": [
       "<IPython.core.display.HTML object>"
      ]
     },
     "metadata": {},
     "output_type": "display_data"
    },
    {
     "data": {
      "text/html": [
       "Find logs at: <code>./wandb/run-20250510_151904-2lw3kimj/logs</code>"
      ],
      "text/plain": [
       "<IPython.core.display.HTML object>"
      ]
     },
     "metadata": {},
     "output_type": "display_data"
    },
    {
     "name": "stderr",
     "output_type": "stream",
     "text": [
      "\u001b[34m\u001b[1mwandb\u001b[0m: Agent Starting Run: 7jfyy3go with config:\n",
      "\u001b[34m\u001b[1mwandb\u001b[0m: \tlearning_rate: 0.22156317250847857\n",
      "\u001b[34m\u001b[1mwandb\u001b[0m: \tmax_depth: 7\n",
      "\u001b[34m\u001b[1mwandb\u001b[0m: \tn_estimators: 676\n"
     ]
    },
    {
     "data": {
      "text/html": [
       "Tracking run with wandb version 0.19.11"
      ],
      "text/plain": [
       "<IPython.core.display.HTML object>"
      ]
     },
     "metadata": {},
     "output_type": "display_data"
    },
    {
     "data": {
      "text/html": [
       "Run data is saved locally in <code>/Users/wpw555/Documents/Kaggle/playground_s5e5/notebooks/wandb/run-20250510_151920-7jfyy3go</code>"
      ],
      "text/plain": [
       "<IPython.core.display.HTML object>"
      ]
     },
     "metadata": {},
     "output_type": "display_data"
    },
    {
     "data": {
      "text/html": [
       "Syncing run <strong><a href='https://wandb.ai/benmcguirk-queen-mary-university-of-london/xgboost-optimization/runs/7jfyy3go' target=\"_blank\">eager-sweep-16</a></strong> to <a href='https://wandb.ai/benmcguirk-queen-mary-university-of-london/xgboost-optimization' target=\"_blank\">Weights & Biases</a> (<a href='https://wandb.me/developer-guide' target=\"_blank\">docs</a>)<br>Sweep page: <a href='https://wandb.ai/benmcguirk-queen-mary-university-of-london/xgboost-optimization/sweeps/kk3lk19c' target=\"_blank\">https://wandb.ai/benmcguirk-queen-mary-university-of-london/xgboost-optimization/sweeps/kk3lk19c</a>"
      ],
      "text/plain": [
       "<IPython.core.display.HTML object>"
      ]
     },
     "metadata": {},
     "output_type": "display_data"
    },
    {
     "data": {
      "text/html": [
       " View project at <a href='https://wandb.ai/benmcguirk-queen-mary-university-of-london/xgboost-optimization' target=\"_blank\">https://wandb.ai/benmcguirk-queen-mary-university-of-london/xgboost-optimization</a>"
      ],
      "text/plain": [
       "<IPython.core.display.HTML object>"
      ]
     },
     "metadata": {},
     "output_type": "display_data"
    },
    {
     "data": {
      "text/html": [
       " View sweep at <a href='https://wandb.ai/benmcguirk-queen-mary-university-of-london/xgboost-optimization/sweeps/kk3lk19c' target=\"_blank\">https://wandb.ai/benmcguirk-queen-mary-university-of-london/xgboost-optimization/sweeps/kk3lk19c</a>"
      ],
      "text/plain": [
       "<IPython.core.display.HTML object>"
      ]
     },
     "metadata": {},
     "output_type": "display_data"
    },
    {
     "data": {
      "text/html": [
       " View run at <a href='https://wandb.ai/benmcguirk-queen-mary-university-of-london/xgboost-optimization/runs/7jfyy3go' target=\"_blank\">https://wandb.ai/benmcguirk-queen-mary-university-of-london/xgboost-optimization/runs/7jfyy3go</a>"
      ],
      "text/plain": [
       "<IPython.core.display.HTML object>"
      ]
     },
     "metadata": {},
     "output_type": "display_data"
    },
    {
     "data": {
      "text/html": [],
      "text/plain": [
       "<IPython.core.display.HTML object>"
      ]
     },
     "metadata": {},
     "output_type": "display_data"
    },
    {
     "data": {
      "text/html": [
       "<br>    <style><br>        .wandb-row {<br>            display: flex;<br>            flex-direction: row;<br>            flex-wrap: wrap;<br>            justify-content: flex-start;<br>            width: 100%;<br>        }<br>        .wandb-col {<br>            display: flex;<br>            flex-direction: column;<br>            flex-basis: 100%;<br>            flex: 1;<br>            padding: 10px;<br>        }<br>    </style><br><div class=\"wandb-row\"><div class=\"wandb-col\"><h3>Run history:</h3><br/><table class=\"wandb\"><tr><td>learning_rate</td><td>▁</td></tr><tr><td>max_depth</td><td>▁</td></tr><tr><td>n_estimators</td><td>▁</td></tr><tr><td>rmsle</td><td>▁</td></tr></table><br/></div><div class=\"wandb-col\"><h3>Run summary:</h3><br/><table class=\"wandb\"><tr><td>learning_rate</td><td>0.22156</td></tr><tr><td>max_depth</td><td>7</td></tr><tr><td>n_estimators</td><td>676</td></tr><tr><td>rmsle</td><td>0.00396</td></tr></table><br/></div></div>"
      ],
      "text/plain": [
       "<IPython.core.display.HTML object>"
      ]
     },
     "metadata": {},
     "output_type": "display_data"
    },
    {
     "data": {
      "text/html": [
       " View run <strong style=\"color:#cdcd00\">eager-sweep-16</strong> at: <a href='https://wandb.ai/benmcguirk-queen-mary-university-of-london/xgboost-optimization/runs/7jfyy3go' target=\"_blank\">https://wandb.ai/benmcguirk-queen-mary-university-of-london/xgboost-optimization/runs/7jfyy3go</a><br> View project at: <a href='https://wandb.ai/benmcguirk-queen-mary-university-of-london/xgboost-optimization' target=\"_blank\">https://wandb.ai/benmcguirk-queen-mary-university-of-london/xgboost-optimization</a><br>Synced 5 W&B file(s), 0 media file(s), 0 artifact file(s) and 0 other file(s)"
      ],
      "text/plain": [
       "<IPython.core.display.HTML object>"
      ]
     },
     "metadata": {},
     "output_type": "display_data"
    },
    {
     "data": {
      "text/html": [
       "Find logs at: <code>./wandb/run-20250510_151920-7jfyy3go/logs</code>"
      ],
      "text/plain": [
       "<IPython.core.display.HTML object>"
      ]
     },
     "metadata": {},
     "output_type": "display_data"
    },
    {
     "name": "stderr",
     "output_type": "stream",
     "text": [
      "\u001b[34m\u001b[1mwandb\u001b[0m: Agent Starting Run: jkaubrqk with config:\n",
      "\u001b[34m\u001b[1mwandb\u001b[0m: \tlearning_rate: 0.24425367361649897\n",
      "\u001b[34m\u001b[1mwandb\u001b[0m: \tmax_depth: 7\n",
      "\u001b[34m\u001b[1mwandb\u001b[0m: \tn_estimators: 638\n"
     ]
    },
    {
     "data": {
      "text/html": [
       "Tracking run with wandb version 0.19.11"
      ],
      "text/plain": [
       "<IPython.core.display.HTML object>"
      ]
     },
     "metadata": {},
     "output_type": "display_data"
    },
    {
     "data": {
      "text/html": [
       "Run data is saved locally in <code>/Users/wpw555/Documents/Kaggle/playground_s5e5/notebooks/wandb/run-20250510_151936-jkaubrqk</code>"
      ],
      "text/plain": [
       "<IPython.core.display.HTML object>"
      ]
     },
     "metadata": {},
     "output_type": "display_data"
    },
    {
     "data": {
      "text/html": [
       "Syncing run <strong><a href='https://wandb.ai/benmcguirk-queen-mary-university-of-london/xgboost-optimization/runs/jkaubrqk' target=\"_blank\">northern-sweep-17</a></strong> to <a href='https://wandb.ai/benmcguirk-queen-mary-university-of-london/xgboost-optimization' target=\"_blank\">Weights & Biases</a> (<a href='https://wandb.me/developer-guide' target=\"_blank\">docs</a>)<br>Sweep page: <a href='https://wandb.ai/benmcguirk-queen-mary-university-of-london/xgboost-optimization/sweeps/kk3lk19c' target=\"_blank\">https://wandb.ai/benmcguirk-queen-mary-university-of-london/xgboost-optimization/sweeps/kk3lk19c</a>"
      ],
      "text/plain": [
       "<IPython.core.display.HTML object>"
      ]
     },
     "metadata": {},
     "output_type": "display_data"
    },
    {
     "data": {
      "text/html": [
       " View project at <a href='https://wandb.ai/benmcguirk-queen-mary-university-of-london/xgboost-optimization' target=\"_blank\">https://wandb.ai/benmcguirk-queen-mary-university-of-london/xgboost-optimization</a>"
      ],
      "text/plain": [
       "<IPython.core.display.HTML object>"
      ]
     },
     "metadata": {},
     "output_type": "display_data"
    },
    {
     "data": {
      "text/html": [
       " View sweep at <a href='https://wandb.ai/benmcguirk-queen-mary-university-of-london/xgboost-optimization/sweeps/kk3lk19c' target=\"_blank\">https://wandb.ai/benmcguirk-queen-mary-university-of-london/xgboost-optimization/sweeps/kk3lk19c</a>"
      ],
      "text/plain": [
       "<IPython.core.display.HTML object>"
      ]
     },
     "metadata": {},
     "output_type": "display_data"
    },
    {
     "data": {
      "text/html": [
       " View run at <a href='https://wandb.ai/benmcguirk-queen-mary-university-of-london/xgboost-optimization/runs/jkaubrqk' target=\"_blank\">https://wandb.ai/benmcguirk-queen-mary-university-of-london/xgboost-optimization/runs/jkaubrqk</a>"
      ],
      "text/plain": [
       "<IPython.core.display.HTML object>"
      ]
     },
     "metadata": {},
     "output_type": "display_data"
    },
    {
     "data": {
      "text/html": [],
      "text/plain": [
       "<IPython.core.display.HTML object>"
      ]
     },
     "metadata": {},
     "output_type": "display_data"
    },
    {
     "data": {
      "text/html": [
       "<br>    <style><br>        .wandb-row {<br>            display: flex;<br>            flex-direction: row;<br>            flex-wrap: wrap;<br>            justify-content: flex-start;<br>            width: 100%;<br>        }<br>        .wandb-col {<br>            display: flex;<br>            flex-direction: column;<br>            flex-basis: 100%;<br>            flex: 1;<br>            padding: 10px;<br>        }<br>    </style><br><div class=\"wandb-row\"><div class=\"wandb-col\"><h3>Run history:</h3><br/><table class=\"wandb\"><tr><td>learning_rate</td><td>▁</td></tr><tr><td>max_depth</td><td>▁</td></tr><tr><td>n_estimators</td><td>▁</td></tr><tr><td>rmsle</td><td>▁</td></tr></table><br/></div><div class=\"wandb-col\"><h3>Run summary:</h3><br/><table class=\"wandb\"><tr><td>learning_rate</td><td>0.24425</td></tr><tr><td>max_depth</td><td>7</td></tr><tr><td>n_estimators</td><td>638</td></tr><tr><td>rmsle</td><td>0.00395</td></tr></table><br/></div></div>"
      ],
      "text/plain": [
       "<IPython.core.display.HTML object>"
      ]
     },
     "metadata": {},
     "output_type": "display_data"
    },
    {
     "data": {
      "text/html": [
       " View run <strong style=\"color:#cdcd00\">northern-sweep-17</strong> at: <a href='https://wandb.ai/benmcguirk-queen-mary-university-of-london/xgboost-optimization/runs/jkaubrqk' target=\"_blank\">https://wandb.ai/benmcguirk-queen-mary-university-of-london/xgboost-optimization/runs/jkaubrqk</a><br> View project at: <a href='https://wandb.ai/benmcguirk-queen-mary-university-of-london/xgboost-optimization' target=\"_blank\">https://wandb.ai/benmcguirk-queen-mary-university-of-london/xgboost-optimization</a><br>Synced 5 W&B file(s), 0 media file(s), 0 artifact file(s) and 0 other file(s)"
      ],
      "text/plain": [
       "<IPython.core.display.HTML object>"
      ]
     },
     "metadata": {},
     "output_type": "display_data"
    },
    {
     "data": {
      "text/html": [
       "Find logs at: <code>./wandb/run-20250510_151936-jkaubrqk/logs</code>"
      ],
      "text/plain": [
       "<IPython.core.display.HTML object>"
      ]
     },
     "metadata": {},
     "output_type": "display_data"
    },
    {
     "name": "stderr",
     "output_type": "stream",
     "text": [
      "\u001b[34m\u001b[1mwandb\u001b[0m: Agent Starting Run: 585yy48b with config:\n",
      "\u001b[34m\u001b[1mwandb\u001b[0m: \tlearning_rate: 0.22809619392316835\n",
      "\u001b[34m\u001b[1mwandb\u001b[0m: \tmax_depth: 7\n",
      "\u001b[34m\u001b[1mwandb\u001b[0m: \tn_estimators: 778\n"
     ]
    },
    {
     "data": {
      "text/html": [
       "Tracking run with wandb version 0.19.11"
      ],
      "text/plain": [
       "<IPython.core.display.HTML object>"
      ]
     },
     "metadata": {},
     "output_type": "display_data"
    },
    {
     "data": {
      "text/html": [
       "Run data is saved locally in <code>/Users/wpw555/Documents/Kaggle/playground_s5e5/notebooks/wandb/run-20250510_151951-585yy48b</code>"
      ],
      "text/plain": [
       "<IPython.core.display.HTML object>"
      ]
     },
     "metadata": {},
     "output_type": "display_data"
    },
    {
     "data": {
      "text/html": [
       "Syncing run <strong><a href='https://wandb.ai/benmcguirk-queen-mary-university-of-london/xgboost-optimization/runs/585yy48b' target=\"_blank\">smooth-sweep-18</a></strong> to <a href='https://wandb.ai/benmcguirk-queen-mary-university-of-london/xgboost-optimization' target=\"_blank\">Weights & Biases</a> (<a href='https://wandb.me/developer-guide' target=\"_blank\">docs</a>)<br>Sweep page: <a href='https://wandb.ai/benmcguirk-queen-mary-university-of-london/xgboost-optimization/sweeps/kk3lk19c' target=\"_blank\">https://wandb.ai/benmcguirk-queen-mary-university-of-london/xgboost-optimization/sweeps/kk3lk19c</a>"
      ],
      "text/plain": [
       "<IPython.core.display.HTML object>"
      ]
     },
     "metadata": {},
     "output_type": "display_data"
    },
    {
     "data": {
      "text/html": [
       " View project at <a href='https://wandb.ai/benmcguirk-queen-mary-university-of-london/xgboost-optimization' target=\"_blank\">https://wandb.ai/benmcguirk-queen-mary-university-of-london/xgboost-optimization</a>"
      ],
      "text/plain": [
       "<IPython.core.display.HTML object>"
      ]
     },
     "metadata": {},
     "output_type": "display_data"
    },
    {
     "data": {
      "text/html": [
       " View sweep at <a href='https://wandb.ai/benmcguirk-queen-mary-university-of-london/xgboost-optimization/sweeps/kk3lk19c' target=\"_blank\">https://wandb.ai/benmcguirk-queen-mary-university-of-london/xgboost-optimization/sweeps/kk3lk19c</a>"
      ],
      "text/plain": [
       "<IPython.core.display.HTML object>"
      ]
     },
     "metadata": {},
     "output_type": "display_data"
    },
    {
     "data": {
      "text/html": [
       " View run at <a href='https://wandb.ai/benmcguirk-queen-mary-university-of-london/xgboost-optimization/runs/585yy48b' target=\"_blank\">https://wandb.ai/benmcguirk-queen-mary-university-of-london/xgboost-optimization/runs/585yy48b</a>"
      ],
      "text/plain": [
       "<IPython.core.display.HTML object>"
      ]
     },
     "metadata": {},
     "output_type": "display_data"
    },
    {
     "data": {
      "text/html": [],
      "text/plain": [
       "<IPython.core.display.HTML object>"
      ]
     },
     "metadata": {},
     "output_type": "display_data"
    },
    {
     "data": {
      "text/html": [
       "<br>    <style><br>        .wandb-row {<br>            display: flex;<br>            flex-direction: row;<br>            flex-wrap: wrap;<br>            justify-content: flex-start;<br>            width: 100%;<br>        }<br>        .wandb-col {<br>            display: flex;<br>            flex-direction: column;<br>            flex-basis: 100%;<br>            flex: 1;<br>            padding: 10px;<br>        }<br>    </style><br><div class=\"wandb-row\"><div class=\"wandb-col\"><h3>Run history:</h3><br/><table class=\"wandb\"><tr><td>learning_rate</td><td>▁</td></tr><tr><td>max_depth</td><td>▁</td></tr><tr><td>n_estimators</td><td>▁</td></tr><tr><td>rmsle</td><td>▁</td></tr></table><br/></div><div class=\"wandb-col\"><h3>Run summary:</h3><br/><table class=\"wandb\"><tr><td>learning_rate</td><td>0.2281</td></tr><tr><td>max_depth</td><td>7</td></tr><tr><td>n_estimators</td><td>778</td></tr><tr><td>rmsle</td><td>0.00393</td></tr></table><br/></div></div>"
      ],
      "text/plain": [
       "<IPython.core.display.HTML object>"
      ]
     },
     "metadata": {},
     "output_type": "display_data"
    },
    {
     "data": {
      "text/html": [
       " View run <strong style=\"color:#cdcd00\">smooth-sweep-18</strong> at: <a href='https://wandb.ai/benmcguirk-queen-mary-university-of-london/xgboost-optimization/runs/585yy48b' target=\"_blank\">https://wandb.ai/benmcguirk-queen-mary-university-of-london/xgboost-optimization/runs/585yy48b</a><br> View project at: <a href='https://wandb.ai/benmcguirk-queen-mary-university-of-london/xgboost-optimization' target=\"_blank\">https://wandb.ai/benmcguirk-queen-mary-university-of-london/xgboost-optimization</a><br>Synced 5 W&B file(s), 0 media file(s), 0 artifact file(s) and 0 other file(s)"
      ],
      "text/plain": [
       "<IPython.core.display.HTML object>"
      ]
     },
     "metadata": {},
     "output_type": "display_data"
    },
    {
     "data": {
      "text/html": [
       "Find logs at: <code>./wandb/run-20250510_151951-585yy48b/logs</code>"
      ],
      "text/plain": [
       "<IPython.core.display.HTML object>"
      ]
     },
     "metadata": {},
     "output_type": "display_data"
    },
    {
     "name": "stderr",
     "output_type": "stream",
     "text": [
      "\u001b[34m\u001b[1mwandb\u001b[0m: Agent Starting Run: dnm15il7 with config:\n",
      "\u001b[34m\u001b[1mwandb\u001b[0m: \tlearning_rate: 0.17638259971717216\n",
      "\u001b[34m\u001b[1mwandb\u001b[0m: \tmax_depth: 7\n",
      "\u001b[34m\u001b[1mwandb\u001b[0m: \tn_estimators: 787\n"
     ]
    },
    {
     "data": {
      "text/html": [
       "Tracking run with wandb version 0.19.11"
      ],
      "text/plain": [
       "<IPython.core.display.HTML object>"
      ]
     },
     "metadata": {},
     "output_type": "display_data"
    },
    {
     "data": {
      "text/html": [
       "Run data is saved locally in <code>/Users/wpw555/Documents/Kaggle/playground_s5e5/notebooks/wandb/run-20250510_152012-dnm15il7</code>"
      ],
      "text/plain": [
       "<IPython.core.display.HTML object>"
      ]
     },
     "metadata": {},
     "output_type": "display_data"
    },
    {
     "data": {
      "text/html": [
       "Syncing run <strong><a href='https://wandb.ai/benmcguirk-queen-mary-university-of-london/xgboost-optimization/runs/dnm15il7' target=\"_blank\">noble-sweep-19</a></strong> to <a href='https://wandb.ai/benmcguirk-queen-mary-university-of-london/xgboost-optimization' target=\"_blank\">Weights & Biases</a> (<a href='https://wandb.me/developer-guide' target=\"_blank\">docs</a>)<br>Sweep page: <a href='https://wandb.ai/benmcguirk-queen-mary-university-of-london/xgboost-optimization/sweeps/kk3lk19c' target=\"_blank\">https://wandb.ai/benmcguirk-queen-mary-university-of-london/xgboost-optimization/sweeps/kk3lk19c</a>"
      ],
      "text/plain": [
       "<IPython.core.display.HTML object>"
      ]
     },
     "metadata": {},
     "output_type": "display_data"
    },
    {
     "data": {
      "text/html": [
       " View project at <a href='https://wandb.ai/benmcguirk-queen-mary-university-of-london/xgboost-optimization' target=\"_blank\">https://wandb.ai/benmcguirk-queen-mary-university-of-london/xgboost-optimization</a>"
      ],
      "text/plain": [
       "<IPython.core.display.HTML object>"
      ]
     },
     "metadata": {},
     "output_type": "display_data"
    },
    {
     "data": {
      "text/html": [
       " View sweep at <a href='https://wandb.ai/benmcguirk-queen-mary-university-of-london/xgboost-optimization/sweeps/kk3lk19c' target=\"_blank\">https://wandb.ai/benmcguirk-queen-mary-university-of-london/xgboost-optimization/sweeps/kk3lk19c</a>"
      ],
      "text/plain": [
       "<IPython.core.display.HTML object>"
      ]
     },
     "metadata": {},
     "output_type": "display_data"
    },
    {
     "data": {
      "text/html": [
       " View run at <a href='https://wandb.ai/benmcguirk-queen-mary-university-of-london/xgboost-optimization/runs/dnm15il7' target=\"_blank\">https://wandb.ai/benmcguirk-queen-mary-university-of-london/xgboost-optimization/runs/dnm15il7</a>"
      ],
      "text/plain": [
       "<IPython.core.display.HTML object>"
      ]
     },
     "metadata": {},
     "output_type": "display_data"
    },
    {
     "data": {
      "text/html": [],
      "text/plain": [
       "<IPython.core.display.HTML object>"
      ]
     },
     "metadata": {},
     "output_type": "display_data"
    },
    {
     "data": {
      "text/html": [
       "<br>    <style><br>        .wandb-row {<br>            display: flex;<br>            flex-direction: row;<br>            flex-wrap: wrap;<br>            justify-content: flex-start;<br>            width: 100%;<br>        }<br>        .wandb-col {<br>            display: flex;<br>            flex-direction: column;<br>            flex-basis: 100%;<br>            flex: 1;<br>            padding: 10px;<br>        }<br>    </style><br><div class=\"wandb-row\"><div class=\"wandb-col\"><h3>Run history:</h3><br/><table class=\"wandb\"><tr><td>learning_rate</td><td>▁</td></tr><tr><td>max_depth</td><td>▁</td></tr><tr><td>n_estimators</td><td>▁</td></tr><tr><td>rmsle</td><td>▁</td></tr></table><br/></div><div class=\"wandb-col\"><h3>Run summary:</h3><br/><table class=\"wandb\"><tr><td>learning_rate</td><td>0.17638</td></tr><tr><td>max_depth</td><td>7</td></tr><tr><td>n_estimators</td><td>787</td></tr><tr><td>rmsle</td><td>0.00391</td></tr></table><br/></div></div>"
      ],
      "text/plain": [
       "<IPython.core.display.HTML object>"
      ]
     },
     "metadata": {},
     "output_type": "display_data"
    },
    {
     "data": {
      "text/html": [
       " View run <strong style=\"color:#cdcd00\">noble-sweep-19</strong> at: <a href='https://wandb.ai/benmcguirk-queen-mary-university-of-london/xgboost-optimization/runs/dnm15il7' target=\"_blank\">https://wandb.ai/benmcguirk-queen-mary-university-of-london/xgboost-optimization/runs/dnm15il7</a><br> View project at: <a href='https://wandb.ai/benmcguirk-queen-mary-university-of-london/xgboost-optimization' target=\"_blank\">https://wandb.ai/benmcguirk-queen-mary-university-of-london/xgboost-optimization</a><br>Synced 5 W&B file(s), 0 media file(s), 0 artifact file(s) and 0 other file(s)"
      ],
      "text/plain": [
       "<IPython.core.display.HTML object>"
      ]
     },
     "metadata": {},
     "output_type": "display_data"
    },
    {
     "data": {
      "text/html": [
       "Find logs at: <code>./wandb/run-20250510_152012-dnm15il7/logs</code>"
      ],
      "text/plain": [
       "<IPython.core.display.HTML object>"
      ]
     },
     "metadata": {},
     "output_type": "display_data"
    },
    {
     "name": "stderr",
     "output_type": "stream",
     "text": [
      "\u001b[34m\u001b[1mwandb\u001b[0m: Agent Starting Run: 7mgfmujk with config:\n",
      "\u001b[34m\u001b[1mwandb\u001b[0m: \tlearning_rate: 0.16431657336252473\n",
      "\u001b[34m\u001b[1mwandb\u001b[0m: \tmax_depth: 7\n",
      "\u001b[34m\u001b[1mwandb\u001b[0m: \tn_estimators: 843\n"
     ]
    },
    {
     "data": {
      "text/html": [
       "Tracking run with wandb version 0.19.11"
      ],
      "text/plain": [
       "<IPython.core.display.HTML object>"
      ]
     },
     "metadata": {},
     "output_type": "display_data"
    },
    {
     "data": {
      "text/html": [
       "Run data is saved locally in <code>/Users/wpw555/Documents/Kaggle/playground_s5e5/notebooks/wandb/run-20250510_152033-7mgfmujk</code>"
      ],
      "text/plain": [
       "<IPython.core.display.HTML object>"
      ]
     },
     "metadata": {},
     "output_type": "display_data"
    },
    {
     "data": {
      "text/html": [
       "Syncing run <strong><a href='https://wandb.ai/benmcguirk-queen-mary-university-of-london/xgboost-optimization/runs/7mgfmujk' target=\"_blank\">floral-sweep-20</a></strong> to <a href='https://wandb.ai/benmcguirk-queen-mary-university-of-london/xgboost-optimization' target=\"_blank\">Weights & Biases</a> (<a href='https://wandb.me/developer-guide' target=\"_blank\">docs</a>)<br>Sweep page: <a href='https://wandb.ai/benmcguirk-queen-mary-university-of-london/xgboost-optimization/sweeps/kk3lk19c' target=\"_blank\">https://wandb.ai/benmcguirk-queen-mary-university-of-london/xgboost-optimization/sweeps/kk3lk19c</a>"
      ],
      "text/plain": [
       "<IPython.core.display.HTML object>"
      ]
     },
     "metadata": {},
     "output_type": "display_data"
    },
    {
     "data": {
      "text/html": [
       " View project at <a href='https://wandb.ai/benmcguirk-queen-mary-university-of-london/xgboost-optimization' target=\"_blank\">https://wandb.ai/benmcguirk-queen-mary-university-of-london/xgboost-optimization</a>"
      ],
      "text/plain": [
       "<IPython.core.display.HTML object>"
      ]
     },
     "metadata": {},
     "output_type": "display_data"
    },
    {
     "data": {
      "text/html": [
       " View sweep at <a href='https://wandb.ai/benmcguirk-queen-mary-university-of-london/xgboost-optimization/sweeps/kk3lk19c' target=\"_blank\">https://wandb.ai/benmcguirk-queen-mary-university-of-london/xgboost-optimization/sweeps/kk3lk19c</a>"
      ],
      "text/plain": [
       "<IPython.core.display.HTML object>"
      ]
     },
     "metadata": {},
     "output_type": "display_data"
    },
    {
     "data": {
      "text/html": [
       " View run at <a href='https://wandb.ai/benmcguirk-queen-mary-university-of-london/xgboost-optimization/runs/7mgfmujk' target=\"_blank\">https://wandb.ai/benmcguirk-queen-mary-university-of-london/xgboost-optimization/runs/7mgfmujk</a>"
      ],
      "text/plain": [
       "<IPython.core.display.HTML object>"
      ]
     },
     "metadata": {},
     "output_type": "display_data"
    },
    {
     "data": {
      "text/html": [],
      "text/plain": [
       "<IPython.core.display.HTML object>"
      ]
     },
     "metadata": {},
     "output_type": "display_data"
    },
    {
     "data": {
      "text/html": [
       "<br>    <style><br>        .wandb-row {<br>            display: flex;<br>            flex-direction: row;<br>            flex-wrap: wrap;<br>            justify-content: flex-start;<br>            width: 100%;<br>        }<br>        .wandb-col {<br>            display: flex;<br>            flex-direction: column;<br>            flex-basis: 100%;<br>            flex: 1;<br>            padding: 10px;<br>        }<br>    </style><br><div class=\"wandb-row\"><div class=\"wandb-col\"><h3>Run history:</h3><br/><table class=\"wandb\"><tr><td>learning_rate</td><td>▁</td></tr><tr><td>max_depth</td><td>▁</td></tr><tr><td>n_estimators</td><td>▁</td></tr><tr><td>rmsle</td><td>▁</td></tr></table><br/></div><div class=\"wandb-col\"><h3>Run summary:</h3><br/><table class=\"wandb\"><tr><td>learning_rate</td><td>0.16432</td></tr><tr><td>max_depth</td><td>7</td></tr><tr><td>n_estimators</td><td>843</td></tr><tr><td>rmsle</td><td>0.00388</td></tr></table><br/></div></div>"
      ],
      "text/plain": [
       "<IPython.core.display.HTML object>"
      ]
     },
     "metadata": {},
     "output_type": "display_data"
    },
    {
     "data": {
      "text/html": [
       " View run <strong style=\"color:#cdcd00\">floral-sweep-20</strong> at: <a href='https://wandb.ai/benmcguirk-queen-mary-university-of-london/xgboost-optimization/runs/7mgfmujk' target=\"_blank\">https://wandb.ai/benmcguirk-queen-mary-university-of-london/xgboost-optimization/runs/7mgfmujk</a><br> View project at: <a href='https://wandb.ai/benmcguirk-queen-mary-university-of-london/xgboost-optimization' target=\"_blank\">https://wandb.ai/benmcguirk-queen-mary-university-of-london/xgboost-optimization</a><br>Synced 5 W&B file(s), 0 media file(s), 0 artifact file(s) and 0 other file(s)"
      ],
      "text/plain": [
       "<IPython.core.display.HTML object>"
      ]
     },
     "metadata": {},
     "output_type": "display_data"
    },
    {
     "data": {
      "text/html": [
       "Find logs at: <code>./wandb/run-20250510_152033-7mgfmujk/logs</code>"
      ],
      "text/plain": [
       "<IPython.core.display.HTML object>"
      ]
     },
     "metadata": {},
     "output_type": "display_data"
    },
    {
     "name": "stderr",
     "output_type": "stream",
     "text": [
      "\u001b[34m\u001b[1mwandb\u001b[0m: Agent Starting Run: jnnj92p8 with config:\n",
      "\u001b[34m\u001b[1mwandb\u001b[0m: \tlearning_rate: 0.13039088631992785\n",
      "\u001b[34m\u001b[1mwandb\u001b[0m: \tmax_depth: 7\n",
      "\u001b[34m\u001b[1mwandb\u001b[0m: \tn_estimators: 836\n"
     ]
    },
    {
     "data": {
      "text/html": [
       "Tracking run with wandb version 0.19.11"
      ],
      "text/plain": [
       "<IPython.core.display.HTML object>"
      ]
     },
     "metadata": {},
     "output_type": "display_data"
    },
    {
     "data": {
      "text/html": [
       "Run data is saved locally in <code>/Users/wpw555/Documents/Kaggle/playground_s5e5/notebooks/wandb/run-20250510_152055-jnnj92p8</code>"
      ],
      "text/plain": [
       "<IPython.core.display.HTML object>"
      ]
     },
     "metadata": {},
     "output_type": "display_data"
    },
    {
     "data": {
      "text/html": [
       "Syncing run <strong><a href='https://wandb.ai/benmcguirk-queen-mary-university-of-london/xgboost-optimization/runs/jnnj92p8' target=\"_blank\">balmy-sweep-21</a></strong> to <a href='https://wandb.ai/benmcguirk-queen-mary-university-of-london/xgboost-optimization' target=\"_blank\">Weights & Biases</a> (<a href='https://wandb.me/developer-guide' target=\"_blank\">docs</a>)<br>Sweep page: <a href='https://wandb.ai/benmcguirk-queen-mary-university-of-london/xgboost-optimization/sweeps/kk3lk19c' target=\"_blank\">https://wandb.ai/benmcguirk-queen-mary-university-of-london/xgboost-optimization/sweeps/kk3lk19c</a>"
      ],
      "text/plain": [
       "<IPython.core.display.HTML object>"
      ]
     },
     "metadata": {},
     "output_type": "display_data"
    },
    {
     "data": {
      "text/html": [
       " View project at <a href='https://wandb.ai/benmcguirk-queen-mary-university-of-london/xgboost-optimization' target=\"_blank\">https://wandb.ai/benmcguirk-queen-mary-university-of-london/xgboost-optimization</a>"
      ],
      "text/plain": [
       "<IPython.core.display.HTML object>"
      ]
     },
     "metadata": {},
     "output_type": "display_data"
    },
    {
     "data": {
      "text/html": [
       " View sweep at <a href='https://wandb.ai/benmcguirk-queen-mary-university-of-london/xgboost-optimization/sweeps/kk3lk19c' target=\"_blank\">https://wandb.ai/benmcguirk-queen-mary-university-of-london/xgboost-optimization/sweeps/kk3lk19c</a>"
      ],
      "text/plain": [
       "<IPython.core.display.HTML object>"
      ]
     },
     "metadata": {},
     "output_type": "display_data"
    },
    {
     "data": {
      "text/html": [
       " View run at <a href='https://wandb.ai/benmcguirk-queen-mary-university-of-london/xgboost-optimization/runs/jnnj92p8' target=\"_blank\">https://wandb.ai/benmcguirk-queen-mary-university-of-london/xgboost-optimization/runs/jnnj92p8</a>"
      ],
      "text/plain": [
       "<IPython.core.display.HTML object>"
      ]
     },
     "metadata": {},
     "output_type": "display_data"
    },
    {
     "data": {
      "text/html": [],
      "text/plain": [
       "<IPython.core.display.HTML object>"
      ]
     },
     "metadata": {},
     "output_type": "display_data"
    },
    {
     "data": {
      "text/html": [
       "<br>    <style><br>        .wandb-row {<br>            display: flex;<br>            flex-direction: row;<br>            flex-wrap: wrap;<br>            justify-content: flex-start;<br>            width: 100%;<br>        }<br>        .wandb-col {<br>            display: flex;<br>            flex-direction: column;<br>            flex-basis: 100%;<br>            flex: 1;<br>            padding: 10px;<br>        }<br>    </style><br><div class=\"wandb-row\"><div class=\"wandb-col\"><h3>Run history:</h3><br/><table class=\"wandb\"><tr><td>learning_rate</td><td>▁</td></tr><tr><td>max_depth</td><td>▁</td></tr><tr><td>n_estimators</td><td>▁</td></tr><tr><td>rmsle</td><td>▁</td></tr></table><br/></div><div class=\"wandb-col\"><h3>Run summary:</h3><br/><table class=\"wandb\"><tr><td>learning_rate</td><td>0.13039</td></tr><tr><td>max_depth</td><td>7</td></tr><tr><td>n_estimators</td><td>836</td></tr><tr><td>rmsle</td><td>0.00387</td></tr></table><br/></div></div>"
      ],
      "text/plain": [
       "<IPython.core.display.HTML object>"
      ]
     },
     "metadata": {},
     "output_type": "display_data"
    },
    {
     "data": {
      "text/html": [
       " View run <strong style=\"color:#cdcd00\">balmy-sweep-21</strong> at: <a href='https://wandb.ai/benmcguirk-queen-mary-university-of-london/xgboost-optimization/runs/jnnj92p8' target=\"_blank\">https://wandb.ai/benmcguirk-queen-mary-university-of-london/xgboost-optimization/runs/jnnj92p8</a><br> View project at: <a href='https://wandb.ai/benmcguirk-queen-mary-university-of-london/xgboost-optimization' target=\"_blank\">https://wandb.ai/benmcguirk-queen-mary-university-of-london/xgboost-optimization</a><br>Synced 5 W&B file(s), 0 media file(s), 0 artifact file(s) and 0 other file(s)"
      ],
      "text/plain": [
       "<IPython.core.display.HTML object>"
      ]
     },
     "metadata": {},
     "output_type": "display_data"
    },
    {
     "data": {
      "text/html": [
       "Find logs at: <code>./wandb/run-20250510_152055-jnnj92p8/logs</code>"
      ],
      "text/plain": [
       "<IPython.core.display.HTML object>"
      ]
     },
     "metadata": {},
     "output_type": "display_data"
    },
    {
     "name": "stderr",
     "output_type": "stream",
     "text": [
      "\u001b[34m\u001b[1mwandb\u001b[0m: Agent Starting Run: v89y5t7e with config:\n",
      "\u001b[34m\u001b[1mwandb\u001b[0m: \tlearning_rate: 0.13933540255623925\n",
      "\u001b[34m\u001b[1mwandb\u001b[0m: \tmax_depth: 7\n",
      "\u001b[34m\u001b[1mwandb\u001b[0m: \tn_estimators: 901\n"
     ]
    },
    {
     "data": {
      "text/html": [
       "Tracking run with wandb version 0.19.11"
      ],
      "text/plain": [
       "<IPython.core.display.HTML object>"
      ]
     },
     "metadata": {},
     "output_type": "display_data"
    },
    {
     "data": {
      "text/html": [
       "Run data is saved locally in <code>/Users/wpw555/Documents/Kaggle/playground_s5e5/notebooks/wandb/run-20250510_152115-v89y5t7e</code>"
      ],
      "text/plain": [
       "<IPython.core.display.HTML object>"
      ]
     },
     "metadata": {},
     "output_type": "display_data"
    },
    {
     "data": {
      "text/html": [
       "Syncing run <strong><a href='https://wandb.ai/benmcguirk-queen-mary-university-of-london/xgboost-optimization/runs/v89y5t7e' target=\"_blank\">olive-sweep-22</a></strong> to <a href='https://wandb.ai/benmcguirk-queen-mary-university-of-london/xgboost-optimization' target=\"_blank\">Weights & Biases</a> (<a href='https://wandb.me/developer-guide' target=\"_blank\">docs</a>)<br>Sweep page: <a href='https://wandb.ai/benmcguirk-queen-mary-university-of-london/xgboost-optimization/sweeps/kk3lk19c' target=\"_blank\">https://wandb.ai/benmcguirk-queen-mary-university-of-london/xgboost-optimization/sweeps/kk3lk19c</a>"
      ],
      "text/plain": [
       "<IPython.core.display.HTML object>"
      ]
     },
     "metadata": {},
     "output_type": "display_data"
    },
    {
     "data": {
      "text/html": [
       " View project at <a href='https://wandb.ai/benmcguirk-queen-mary-university-of-london/xgboost-optimization' target=\"_blank\">https://wandb.ai/benmcguirk-queen-mary-university-of-london/xgboost-optimization</a>"
      ],
      "text/plain": [
       "<IPython.core.display.HTML object>"
      ]
     },
     "metadata": {},
     "output_type": "display_data"
    },
    {
     "data": {
      "text/html": [
       " View sweep at <a href='https://wandb.ai/benmcguirk-queen-mary-university-of-london/xgboost-optimization/sweeps/kk3lk19c' target=\"_blank\">https://wandb.ai/benmcguirk-queen-mary-university-of-london/xgboost-optimization/sweeps/kk3lk19c</a>"
      ],
      "text/plain": [
       "<IPython.core.display.HTML object>"
      ]
     },
     "metadata": {},
     "output_type": "display_data"
    },
    {
     "data": {
      "text/html": [
       " View run at <a href='https://wandb.ai/benmcguirk-queen-mary-university-of-london/xgboost-optimization/runs/v89y5t7e' target=\"_blank\">https://wandb.ai/benmcguirk-queen-mary-university-of-london/xgboost-optimization/runs/v89y5t7e</a>"
      ],
      "text/plain": [
       "<IPython.core.display.HTML object>"
      ]
     },
     "metadata": {},
     "output_type": "display_data"
    },
    {
     "data": {
      "text/html": [],
      "text/plain": [
       "<IPython.core.display.HTML object>"
      ]
     },
     "metadata": {},
     "output_type": "display_data"
    },
    {
     "data": {
      "text/html": [
       "<br>    <style><br>        .wandb-row {<br>            display: flex;<br>            flex-direction: row;<br>            flex-wrap: wrap;<br>            justify-content: flex-start;<br>            width: 100%;<br>        }<br>        .wandb-col {<br>            display: flex;<br>            flex-direction: column;<br>            flex-basis: 100%;<br>            flex: 1;<br>            padding: 10px;<br>        }<br>    </style><br><div class=\"wandb-row\"><div class=\"wandb-col\"><h3>Run history:</h3><br/><table class=\"wandb\"><tr><td>learning_rate</td><td>▁</td></tr><tr><td>max_depth</td><td>▁</td></tr><tr><td>n_estimators</td><td>▁</td></tr><tr><td>rmsle</td><td>▁</td></tr></table><br/></div><div class=\"wandb-col\"><h3>Run summary:</h3><br/><table class=\"wandb\"><tr><td>learning_rate</td><td>0.13934</td></tr><tr><td>max_depth</td><td>7</td></tr><tr><td>n_estimators</td><td>901</td></tr><tr><td>rmsle</td><td>0.00386</td></tr></table><br/></div></div>"
      ],
      "text/plain": [
       "<IPython.core.display.HTML object>"
      ]
     },
     "metadata": {},
     "output_type": "display_data"
    },
    {
     "data": {
      "text/html": [
       " View run <strong style=\"color:#cdcd00\">olive-sweep-22</strong> at: <a href='https://wandb.ai/benmcguirk-queen-mary-university-of-london/xgboost-optimization/runs/v89y5t7e' target=\"_blank\">https://wandb.ai/benmcguirk-queen-mary-university-of-london/xgboost-optimization/runs/v89y5t7e</a><br> View project at: <a href='https://wandb.ai/benmcguirk-queen-mary-university-of-london/xgboost-optimization' target=\"_blank\">https://wandb.ai/benmcguirk-queen-mary-university-of-london/xgboost-optimization</a><br>Synced 5 W&B file(s), 0 media file(s), 0 artifact file(s) and 0 other file(s)"
      ],
      "text/plain": [
       "<IPython.core.display.HTML object>"
      ]
     },
     "metadata": {},
     "output_type": "display_data"
    },
    {
     "data": {
      "text/html": [
       "Find logs at: <code>./wandb/run-20250510_152115-v89y5t7e/logs</code>"
      ],
      "text/plain": [
       "<IPython.core.display.HTML object>"
      ]
     },
     "metadata": {},
     "output_type": "display_data"
    },
    {
     "name": "stderr",
     "output_type": "stream",
     "text": [
      "\u001b[34m\u001b[1mwandb\u001b[0m: Agent Starting Run: 18948m43 with config:\n",
      "\u001b[34m\u001b[1mwandb\u001b[0m: \tlearning_rate: 0.13510555967787738\n",
      "\u001b[34m\u001b[1mwandb\u001b[0m: \tmax_depth: 7\n",
      "\u001b[34m\u001b[1mwandb\u001b[0m: \tn_estimators: 874\n"
     ]
    },
    {
     "data": {
      "text/html": [
       "Tracking run with wandb version 0.19.11"
      ],
      "text/plain": [
       "<IPython.core.display.HTML object>"
      ]
     },
     "metadata": {},
     "output_type": "display_data"
    },
    {
     "data": {
      "text/html": [
       "Run data is saved locally in <code>/Users/wpw555/Documents/Kaggle/playground_s5e5/notebooks/wandb/run-20250510_152136-18948m43</code>"
      ],
      "text/plain": [
       "<IPython.core.display.HTML object>"
      ]
     },
     "metadata": {},
     "output_type": "display_data"
    },
    {
     "data": {
      "text/html": [
       "Syncing run <strong><a href='https://wandb.ai/benmcguirk-queen-mary-university-of-london/xgboost-optimization/runs/18948m43' target=\"_blank\">classic-sweep-23</a></strong> to <a href='https://wandb.ai/benmcguirk-queen-mary-university-of-london/xgboost-optimization' target=\"_blank\">Weights & Biases</a> (<a href='https://wandb.me/developer-guide' target=\"_blank\">docs</a>)<br>Sweep page: <a href='https://wandb.ai/benmcguirk-queen-mary-university-of-london/xgboost-optimization/sweeps/kk3lk19c' target=\"_blank\">https://wandb.ai/benmcguirk-queen-mary-university-of-london/xgboost-optimization/sweeps/kk3lk19c</a>"
      ],
      "text/plain": [
       "<IPython.core.display.HTML object>"
      ]
     },
     "metadata": {},
     "output_type": "display_data"
    },
    {
     "data": {
      "text/html": [
       " View project at <a href='https://wandb.ai/benmcguirk-queen-mary-university-of-london/xgboost-optimization' target=\"_blank\">https://wandb.ai/benmcguirk-queen-mary-university-of-london/xgboost-optimization</a>"
      ],
      "text/plain": [
       "<IPython.core.display.HTML object>"
      ]
     },
     "metadata": {},
     "output_type": "display_data"
    },
    {
     "data": {
      "text/html": [
       " View sweep at <a href='https://wandb.ai/benmcguirk-queen-mary-university-of-london/xgboost-optimization/sweeps/kk3lk19c' target=\"_blank\">https://wandb.ai/benmcguirk-queen-mary-university-of-london/xgboost-optimization/sweeps/kk3lk19c</a>"
      ],
      "text/plain": [
       "<IPython.core.display.HTML object>"
      ]
     },
     "metadata": {},
     "output_type": "display_data"
    },
    {
     "data": {
      "text/html": [
       " View run at <a href='https://wandb.ai/benmcguirk-queen-mary-university-of-london/xgboost-optimization/runs/18948m43' target=\"_blank\">https://wandb.ai/benmcguirk-queen-mary-university-of-london/xgboost-optimization/runs/18948m43</a>"
      ],
      "text/plain": [
       "<IPython.core.display.HTML object>"
      ]
     },
     "metadata": {},
     "output_type": "display_data"
    },
    {
     "data": {
      "text/html": [],
      "text/plain": [
       "<IPython.core.display.HTML object>"
      ]
     },
     "metadata": {},
     "output_type": "display_data"
    },
    {
     "data": {
      "text/html": [
       "<br>    <style><br>        .wandb-row {<br>            display: flex;<br>            flex-direction: row;<br>            flex-wrap: wrap;<br>            justify-content: flex-start;<br>            width: 100%;<br>        }<br>        .wandb-col {<br>            display: flex;<br>            flex-direction: column;<br>            flex-basis: 100%;<br>            flex: 1;<br>            padding: 10px;<br>        }<br>    </style><br><div class=\"wandb-row\"><div class=\"wandb-col\"><h3>Run history:</h3><br/><table class=\"wandb\"><tr><td>learning_rate</td><td>▁</td></tr><tr><td>max_depth</td><td>▁</td></tr><tr><td>n_estimators</td><td>▁</td></tr><tr><td>rmsle</td><td>▁</td></tr></table><br/></div><div class=\"wandb-col\"><h3>Run summary:</h3><br/><table class=\"wandb\"><tr><td>learning_rate</td><td>0.13511</td></tr><tr><td>max_depth</td><td>7</td></tr><tr><td>n_estimators</td><td>874</td></tr><tr><td>rmsle</td><td>0.00389</td></tr></table><br/></div></div>"
      ],
      "text/plain": [
       "<IPython.core.display.HTML object>"
      ]
     },
     "metadata": {},
     "output_type": "display_data"
    },
    {
     "data": {
      "text/html": [
       " View run <strong style=\"color:#cdcd00\">classic-sweep-23</strong> at: <a href='https://wandb.ai/benmcguirk-queen-mary-university-of-london/xgboost-optimization/runs/18948m43' target=\"_blank\">https://wandb.ai/benmcguirk-queen-mary-university-of-london/xgboost-optimization/runs/18948m43</a><br> View project at: <a href='https://wandb.ai/benmcguirk-queen-mary-university-of-london/xgboost-optimization' target=\"_blank\">https://wandb.ai/benmcguirk-queen-mary-university-of-london/xgboost-optimization</a><br>Synced 5 W&B file(s), 0 media file(s), 0 artifact file(s) and 0 other file(s)"
      ],
      "text/plain": [
       "<IPython.core.display.HTML object>"
      ]
     },
     "metadata": {},
     "output_type": "display_data"
    },
    {
     "data": {
      "text/html": [
       "Find logs at: <code>./wandb/run-20250510_152136-18948m43/logs</code>"
      ],
      "text/plain": [
       "<IPython.core.display.HTML object>"
      ]
     },
     "metadata": {},
     "output_type": "display_data"
    },
    {
     "name": "stderr",
     "output_type": "stream",
     "text": [
      "\u001b[34m\u001b[1mwandb\u001b[0m: Agent Starting Run: ibr5e4ay with config:\n",
      "\u001b[34m\u001b[1mwandb\u001b[0m: \tlearning_rate: 0.14426223213861672\n",
      "\u001b[34m\u001b[1mwandb\u001b[0m: \tmax_depth: 7\n",
      "\u001b[34m\u001b[1mwandb\u001b[0m: \tn_estimators: 910\n"
     ]
    },
    {
     "data": {
      "text/html": [
       "Tracking run with wandb version 0.19.11"
      ],
      "text/plain": [
       "<IPython.core.display.HTML object>"
      ]
     },
     "metadata": {},
     "output_type": "display_data"
    },
    {
     "data": {
      "text/html": [
       "Run data is saved locally in <code>/Users/wpw555/Documents/Kaggle/playground_s5e5/notebooks/wandb/run-20250510_152157-ibr5e4ay</code>"
      ],
      "text/plain": [
       "<IPython.core.display.HTML object>"
      ]
     },
     "metadata": {},
     "output_type": "display_data"
    },
    {
     "data": {
      "text/html": [
       "Syncing run <strong><a href='https://wandb.ai/benmcguirk-queen-mary-university-of-london/xgboost-optimization/runs/ibr5e4ay' target=\"_blank\">wobbly-sweep-24</a></strong> to <a href='https://wandb.ai/benmcguirk-queen-mary-university-of-london/xgboost-optimization' target=\"_blank\">Weights & Biases</a> (<a href='https://wandb.me/developer-guide' target=\"_blank\">docs</a>)<br>Sweep page: <a href='https://wandb.ai/benmcguirk-queen-mary-university-of-london/xgboost-optimization/sweeps/kk3lk19c' target=\"_blank\">https://wandb.ai/benmcguirk-queen-mary-university-of-london/xgboost-optimization/sweeps/kk3lk19c</a>"
      ],
      "text/plain": [
       "<IPython.core.display.HTML object>"
      ]
     },
     "metadata": {},
     "output_type": "display_data"
    },
    {
     "data": {
      "text/html": [
       " View project at <a href='https://wandb.ai/benmcguirk-queen-mary-university-of-london/xgboost-optimization' target=\"_blank\">https://wandb.ai/benmcguirk-queen-mary-university-of-london/xgboost-optimization</a>"
      ],
      "text/plain": [
       "<IPython.core.display.HTML object>"
      ]
     },
     "metadata": {},
     "output_type": "display_data"
    },
    {
     "data": {
      "text/html": [
       " View sweep at <a href='https://wandb.ai/benmcguirk-queen-mary-university-of-london/xgboost-optimization/sweeps/kk3lk19c' target=\"_blank\">https://wandb.ai/benmcguirk-queen-mary-university-of-london/xgboost-optimization/sweeps/kk3lk19c</a>"
      ],
      "text/plain": [
       "<IPython.core.display.HTML object>"
      ]
     },
     "metadata": {},
     "output_type": "display_data"
    },
    {
     "data": {
      "text/html": [
       " View run at <a href='https://wandb.ai/benmcguirk-queen-mary-university-of-london/xgboost-optimization/runs/ibr5e4ay' target=\"_blank\">https://wandb.ai/benmcguirk-queen-mary-university-of-london/xgboost-optimization/runs/ibr5e4ay</a>"
      ],
      "text/plain": [
       "<IPython.core.display.HTML object>"
      ]
     },
     "metadata": {},
     "output_type": "display_data"
    },
    {
     "data": {
      "text/html": [],
      "text/plain": [
       "<IPython.core.display.HTML object>"
      ]
     },
     "metadata": {},
     "output_type": "display_data"
    },
    {
     "data": {
      "text/html": [
       "<br>    <style><br>        .wandb-row {<br>            display: flex;<br>            flex-direction: row;<br>            flex-wrap: wrap;<br>            justify-content: flex-start;<br>            width: 100%;<br>        }<br>        .wandb-col {<br>            display: flex;<br>            flex-direction: column;<br>            flex-basis: 100%;<br>            flex: 1;<br>            padding: 10px;<br>        }<br>    </style><br><div class=\"wandb-row\"><div class=\"wandb-col\"><h3>Run history:</h3><br/><table class=\"wandb\"><tr><td>learning_rate</td><td>▁</td></tr><tr><td>max_depth</td><td>▁</td></tr><tr><td>n_estimators</td><td>▁</td></tr><tr><td>rmsle</td><td>▁</td></tr></table><br/></div><div class=\"wandb-col\"><h3>Run summary:</h3><br/><table class=\"wandb\"><tr><td>learning_rate</td><td>0.14426</td></tr><tr><td>max_depth</td><td>7</td></tr><tr><td>n_estimators</td><td>910</td></tr><tr><td>rmsle</td><td>0.00388</td></tr></table><br/></div></div>"
      ],
      "text/plain": [
       "<IPython.core.display.HTML object>"
      ]
     },
     "metadata": {},
     "output_type": "display_data"
    },
    {
     "data": {
      "text/html": [
       " View run <strong style=\"color:#cdcd00\">wobbly-sweep-24</strong> at: <a href='https://wandb.ai/benmcguirk-queen-mary-university-of-london/xgboost-optimization/runs/ibr5e4ay' target=\"_blank\">https://wandb.ai/benmcguirk-queen-mary-university-of-london/xgboost-optimization/runs/ibr5e4ay</a><br> View project at: <a href='https://wandb.ai/benmcguirk-queen-mary-university-of-london/xgboost-optimization' target=\"_blank\">https://wandb.ai/benmcguirk-queen-mary-university-of-london/xgboost-optimization</a><br>Synced 5 W&B file(s), 0 media file(s), 0 artifact file(s) and 0 other file(s)"
      ],
      "text/plain": [
       "<IPython.core.display.HTML object>"
      ]
     },
     "metadata": {},
     "output_type": "display_data"
    },
    {
     "data": {
      "text/html": [
       "Find logs at: <code>./wandb/run-20250510_152157-ibr5e4ay/logs</code>"
      ],
      "text/plain": [
       "<IPython.core.display.HTML object>"
      ]
     },
     "metadata": {},
     "output_type": "display_data"
    },
    {
     "name": "stderr",
     "output_type": "stream",
     "text": [
      "\u001b[34m\u001b[1mwandb\u001b[0m: Agent Starting Run: 0m3h7tq3 with config:\n",
      "\u001b[34m\u001b[1mwandb\u001b[0m: \tlearning_rate: 0.10477508927643708\n",
      "\u001b[34m\u001b[1mwandb\u001b[0m: \tmax_depth: 7\n",
      "\u001b[34m\u001b[1mwandb\u001b[0m: \tn_estimators: 891\n"
     ]
    },
    {
     "data": {
      "text/html": [
       "Tracking run with wandb version 0.19.11"
      ],
      "text/plain": [
       "<IPython.core.display.HTML object>"
      ]
     },
     "metadata": {},
     "output_type": "display_data"
    },
    {
     "data": {
      "text/html": [
       "Run data is saved locally in <code>/Users/wpw555/Documents/Kaggle/playground_s5e5/notebooks/wandb/run-20250510_152218-0m3h7tq3</code>"
      ],
      "text/plain": [
       "<IPython.core.display.HTML object>"
      ]
     },
     "metadata": {},
     "output_type": "display_data"
    },
    {
     "data": {
      "text/html": [
       "Syncing run <strong><a href='https://wandb.ai/benmcguirk-queen-mary-university-of-london/xgboost-optimization/runs/0m3h7tq3' target=\"_blank\">tough-sweep-25</a></strong> to <a href='https://wandb.ai/benmcguirk-queen-mary-university-of-london/xgboost-optimization' target=\"_blank\">Weights & Biases</a> (<a href='https://wandb.me/developer-guide' target=\"_blank\">docs</a>)<br>Sweep page: <a href='https://wandb.ai/benmcguirk-queen-mary-university-of-london/xgboost-optimization/sweeps/kk3lk19c' target=\"_blank\">https://wandb.ai/benmcguirk-queen-mary-university-of-london/xgboost-optimization/sweeps/kk3lk19c</a>"
      ],
      "text/plain": [
       "<IPython.core.display.HTML object>"
      ]
     },
     "metadata": {},
     "output_type": "display_data"
    },
    {
     "data": {
      "text/html": [
       " View project at <a href='https://wandb.ai/benmcguirk-queen-mary-university-of-london/xgboost-optimization' target=\"_blank\">https://wandb.ai/benmcguirk-queen-mary-university-of-london/xgboost-optimization</a>"
      ],
      "text/plain": [
       "<IPython.core.display.HTML object>"
      ]
     },
     "metadata": {},
     "output_type": "display_data"
    },
    {
     "data": {
      "text/html": [
       " View sweep at <a href='https://wandb.ai/benmcguirk-queen-mary-university-of-london/xgboost-optimization/sweeps/kk3lk19c' target=\"_blank\">https://wandb.ai/benmcguirk-queen-mary-university-of-london/xgboost-optimization/sweeps/kk3lk19c</a>"
      ],
      "text/plain": [
       "<IPython.core.display.HTML object>"
      ]
     },
     "metadata": {},
     "output_type": "display_data"
    },
    {
     "data": {
      "text/html": [
       " View run at <a href='https://wandb.ai/benmcguirk-queen-mary-university-of-london/xgboost-optimization/runs/0m3h7tq3' target=\"_blank\">https://wandb.ai/benmcguirk-queen-mary-university-of-london/xgboost-optimization/runs/0m3h7tq3</a>"
      ],
      "text/plain": [
       "<IPython.core.display.HTML object>"
      ]
     },
     "metadata": {},
     "output_type": "display_data"
    },
    {
     "data": {
      "text/html": [],
      "text/plain": [
       "<IPython.core.display.HTML object>"
      ]
     },
     "metadata": {},
     "output_type": "display_data"
    },
    {
     "data": {
      "text/html": [
       "<br>    <style><br>        .wandb-row {<br>            display: flex;<br>            flex-direction: row;<br>            flex-wrap: wrap;<br>            justify-content: flex-start;<br>            width: 100%;<br>        }<br>        .wandb-col {<br>            display: flex;<br>            flex-direction: column;<br>            flex-basis: 100%;<br>            flex: 1;<br>            padding: 10px;<br>        }<br>    </style><br><div class=\"wandb-row\"><div class=\"wandb-col\"><h3>Run history:</h3><br/><table class=\"wandb\"><tr><td>learning_rate</td><td>▁</td></tr><tr><td>max_depth</td><td>▁</td></tr><tr><td>n_estimators</td><td>▁</td></tr><tr><td>rmsle</td><td>▁</td></tr></table><br/></div><div class=\"wandb-col\"><h3>Run summary:</h3><br/><table class=\"wandb\"><tr><td>learning_rate</td><td>0.10478</td></tr><tr><td>max_depth</td><td>7</td></tr><tr><td>n_estimators</td><td>891</td></tr><tr><td>rmsle</td><td>0.00383</td></tr></table><br/></div></div>"
      ],
      "text/plain": [
       "<IPython.core.display.HTML object>"
      ]
     },
     "metadata": {},
     "output_type": "display_data"
    },
    {
     "data": {
      "text/html": [
       " View run <strong style=\"color:#cdcd00\">tough-sweep-25</strong> at: <a href='https://wandb.ai/benmcguirk-queen-mary-university-of-london/xgboost-optimization/runs/0m3h7tq3' target=\"_blank\">https://wandb.ai/benmcguirk-queen-mary-university-of-london/xgboost-optimization/runs/0m3h7tq3</a><br> View project at: <a href='https://wandb.ai/benmcguirk-queen-mary-university-of-london/xgboost-optimization' target=\"_blank\">https://wandb.ai/benmcguirk-queen-mary-university-of-london/xgboost-optimization</a><br>Synced 5 W&B file(s), 0 media file(s), 0 artifact file(s) and 0 other file(s)"
      ],
      "text/plain": [
       "<IPython.core.display.HTML object>"
      ]
     },
     "metadata": {},
     "output_type": "display_data"
    },
    {
     "data": {
      "text/html": [
       "Find logs at: <code>./wandb/run-20250510_152218-0m3h7tq3/logs</code>"
      ],
      "text/plain": [
       "<IPython.core.display.HTML object>"
      ]
     },
     "metadata": {},
     "output_type": "display_data"
    },
    {
     "name": "stderr",
     "output_type": "stream",
     "text": [
      "\u001b[34m\u001b[1mwandb\u001b[0m: Agent Starting Run: znjyp3p7 with config:\n",
      "\u001b[34m\u001b[1mwandb\u001b[0m: \tlearning_rate: 0.10724242482445036\n",
      "\u001b[34m\u001b[1mwandb\u001b[0m: \tmax_depth: 7\n",
      "\u001b[34m\u001b[1mwandb\u001b[0m: \tn_estimators: 856\n"
     ]
    },
    {
     "data": {
      "text/html": [
       "Tracking run with wandb version 0.19.11"
      ],
      "text/plain": [
       "<IPython.core.display.HTML object>"
      ]
     },
     "metadata": {},
     "output_type": "display_data"
    },
    {
     "data": {
      "text/html": [
       "Run data is saved locally in <code>/Users/wpw555/Documents/Kaggle/playground_s5e5/notebooks/wandb/run-20250510_152239-znjyp3p7</code>"
      ],
      "text/plain": [
       "<IPython.core.display.HTML object>"
      ]
     },
     "metadata": {},
     "output_type": "display_data"
    },
    {
     "data": {
      "text/html": [
       "Syncing run <strong><a href='https://wandb.ai/benmcguirk-queen-mary-university-of-london/xgboost-optimization/runs/znjyp3p7' target=\"_blank\">desert-sweep-26</a></strong> to <a href='https://wandb.ai/benmcguirk-queen-mary-university-of-london/xgboost-optimization' target=\"_blank\">Weights & Biases</a> (<a href='https://wandb.me/developer-guide' target=\"_blank\">docs</a>)<br>Sweep page: <a href='https://wandb.ai/benmcguirk-queen-mary-university-of-london/xgboost-optimization/sweeps/kk3lk19c' target=\"_blank\">https://wandb.ai/benmcguirk-queen-mary-university-of-london/xgboost-optimization/sweeps/kk3lk19c</a>"
      ],
      "text/plain": [
       "<IPython.core.display.HTML object>"
      ]
     },
     "metadata": {},
     "output_type": "display_data"
    },
    {
     "data": {
      "text/html": [
       " View project at <a href='https://wandb.ai/benmcguirk-queen-mary-university-of-london/xgboost-optimization' target=\"_blank\">https://wandb.ai/benmcguirk-queen-mary-university-of-london/xgboost-optimization</a>"
      ],
      "text/plain": [
       "<IPython.core.display.HTML object>"
      ]
     },
     "metadata": {},
     "output_type": "display_data"
    },
    {
     "data": {
      "text/html": [
       " View sweep at <a href='https://wandb.ai/benmcguirk-queen-mary-university-of-london/xgboost-optimization/sweeps/kk3lk19c' target=\"_blank\">https://wandb.ai/benmcguirk-queen-mary-university-of-london/xgboost-optimization/sweeps/kk3lk19c</a>"
      ],
      "text/plain": [
       "<IPython.core.display.HTML object>"
      ]
     },
     "metadata": {},
     "output_type": "display_data"
    },
    {
     "data": {
      "text/html": [
       " View run at <a href='https://wandb.ai/benmcguirk-queen-mary-university-of-london/xgboost-optimization/runs/znjyp3p7' target=\"_blank\">https://wandb.ai/benmcguirk-queen-mary-university-of-london/xgboost-optimization/runs/znjyp3p7</a>"
      ],
      "text/plain": [
       "<IPython.core.display.HTML object>"
      ]
     },
     "metadata": {},
     "output_type": "display_data"
    },
    {
     "data": {
      "text/html": [],
      "text/plain": [
       "<IPython.core.display.HTML object>"
      ]
     },
     "metadata": {},
     "output_type": "display_data"
    },
    {
     "data": {
      "text/html": [
       "<br>    <style><br>        .wandb-row {<br>            display: flex;<br>            flex-direction: row;<br>            flex-wrap: wrap;<br>            justify-content: flex-start;<br>            width: 100%;<br>        }<br>        .wandb-col {<br>            display: flex;<br>            flex-direction: column;<br>            flex-basis: 100%;<br>            flex: 1;<br>            padding: 10px;<br>        }<br>    </style><br><div class=\"wandb-row\"><div class=\"wandb-col\"><h3>Run history:</h3><br/><table class=\"wandb\"><tr><td>learning_rate</td><td>▁</td></tr><tr><td>max_depth</td><td>▁</td></tr><tr><td>n_estimators</td><td>▁</td></tr><tr><td>rmsle</td><td>▁</td></tr></table><br/></div><div class=\"wandb-col\"><h3>Run summary:</h3><br/><table class=\"wandb\"><tr><td>learning_rate</td><td>0.10724</td></tr><tr><td>max_depth</td><td>7</td></tr><tr><td>n_estimators</td><td>856</td></tr><tr><td>rmsle</td><td>0.00381</td></tr></table><br/></div></div>"
      ],
      "text/plain": [
       "<IPython.core.display.HTML object>"
      ]
     },
     "metadata": {},
     "output_type": "display_data"
    },
    {
     "data": {
      "text/html": [
       " View run <strong style=\"color:#cdcd00\">desert-sweep-26</strong> at: <a href='https://wandb.ai/benmcguirk-queen-mary-university-of-london/xgboost-optimization/runs/znjyp3p7' target=\"_blank\">https://wandb.ai/benmcguirk-queen-mary-university-of-london/xgboost-optimization/runs/znjyp3p7</a><br> View project at: <a href='https://wandb.ai/benmcguirk-queen-mary-university-of-london/xgboost-optimization' target=\"_blank\">https://wandb.ai/benmcguirk-queen-mary-university-of-london/xgboost-optimization</a><br>Synced 5 W&B file(s), 0 media file(s), 0 artifact file(s) and 0 other file(s)"
      ],
      "text/plain": [
       "<IPython.core.display.HTML object>"
      ]
     },
     "metadata": {},
     "output_type": "display_data"
    },
    {
     "data": {
      "text/html": [
       "Find logs at: <code>./wandb/run-20250510_152239-znjyp3p7/logs</code>"
      ],
      "text/plain": [
       "<IPython.core.display.HTML object>"
      ]
     },
     "metadata": {},
     "output_type": "display_data"
    },
    {
     "name": "stderr",
     "output_type": "stream",
     "text": [
      "\u001b[34m\u001b[1mwandb\u001b[0m: Agent Starting Run: mbyhellc with config:\n",
      "\u001b[34m\u001b[1mwandb\u001b[0m: \tlearning_rate: 0.0945302550899001\n",
      "\u001b[34m\u001b[1mwandb\u001b[0m: \tmax_depth: 7\n",
      "\u001b[34m\u001b[1mwandb\u001b[0m: \tn_estimators: 842\n"
     ]
    },
    {
     "data": {
      "text/html": [
       "Tracking run with wandb version 0.19.11"
      ],
      "text/plain": [
       "<IPython.core.display.HTML object>"
      ]
     },
     "metadata": {},
     "output_type": "display_data"
    },
    {
     "data": {
      "text/html": [
       "Run data is saved locally in <code>/Users/wpw555/Documents/Kaggle/playground_s5e5/notebooks/wandb/run-20250510_152301-mbyhellc</code>"
      ],
      "text/plain": [
       "<IPython.core.display.HTML object>"
      ]
     },
     "metadata": {},
     "output_type": "display_data"
    },
    {
     "data": {
      "text/html": [
       "Syncing run <strong><a href='https://wandb.ai/benmcguirk-queen-mary-university-of-london/xgboost-optimization/runs/mbyhellc' target=\"_blank\">sweepy-sweep-27</a></strong> to <a href='https://wandb.ai/benmcguirk-queen-mary-university-of-london/xgboost-optimization' target=\"_blank\">Weights & Biases</a> (<a href='https://wandb.me/developer-guide' target=\"_blank\">docs</a>)<br>Sweep page: <a href='https://wandb.ai/benmcguirk-queen-mary-university-of-london/xgboost-optimization/sweeps/kk3lk19c' target=\"_blank\">https://wandb.ai/benmcguirk-queen-mary-university-of-london/xgboost-optimization/sweeps/kk3lk19c</a>"
      ],
      "text/plain": [
       "<IPython.core.display.HTML object>"
      ]
     },
     "metadata": {},
     "output_type": "display_data"
    },
    {
     "data": {
      "text/html": [
       " View project at <a href='https://wandb.ai/benmcguirk-queen-mary-university-of-london/xgboost-optimization' target=\"_blank\">https://wandb.ai/benmcguirk-queen-mary-university-of-london/xgboost-optimization</a>"
      ],
      "text/plain": [
       "<IPython.core.display.HTML object>"
      ]
     },
     "metadata": {},
     "output_type": "display_data"
    },
    {
     "data": {
      "text/html": [
       " View sweep at <a href='https://wandb.ai/benmcguirk-queen-mary-university-of-london/xgboost-optimization/sweeps/kk3lk19c' target=\"_blank\">https://wandb.ai/benmcguirk-queen-mary-university-of-london/xgboost-optimization/sweeps/kk3lk19c</a>"
      ],
      "text/plain": [
       "<IPython.core.display.HTML object>"
      ]
     },
     "metadata": {},
     "output_type": "display_data"
    },
    {
     "data": {
      "text/html": [
       " View run at <a href='https://wandb.ai/benmcguirk-queen-mary-university-of-london/xgboost-optimization/runs/mbyhellc' target=\"_blank\">https://wandb.ai/benmcguirk-queen-mary-university-of-london/xgboost-optimization/runs/mbyhellc</a>"
      ],
      "text/plain": [
       "<IPython.core.display.HTML object>"
      ]
     },
     "metadata": {},
     "output_type": "display_data"
    },
    {
     "data": {
      "text/html": [],
      "text/plain": [
       "<IPython.core.display.HTML object>"
      ]
     },
     "metadata": {},
     "output_type": "display_data"
    },
    {
     "data": {
      "text/html": [
       "<br>    <style><br>        .wandb-row {<br>            display: flex;<br>            flex-direction: row;<br>            flex-wrap: wrap;<br>            justify-content: flex-start;<br>            width: 100%;<br>        }<br>        .wandb-col {<br>            display: flex;<br>            flex-direction: column;<br>            flex-basis: 100%;<br>            flex: 1;<br>            padding: 10px;<br>        }<br>    </style><br><div class=\"wandb-row\"><div class=\"wandb-col\"><h3>Run history:</h3><br/><table class=\"wandb\"><tr><td>learning_rate</td><td>▁</td></tr><tr><td>max_depth</td><td>▁</td></tr><tr><td>n_estimators</td><td>▁</td></tr><tr><td>rmsle</td><td>▁</td></tr></table><br/></div><div class=\"wandb-col\"><h3>Run summary:</h3><br/><table class=\"wandb\"><tr><td>learning_rate</td><td>0.09453</td></tr><tr><td>max_depth</td><td>7</td></tr><tr><td>n_estimators</td><td>842</td></tr><tr><td>rmsle</td><td>0.00383</td></tr></table><br/></div></div>"
      ],
      "text/plain": [
       "<IPython.core.display.HTML object>"
      ]
     },
     "metadata": {},
     "output_type": "display_data"
    },
    {
     "data": {
      "text/html": [
       " View run <strong style=\"color:#cdcd00\">sweepy-sweep-27</strong> at: <a href='https://wandb.ai/benmcguirk-queen-mary-university-of-london/xgboost-optimization/runs/mbyhellc' target=\"_blank\">https://wandb.ai/benmcguirk-queen-mary-university-of-london/xgboost-optimization/runs/mbyhellc</a><br> View project at: <a href='https://wandb.ai/benmcguirk-queen-mary-university-of-london/xgboost-optimization' target=\"_blank\">https://wandb.ai/benmcguirk-queen-mary-university-of-london/xgboost-optimization</a><br>Synced 5 W&B file(s), 0 media file(s), 0 artifact file(s) and 0 other file(s)"
      ],
      "text/plain": [
       "<IPython.core.display.HTML object>"
      ]
     },
     "metadata": {},
     "output_type": "display_data"
    },
    {
     "data": {
      "text/html": [
       "Find logs at: <code>./wandb/run-20250510_152301-mbyhellc/logs</code>"
      ],
      "text/plain": [
       "<IPython.core.display.HTML object>"
      ]
     },
     "metadata": {},
     "output_type": "display_data"
    },
    {
     "name": "stderr",
     "output_type": "stream",
     "text": [
      "\u001b[34m\u001b[1mwandb\u001b[0m: Agent Starting Run: jlv9uwph with config:\n",
      "\u001b[34m\u001b[1mwandb\u001b[0m: \tlearning_rate: 0.11323117340822444\n",
      "\u001b[34m\u001b[1mwandb\u001b[0m: \tmax_depth: 7\n",
      "\u001b[34m\u001b[1mwandb\u001b[0m: \tn_estimators: 820\n"
     ]
    },
    {
     "data": {
      "text/html": [
       "Tracking run with wandb version 0.19.11"
      ],
      "text/plain": [
       "<IPython.core.display.HTML object>"
      ]
     },
     "metadata": {},
     "output_type": "display_data"
    },
    {
     "data": {
      "text/html": [
       "Run data is saved locally in <code>/Users/wpw555/Documents/Kaggle/playground_s5e5/notebooks/wandb/run-20250510_152321-jlv9uwph</code>"
      ],
      "text/plain": [
       "<IPython.core.display.HTML object>"
      ]
     },
     "metadata": {},
     "output_type": "display_data"
    },
    {
     "data": {
      "text/html": [
       "Syncing run <strong><a href='https://wandb.ai/benmcguirk-queen-mary-university-of-london/xgboost-optimization/runs/jlv9uwph' target=\"_blank\">likely-sweep-28</a></strong> to <a href='https://wandb.ai/benmcguirk-queen-mary-university-of-london/xgboost-optimization' target=\"_blank\">Weights & Biases</a> (<a href='https://wandb.me/developer-guide' target=\"_blank\">docs</a>)<br>Sweep page: <a href='https://wandb.ai/benmcguirk-queen-mary-university-of-london/xgboost-optimization/sweeps/kk3lk19c' target=\"_blank\">https://wandb.ai/benmcguirk-queen-mary-university-of-london/xgboost-optimization/sweeps/kk3lk19c</a>"
      ],
      "text/plain": [
       "<IPython.core.display.HTML object>"
      ]
     },
     "metadata": {},
     "output_type": "display_data"
    },
    {
     "data": {
      "text/html": [
       " View project at <a href='https://wandb.ai/benmcguirk-queen-mary-university-of-london/xgboost-optimization' target=\"_blank\">https://wandb.ai/benmcguirk-queen-mary-university-of-london/xgboost-optimization</a>"
      ],
      "text/plain": [
       "<IPython.core.display.HTML object>"
      ]
     },
     "metadata": {},
     "output_type": "display_data"
    },
    {
     "data": {
      "text/html": [
       " View sweep at <a href='https://wandb.ai/benmcguirk-queen-mary-university-of-london/xgboost-optimization/sweeps/kk3lk19c' target=\"_blank\">https://wandb.ai/benmcguirk-queen-mary-university-of-london/xgboost-optimization/sweeps/kk3lk19c</a>"
      ],
      "text/plain": [
       "<IPython.core.display.HTML object>"
      ]
     },
     "metadata": {},
     "output_type": "display_data"
    },
    {
     "data": {
      "text/html": [
       " View run at <a href='https://wandb.ai/benmcguirk-queen-mary-university-of-london/xgboost-optimization/runs/jlv9uwph' target=\"_blank\">https://wandb.ai/benmcguirk-queen-mary-university-of-london/xgboost-optimization/runs/jlv9uwph</a>"
      ],
      "text/plain": [
       "<IPython.core.display.HTML object>"
      ]
     },
     "metadata": {},
     "output_type": "display_data"
    },
    {
     "data": {
      "text/html": [],
      "text/plain": [
       "<IPython.core.display.HTML object>"
      ]
     },
     "metadata": {},
     "output_type": "display_data"
    },
    {
     "data": {
      "text/html": [
       "<br>    <style><br>        .wandb-row {<br>            display: flex;<br>            flex-direction: row;<br>            flex-wrap: wrap;<br>            justify-content: flex-start;<br>            width: 100%;<br>        }<br>        .wandb-col {<br>            display: flex;<br>            flex-direction: column;<br>            flex-basis: 100%;<br>            flex: 1;<br>            padding: 10px;<br>        }<br>    </style><br><div class=\"wandb-row\"><div class=\"wandb-col\"><h3>Run history:</h3><br/><table class=\"wandb\"><tr><td>learning_rate</td><td>▁</td></tr><tr><td>max_depth</td><td>▁</td></tr><tr><td>n_estimators</td><td>▁</td></tr><tr><td>rmsle</td><td>▁</td></tr></table><br/></div><div class=\"wandb-col\"><h3>Run summary:</h3><br/><table class=\"wandb\"><tr><td>learning_rate</td><td>0.11323</td></tr><tr><td>max_depth</td><td>7</td></tr><tr><td>n_estimators</td><td>820</td></tr><tr><td>rmsle</td><td>0.00384</td></tr></table><br/></div></div>"
      ],
      "text/plain": [
       "<IPython.core.display.HTML object>"
      ]
     },
     "metadata": {},
     "output_type": "display_data"
    },
    {
     "data": {
      "text/html": [
       " View run <strong style=\"color:#cdcd00\">likely-sweep-28</strong> at: <a href='https://wandb.ai/benmcguirk-queen-mary-university-of-london/xgboost-optimization/runs/jlv9uwph' target=\"_blank\">https://wandb.ai/benmcguirk-queen-mary-university-of-london/xgboost-optimization/runs/jlv9uwph</a><br> View project at: <a href='https://wandb.ai/benmcguirk-queen-mary-university-of-london/xgboost-optimization' target=\"_blank\">https://wandb.ai/benmcguirk-queen-mary-university-of-london/xgboost-optimization</a><br>Synced 5 W&B file(s), 0 media file(s), 0 artifact file(s) and 0 other file(s)"
      ],
      "text/plain": [
       "<IPython.core.display.HTML object>"
      ]
     },
     "metadata": {},
     "output_type": "display_data"
    },
    {
     "data": {
      "text/html": [
       "Find logs at: <code>./wandb/run-20250510_152321-jlv9uwph/logs</code>"
      ],
      "text/plain": [
       "<IPython.core.display.HTML object>"
      ]
     },
     "metadata": {},
     "output_type": "display_data"
    },
    {
     "name": "stderr",
     "output_type": "stream",
     "text": [
      "\u001b[34m\u001b[1mwandb\u001b[0m: Agent Starting Run: 4jcz1kh4 with config:\n",
      "\u001b[34m\u001b[1mwandb\u001b[0m: \tlearning_rate: 0.09908811191978666\n",
      "\u001b[34m\u001b[1mwandb\u001b[0m: \tmax_depth: 7\n",
      "\u001b[34m\u001b[1mwandb\u001b[0m: \tn_estimators: 935\n"
     ]
    },
    {
     "data": {
      "text/html": [
       "Tracking run with wandb version 0.19.11"
      ],
      "text/plain": [
       "<IPython.core.display.HTML object>"
      ]
     },
     "metadata": {},
     "output_type": "display_data"
    },
    {
     "data": {
      "text/html": [
       "Run data is saved locally in <code>/Users/wpw555/Documents/Kaggle/playground_s5e5/notebooks/wandb/run-20250510_152342-4jcz1kh4</code>"
      ],
      "text/plain": [
       "<IPython.core.display.HTML object>"
      ]
     },
     "metadata": {},
     "output_type": "display_data"
    },
    {
     "data": {
      "text/html": [
       "Syncing run <strong><a href='https://wandb.ai/benmcguirk-queen-mary-university-of-london/xgboost-optimization/runs/4jcz1kh4' target=\"_blank\">resilient-sweep-29</a></strong> to <a href='https://wandb.ai/benmcguirk-queen-mary-university-of-london/xgboost-optimization' target=\"_blank\">Weights & Biases</a> (<a href='https://wandb.me/developer-guide' target=\"_blank\">docs</a>)<br>Sweep page: <a href='https://wandb.ai/benmcguirk-queen-mary-university-of-london/xgboost-optimization/sweeps/kk3lk19c' target=\"_blank\">https://wandb.ai/benmcguirk-queen-mary-university-of-london/xgboost-optimization/sweeps/kk3lk19c</a>"
      ],
      "text/plain": [
       "<IPython.core.display.HTML object>"
      ]
     },
     "metadata": {},
     "output_type": "display_data"
    },
    {
     "data": {
      "text/html": [
       " View project at <a href='https://wandb.ai/benmcguirk-queen-mary-university-of-london/xgboost-optimization' target=\"_blank\">https://wandb.ai/benmcguirk-queen-mary-university-of-london/xgboost-optimization</a>"
      ],
      "text/plain": [
       "<IPython.core.display.HTML object>"
      ]
     },
     "metadata": {},
     "output_type": "display_data"
    },
    {
     "data": {
      "text/html": [
       " View sweep at <a href='https://wandb.ai/benmcguirk-queen-mary-university-of-london/xgboost-optimization/sweeps/kk3lk19c' target=\"_blank\">https://wandb.ai/benmcguirk-queen-mary-university-of-london/xgboost-optimization/sweeps/kk3lk19c</a>"
      ],
      "text/plain": [
       "<IPython.core.display.HTML object>"
      ]
     },
     "metadata": {},
     "output_type": "display_data"
    },
    {
     "data": {
      "text/html": [
       " View run at <a href='https://wandb.ai/benmcguirk-queen-mary-university-of-london/xgboost-optimization/runs/4jcz1kh4' target=\"_blank\">https://wandb.ai/benmcguirk-queen-mary-university-of-london/xgboost-optimization/runs/4jcz1kh4</a>"
      ],
      "text/plain": [
       "<IPython.core.display.HTML object>"
      ]
     },
     "metadata": {},
     "output_type": "display_data"
    },
    {
     "data": {
      "text/html": [],
      "text/plain": [
       "<IPython.core.display.HTML object>"
      ]
     },
     "metadata": {},
     "output_type": "display_data"
    },
    {
     "data": {
      "text/html": [
       "<br>    <style><br>        .wandb-row {<br>            display: flex;<br>            flex-direction: row;<br>            flex-wrap: wrap;<br>            justify-content: flex-start;<br>            width: 100%;<br>        }<br>        .wandb-col {<br>            display: flex;<br>            flex-direction: column;<br>            flex-basis: 100%;<br>            flex: 1;<br>            padding: 10px;<br>        }<br>    </style><br><div class=\"wandb-row\"><div class=\"wandb-col\"><h3>Run history:</h3><br/><table class=\"wandb\"><tr><td>learning_rate</td><td>▁</td></tr><tr><td>max_depth</td><td>▁</td></tr><tr><td>n_estimators</td><td>▁</td></tr><tr><td>rmsle</td><td>▁</td></tr></table><br/></div><div class=\"wandb-col\"><h3>Run summary:</h3><br/><table class=\"wandb\"><tr><td>learning_rate</td><td>0.09909</td></tr><tr><td>max_depth</td><td>7</td></tr><tr><td>n_estimators</td><td>935</td></tr><tr><td>rmsle</td><td>0.00384</td></tr></table><br/></div></div>"
      ],
      "text/plain": [
       "<IPython.core.display.HTML object>"
      ]
     },
     "metadata": {},
     "output_type": "display_data"
    },
    {
     "data": {
      "text/html": [
       " View run <strong style=\"color:#cdcd00\">resilient-sweep-29</strong> at: <a href='https://wandb.ai/benmcguirk-queen-mary-university-of-london/xgboost-optimization/runs/4jcz1kh4' target=\"_blank\">https://wandb.ai/benmcguirk-queen-mary-university-of-london/xgboost-optimization/runs/4jcz1kh4</a><br> View project at: <a href='https://wandb.ai/benmcguirk-queen-mary-university-of-london/xgboost-optimization' target=\"_blank\">https://wandb.ai/benmcguirk-queen-mary-university-of-london/xgboost-optimization</a><br>Synced 5 W&B file(s), 0 media file(s), 0 artifact file(s) and 0 other file(s)"
      ],
      "text/plain": [
       "<IPython.core.display.HTML object>"
      ]
     },
     "metadata": {},
     "output_type": "display_data"
    },
    {
     "data": {
      "text/html": [
       "Find logs at: <code>./wandb/run-20250510_152342-4jcz1kh4/logs</code>"
      ],
      "text/plain": [
       "<IPython.core.display.HTML object>"
      ]
     },
     "metadata": {},
     "output_type": "display_data"
    },
    {
     "name": "stderr",
     "output_type": "stream",
     "text": [
      "\u001b[34m\u001b[1mwandb\u001b[0m: Agent Starting Run: ek7c3bjp with config:\n",
      "\u001b[34m\u001b[1mwandb\u001b[0m: \tlearning_rate: 0.10925450868181628\n",
      "\u001b[34m\u001b[1mwandb\u001b[0m: \tmax_depth: 7\n",
      "\u001b[34m\u001b[1mwandb\u001b[0m: \tn_estimators: 985\n"
     ]
    },
    {
     "data": {
      "text/html": [
       "Tracking run with wandb version 0.19.11"
      ],
      "text/plain": [
       "<IPython.core.display.HTML object>"
      ]
     },
     "metadata": {},
     "output_type": "display_data"
    },
    {
     "data": {
      "text/html": [
       "Run data is saved locally in <code>/Users/wpw555/Documents/Kaggle/playground_s5e5/notebooks/wandb/run-20250510_152404-ek7c3bjp</code>"
      ],
      "text/plain": [
       "<IPython.core.display.HTML object>"
      ]
     },
     "metadata": {},
     "output_type": "display_data"
    },
    {
     "data": {
      "text/html": [
       "Syncing run <strong><a href='https://wandb.ai/benmcguirk-queen-mary-university-of-london/xgboost-optimization/runs/ek7c3bjp' target=\"_blank\">misunderstood-sweep-30</a></strong> to <a href='https://wandb.ai/benmcguirk-queen-mary-university-of-london/xgboost-optimization' target=\"_blank\">Weights & Biases</a> (<a href='https://wandb.me/developer-guide' target=\"_blank\">docs</a>)<br>Sweep page: <a href='https://wandb.ai/benmcguirk-queen-mary-university-of-london/xgboost-optimization/sweeps/kk3lk19c' target=\"_blank\">https://wandb.ai/benmcguirk-queen-mary-university-of-london/xgboost-optimization/sweeps/kk3lk19c</a>"
      ],
      "text/plain": [
       "<IPython.core.display.HTML object>"
      ]
     },
     "metadata": {},
     "output_type": "display_data"
    },
    {
     "data": {
      "text/html": [
       " View project at <a href='https://wandb.ai/benmcguirk-queen-mary-university-of-london/xgboost-optimization' target=\"_blank\">https://wandb.ai/benmcguirk-queen-mary-university-of-london/xgboost-optimization</a>"
      ],
      "text/plain": [
       "<IPython.core.display.HTML object>"
      ]
     },
     "metadata": {},
     "output_type": "display_data"
    },
    {
     "data": {
      "text/html": [
       " View sweep at <a href='https://wandb.ai/benmcguirk-queen-mary-university-of-london/xgboost-optimization/sweeps/kk3lk19c' target=\"_blank\">https://wandb.ai/benmcguirk-queen-mary-university-of-london/xgboost-optimization/sweeps/kk3lk19c</a>"
      ],
      "text/plain": [
       "<IPython.core.display.HTML object>"
      ]
     },
     "metadata": {},
     "output_type": "display_data"
    },
    {
     "data": {
      "text/html": [
       " View run at <a href='https://wandb.ai/benmcguirk-queen-mary-university-of-london/xgboost-optimization/runs/ek7c3bjp' target=\"_blank\">https://wandb.ai/benmcguirk-queen-mary-university-of-london/xgboost-optimization/runs/ek7c3bjp</a>"
      ],
      "text/plain": [
       "<IPython.core.display.HTML object>"
      ]
     },
     "metadata": {},
     "output_type": "display_data"
    },
    {
     "data": {
      "text/html": [],
      "text/plain": [
       "<IPython.core.display.HTML object>"
      ]
     },
     "metadata": {},
     "output_type": "display_data"
    },
    {
     "data": {
      "text/html": [
       "<br>    <style><br>        .wandb-row {<br>            display: flex;<br>            flex-direction: row;<br>            flex-wrap: wrap;<br>            justify-content: flex-start;<br>            width: 100%;<br>        }<br>        .wandb-col {<br>            display: flex;<br>            flex-direction: column;<br>            flex-basis: 100%;<br>            flex: 1;<br>            padding: 10px;<br>        }<br>    </style><br><div class=\"wandb-row\"><div class=\"wandb-col\"><h3>Run history:</h3><br/><table class=\"wandb\"><tr><td>learning_rate</td><td>▁</td></tr><tr><td>max_depth</td><td>▁</td></tr><tr><td>n_estimators</td><td>▁</td></tr><tr><td>rmsle</td><td>▁</td></tr></table><br/></div><div class=\"wandb-col\"><h3>Run summary:</h3><br/><table class=\"wandb\"><tr><td>learning_rate</td><td>0.10925</td></tr><tr><td>max_depth</td><td>7</td></tr><tr><td>n_estimators</td><td>985</td></tr><tr><td>rmsle</td><td>0.00382</td></tr></table><br/></div></div>"
      ],
      "text/plain": [
       "<IPython.core.display.HTML object>"
      ]
     },
     "metadata": {},
     "output_type": "display_data"
    },
    {
     "data": {
      "text/html": [
       " View run <strong style=\"color:#cdcd00\">misunderstood-sweep-30</strong> at: <a href='https://wandb.ai/benmcguirk-queen-mary-university-of-london/xgboost-optimization/runs/ek7c3bjp' target=\"_blank\">https://wandb.ai/benmcguirk-queen-mary-university-of-london/xgboost-optimization/runs/ek7c3bjp</a><br> View project at: <a href='https://wandb.ai/benmcguirk-queen-mary-university-of-london/xgboost-optimization' target=\"_blank\">https://wandb.ai/benmcguirk-queen-mary-university-of-london/xgboost-optimization</a><br>Synced 5 W&B file(s), 0 media file(s), 0 artifact file(s) and 0 other file(s)"
      ],
      "text/plain": [
       "<IPython.core.display.HTML object>"
      ]
     },
     "metadata": {},
     "output_type": "display_data"
    },
    {
     "data": {
      "text/html": [
       "Find logs at: <code>./wandb/run-20250510_152404-ek7c3bjp/logs</code>"
      ],
      "text/plain": [
       "<IPython.core.display.HTML object>"
      ]
     },
     "metadata": {},
     "output_type": "display_data"
    },
    {
     "name": "stderr",
     "output_type": "stream",
     "text": [
      "\u001b[34m\u001b[1mwandb\u001b[0m: Agent Starting Run: 0haihhl3 with config:\n",
      "\u001b[34m\u001b[1mwandb\u001b[0m: \tlearning_rate: 0.10829564293606926\n",
      "\u001b[34m\u001b[1mwandb\u001b[0m: \tmax_depth: 7\n",
      "\u001b[34m\u001b[1mwandb\u001b[0m: \tn_estimators: 955\n"
     ]
    },
    {
     "data": {
      "text/html": [
       "Tracking run with wandb version 0.19.11"
      ],
      "text/plain": [
       "<IPython.core.display.HTML object>"
      ]
     },
     "metadata": {},
     "output_type": "display_data"
    },
    {
     "data": {
      "text/html": [
       "Run data is saved locally in <code>/Users/wpw555/Documents/Kaggle/playground_s5e5/notebooks/wandb/run-20250510_152425-0haihhl3</code>"
      ],
      "text/plain": [
       "<IPython.core.display.HTML object>"
      ]
     },
     "metadata": {},
     "output_type": "display_data"
    },
    {
     "data": {
      "text/html": [
       "Syncing run <strong><a href='https://wandb.ai/benmcguirk-queen-mary-university-of-london/xgboost-optimization/runs/0haihhl3' target=\"_blank\">vital-sweep-31</a></strong> to <a href='https://wandb.ai/benmcguirk-queen-mary-university-of-london/xgboost-optimization' target=\"_blank\">Weights & Biases</a> (<a href='https://wandb.me/developer-guide' target=\"_blank\">docs</a>)<br>Sweep page: <a href='https://wandb.ai/benmcguirk-queen-mary-university-of-london/xgboost-optimization/sweeps/kk3lk19c' target=\"_blank\">https://wandb.ai/benmcguirk-queen-mary-university-of-london/xgboost-optimization/sweeps/kk3lk19c</a>"
      ],
      "text/plain": [
       "<IPython.core.display.HTML object>"
      ]
     },
     "metadata": {},
     "output_type": "display_data"
    },
    {
     "data": {
      "text/html": [
       " View project at <a href='https://wandb.ai/benmcguirk-queen-mary-university-of-london/xgboost-optimization' target=\"_blank\">https://wandb.ai/benmcguirk-queen-mary-university-of-london/xgboost-optimization</a>"
      ],
      "text/plain": [
       "<IPython.core.display.HTML object>"
      ]
     },
     "metadata": {},
     "output_type": "display_data"
    },
    {
     "data": {
      "text/html": [
       " View sweep at <a href='https://wandb.ai/benmcguirk-queen-mary-university-of-london/xgboost-optimization/sweeps/kk3lk19c' target=\"_blank\">https://wandb.ai/benmcguirk-queen-mary-university-of-london/xgboost-optimization/sweeps/kk3lk19c</a>"
      ],
      "text/plain": [
       "<IPython.core.display.HTML object>"
      ]
     },
     "metadata": {},
     "output_type": "display_data"
    },
    {
     "data": {
      "text/html": [
       " View run at <a href='https://wandb.ai/benmcguirk-queen-mary-university-of-london/xgboost-optimization/runs/0haihhl3' target=\"_blank\">https://wandb.ai/benmcguirk-queen-mary-university-of-london/xgboost-optimization/runs/0haihhl3</a>"
      ],
      "text/plain": [
       "<IPython.core.display.HTML object>"
      ]
     },
     "metadata": {},
     "output_type": "display_data"
    },
    {
     "data": {
      "text/html": [],
      "text/plain": [
       "<IPython.core.display.HTML object>"
      ]
     },
     "metadata": {},
     "output_type": "display_data"
    },
    {
     "data": {
      "text/html": [
       "<br>    <style><br>        .wandb-row {<br>            display: flex;<br>            flex-direction: row;<br>            flex-wrap: wrap;<br>            justify-content: flex-start;<br>            width: 100%;<br>        }<br>        .wandb-col {<br>            display: flex;<br>            flex-direction: column;<br>            flex-basis: 100%;<br>            flex: 1;<br>            padding: 10px;<br>        }<br>    </style><br><div class=\"wandb-row\"><div class=\"wandb-col\"><h3>Run history:</h3><br/><table class=\"wandb\"><tr><td>learning_rate</td><td>▁</td></tr><tr><td>max_depth</td><td>▁</td></tr><tr><td>n_estimators</td><td>▁</td></tr><tr><td>rmsle</td><td>▁</td></tr></table><br/></div><div class=\"wandb-col\"><h3>Run summary:</h3><br/><table class=\"wandb\"><tr><td>learning_rate</td><td>0.1083</td></tr><tr><td>max_depth</td><td>7</td></tr><tr><td>n_estimators</td><td>955</td></tr><tr><td>rmsle</td><td>0.00383</td></tr></table><br/></div></div>"
      ],
      "text/plain": [
       "<IPython.core.display.HTML object>"
      ]
     },
     "metadata": {},
     "output_type": "display_data"
    },
    {
     "data": {
      "text/html": [
       " View run <strong style=\"color:#cdcd00\">vital-sweep-31</strong> at: <a href='https://wandb.ai/benmcguirk-queen-mary-university-of-london/xgboost-optimization/runs/0haihhl3' target=\"_blank\">https://wandb.ai/benmcguirk-queen-mary-university-of-london/xgboost-optimization/runs/0haihhl3</a><br> View project at: <a href='https://wandb.ai/benmcguirk-queen-mary-university-of-london/xgboost-optimization' target=\"_blank\">https://wandb.ai/benmcguirk-queen-mary-university-of-london/xgboost-optimization</a><br>Synced 5 W&B file(s), 0 media file(s), 0 artifact file(s) and 0 other file(s)"
      ],
      "text/plain": [
       "<IPython.core.display.HTML object>"
      ]
     },
     "metadata": {},
     "output_type": "display_data"
    },
    {
     "data": {
      "text/html": [
       "Find logs at: <code>./wandb/run-20250510_152425-0haihhl3/logs</code>"
      ],
      "text/plain": [
       "<IPython.core.display.HTML object>"
      ]
     },
     "metadata": {},
     "output_type": "display_data"
    },
    {
     "name": "stderr",
     "output_type": "stream",
     "text": [
      "\u001b[34m\u001b[1mwandb\u001b[0m: Agent Starting Run: kzizqsxk with config:\n",
      "\u001b[34m\u001b[1mwandb\u001b[0m: \tlearning_rate: 0.09264902001194068\n",
      "\u001b[34m\u001b[1mwandb\u001b[0m: \tmax_depth: 7\n",
      "\u001b[34m\u001b[1mwandb\u001b[0m: \tn_estimators: 898\n"
     ]
    },
    {
     "data": {
      "text/html": [
       "Tracking run with wandb version 0.19.11"
      ],
      "text/plain": [
       "<IPython.core.display.HTML object>"
      ]
     },
     "metadata": {},
     "output_type": "display_data"
    },
    {
     "data": {
      "text/html": [
       "Run data is saved locally in <code>/Users/wpw555/Documents/Kaggle/playground_s5e5/notebooks/wandb/run-20250510_152446-kzizqsxk</code>"
      ],
      "text/plain": [
       "<IPython.core.display.HTML object>"
      ]
     },
     "metadata": {},
     "output_type": "display_data"
    },
    {
     "data": {
      "text/html": [
       "Syncing run <strong><a href='https://wandb.ai/benmcguirk-queen-mary-university-of-london/xgboost-optimization/runs/kzizqsxk' target=\"_blank\">lemon-sweep-32</a></strong> to <a href='https://wandb.ai/benmcguirk-queen-mary-university-of-london/xgboost-optimization' target=\"_blank\">Weights & Biases</a> (<a href='https://wandb.me/developer-guide' target=\"_blank\">docs</a>)<br>Sweep page: <a href='https://wandb.ai/benmcguirk-queen-mary-university-of-london/xgboost-optimization/sweeps/kk3lk19c' target=\"_blank\">https://wandb.ai/benmcguirk-queen-mary-university-of-london/xgboost-optimization/sweeps/kk3lk19c</a>"
      ],
      "text/plain": [
       "<IPython.core.display.HTML object>"
      ]
     },
     "metadata": {},
     "output_type": "display_data"
    },
    {
     "data": {
      "text/html": [
       " View project at <a href='https://wandb.ai/benmcguirk-queen-mary-university-of-london/xgboost-optimization' target=\"_blank\">https://wandb.ai/benmcguirk-queen-mary-university-of-london/xgboost-optimization</a>"
      ],
      "text/plain": [
       "<IPython.core.display.HTML object>"
      ]
     },
     "metadata": {},
     "output_type": "display_data"
    },
    {
     "data": {
      "text/html": [
       " View sweep at <a href='https://wandb.ai/benmcguirk-queen-mary-university-of-london/xgboost-optimization/sweeps/kk3lk19c' target=\"_blank\">https://wandb.ai/benmcguirk-queen-mary-university-of-london/xgboost-optimization/sweeps/kk3lk19c</a>"
      ],
      "text/plain": [
       "<IPython.core.display.HTML object>"
      ]
     },
     "metadata": {},
     "output_type": "display_data"
    },
    {
     "data": {
      "text/html": [
       " View run at <a href='https://wandb.ai/benmcguirk-queen-mary-university-of-london/xgboost-optimization/runs/kzizqsxk' target=\"_blank\">https://wandb.ai/benmcguirk-queen-mary-university-of-london/xgboost-optimization/runs/kzizqsxk</a>"
      ],
      "text/plain": [
       "<IPython.core.display.HTML object>"
      ]
     },
     "metadata": {},
     "output_type": "display_data"
    },
    {
     "data": {
      "text/html": [],
      "text/plain": [
       "<IPython.core.display.HTML object>"
      ]
     },
     "metadata": {},
     "output_type": "display_data"
    },
    {
     "data": {
      "text/html": [
       "<br>    <style><br>        .wandb-row {<br>            display: flex;<br>            flex-direction: row;<br>            flex-wrap: wrap;<br>            justify-content: flex-start;<br>            width: 100%;<br>        }<br>        .wandb-col {<br>            display: flex;<br>            flex-direction: column;<br>            flex-basis: 100%;<br>            flex: 1;<br>            padding: 10px;<br>        }<br>    </style><br><div class=\"wandb-row\"><div class=\"wandb-col\"><h3>Run history:</h3><br/><table class=\"wandb\"><tr><td>learning_rate</td><td>▁</td></tr><tr><td>max_depth</td><td>▁</td></tr><tr><td>n_estimators</td><td>▁</td></tr><tr><td>rmsle</td><td>▁</td></tr></table><br/></div><div class=\"wandb-col\"><h3>Run summary:</h3><br/><table class=\"wandb\"><tr><td>learning_rate</td><td>0.09265</td></tr><tr><td>max_depth</td><td>7</td></tr><tr><td>n_estimators</td><td>898</td></tr><tr><td>rmsle</td><td>0.00385</td></tr></table><br/></div></div>"
      ],
      "text/plain": [
       "<IPython.core.display.HTML object>"
      ]
     },
     "metadata": {},
     "output_type": "display_data"
    },
    {
     "data": {
      "text/html": [
       " View run <strong style=\"color:#cdcd00\">lemon-sweep-32</strong> at: <a href='https://wandb.ai/benmcguirk-queen-mary-university-of-london/xgboost-optimization/runs/kzizqsxk' target=\"_blank\">https://wandb.ai/benmcguirk-queen-mary-university-of-london/xgboost-optimization/runs/kzizqsxk</a><br> View project at: <a href='https://wandb.ai/benmcguirk-queen-mary-university-of-london/xgboost-optimization' target=\"_blank\">https://wandb.ai/benmcguirk-queen-mary-university-of-london/xgboost-optimization</a><br>Synced 5 W&B file(s), 0 media file(s), 0 artifact file(s) and 0 other file(s)"
      ],
      "text/plain": [
       "<IPython.core.display.HTML object>"
      ]
     },
     "metadata": {},
     "output_type": "display_data"
    },
    {
     "data": {
      "text/html": [
       "Find logs at: <code>./wandb/run-20250510_152446-kzizqsxk/logs</code>"
      ],
      "text/plain": [
       "<IPython.core.display.HTML object>"
      ]
     },
     "metadata": {},
     "output_type": "display_data"
    },
    {
     "name": "stderr",
     "output_type": "stream",
     "text": [
      "\u001b[34m\u001b[1mwandb\u001b[0m: Agent Starting Run: 2rdv6027 with config:\n",
      "\u001b[34m\u001b[1mwandb\u001b[0m: \tlearning_rate: 0.1151112167779088\n",
      "\u001b[34m\u001b[1mwandb\u001b[0m: \tmax_depth: 7\n",
      "\u001b[34m\u001b[1mwandb\u001b[0m: \tn_estimators: 996\n"
     ]
    },
    {
     "data": {
      "text/html": [
       "Tracking run with wandb version 0.19.11"
      ],
      "text/plain": [
       "<IPython.core.display.HTML object>"
      ]
     },
     "metadata": {},
     "output_type": "display_data"
    },
    {
     "data": {
      "text/html": [
       "Run data is saved locally in <code>/Users/wpw555/Documents/Kaggle/playground_s5e5/notebooks/wandb/run-20250510_152507-2rdv6027</code>"
      ],
      "text/plain": [
       "<IPython.core.display.HTML object>"
      ]
     },
     "metadata": {},
     "output_type": "display_data"
    },
    {
     "data": {
      "text/html": [
       "Syncing run <strong><a href='https://wandb.ai/benmcguirk-queen-mary-university-of-london/xgboost-optimization/runs/2rdv6027' target=\"_blank\">golden-sweep-33</a></strong> to <a href='https://wandb.ai/benmcguirk-queen-mary-university-of-london/xgboost-optimization' target=\"_blank\">Weights & Biases</a> (<a href='https://wandb.me/developer-guide' target=\"_blank\">docs</a>)<br>Sweep page: <a href='https://wandb.ai/benmcguirk-queen-mary-university-of-london/xgboost-optimization/sweeps/kk3lk19c' target=\"_blank\">https://wandb.ai/benmcguirk-queen-mary-university-of-london/xgboost-optimization/sweeps/kk3lk19c</a>"
      ],
      "text/plain": [
       "<IPython.core.display.HTML object>"
      ]
     },
     "metadata": {},
     "output_type": "display_data"
    },
    {
     "data": {
      "text/html": [
       " View project at <a href='https://wandb.ai/benmcguirk-queen-mary-university-of-london/xgboost-optimization' target=\"_blank\">https://wandb.ai/benmcguirk-queen-mary-university-of-london/xgboost-optimization</a>"
      ],
      "text/plain": [
       "<IPython.core.display.HTML object>"
      ]
     },
     "metadata": {},
     "output_type": "display_data"
    },
    {
     "data": {
      "text/html": [
       " View sweep at <a href='https://wandb.ai/benmcguirk-queen-mary-university-of-london/xgboost-optimization/sweeps/kk3lk19c' target=\"_blank\">https://wandb.ai/benmcguirk-queen-mary-university-of-london/xgboost-optimization/sweeps/kk3lk19c</a>"
      ],
      "text/plain": [
       "<IPython.core.display.HTML object>"
      ]
     },
     "metadata": {},
     "output_type": "display_data"
    },
    {
     "data": {
      "text/html": [
       " View run at <a href='https://wandb.ai/benmcguirk-queen-mary-university-of-london/xgboost-optimization/runs/2rdv6027' target=\"_blank\">https://wandb.ai/benmcguirk-queen-mary-university-of-london/xgboost-optimization/runs/2rdv6027</a>"
      ],
      "text/plain": [
       "<IPython.core.display.HTML object>"
      ]
     },
     "metadata": {},
     "output_type": "display_data"
    },
    {
     "data": {
      "text/html": [],
      "text/plain": [
       "<IPython.core.display.HTML object>"
      ]
     },
     "metadata": {},
     "output_type": "display_data"
    },
    {
     "data": {
      "text/html": [
       "<br>    <style><br>        .wandb-row {<br>            display: flex;<br>            flex-direction: row;<br>            flex-wrap: wrap;<br>            justify-content: flex-start;<br>            width: 100%;<br>        }<br>        .wandb-col {<br>            display: flex;<br>            flex-direction: column;<br>            flex-basis: 100%;<br>            flex: 1;<br>            padding: 10px;<br>        }<br>    </style><br><div class=\"wandb-row\"><div class=\"wandb-col\"><h3>Run history:</h3><br/><table class=\"wandb\"><tr><td>learning_rate</td><td>▁</td></tr><tr><td>max_depth</td><td>▁</td></tr><tr><td>n_estimators</td><td>▁</td></tr><tr><td>rmsle</td><td>▁</td></tr></table><br/></div><div class=\"wandb-col\"><h3>Run summary:</h3><br/><table class=\"wandb\"><tr><td>learning_rate</td><td>0.11511</td></tr><tr><td>max_depth</td><td>7</td></tr><tr><td>n_estimators</td><td>996</td></tr><tr><td>rmsle</td><td>0.00388</td></tr></table><br/></div></div>"
      ],
      "text/plain": [
       "<IPython.core.display.HTML object>"
      ]
     },
     "metadata": {},
     "output_type": "display_data"
    },
    {
     "data": {
      "text/html": [
       " View run <strong style=\"color:#cdcd00\">golden-sweep-33</strong> at: <a href='https://wandb.ai/benmcguirk-queen-mary-university-of-london/xgboost-optimization/runs/2rdv6027' target=\"_blank\">https://wandb.ai/benmcguirk-queen-mary-university-of-london/xgboost-optimization/runs/2rdv6027</a><br> View project at: <a href='https://wandb.ai/benmcguirk-queen-mary-university-of-london/xgboost-optimization' target=\"_blank\">https://wandb.ai/benmcguirk-queen-mary-university-of-london/xgboost-optimization</a><br>Synced 5 W&B file(s), 0 media file(s), 0 artifact file(s) and 0 other file(s)"
      ],
      "text/plain": [
       "<IPython.core.display.HTML object>"
      ]
     },
     "metadata": {},
     "output_type": "display_data"
    },
    {
     "data": {
      "text/html": [
       "Find logs at: <code>./wandb/run-20250510_152507-2rdv6027/logs</code>"
      ],
      "text/plain": [
       "<IPython.core.display.HTML object>"
      ]
     },
     "metadata": {},
     "output_type": "display_data"
    },
    {
     "name": "stderr",
     "output_type": "stream",
     "text": [
      "\u001b[34m\u001b[1mwandb\u001b[0m: Sweep Agent: Waiting for job.\n",
      "\u001b[34m\u001b[1mwandb\u001b[0m: Job received.\n",
      "\u001b[34m\u001b[1mwandb\u001b[0m: Agent Starting Run: vrv64uz6 with config:\n",
      "\u001b[34m\u001b[1mwandb\u001b[0m: \tlearning_rate: 0.10679875778693244\n",
      "\u001b[34m\u001b[1mwandb\u001b[0m: \tmax_depth: 7\n",
      "\u001b[34m\u001b[1mwandb\u001b[0m: \tn_estimators: 936\n"
     ]
    },
    {
     "data": {
      "text/html": [
       "Tracking run with wandb version 0.19.11"
      ],
      "text/plain": [
       "<IPython.core.display.HTML object>"
      ]
     },
     "metadata": {},
     "output_type": "display_data"
    },
    {
     "data": {
      "text/html": [
       "Run data is saved locally in <code>/Users/wpw555/Documents/Kaggle/playground_s5e5/notebooks/wandb/run-20250510_152539-vrv64uz6</code>"
      ],
      "text/plain": [
       "<IPython.core.display.HTML object>"
      ]
     },
     "metadata": {},
     "output_type": "display_data"
    },
    {
     "data": {
      "text/html": [
       "Syncing run <strong><a href='https://wandb.ai/benmcguirk-queen-mary-university-of-london/xgboost-optimization/runs/vrv64uz6' target=\"_blank\">unique-sweep-34</a></strong> to <a href='https://wandb.ai/benmcguirk-queen-mary-university-of-london/xgboost-optimization' target=\"_blank\">Weights & Biases</a> (<a href='https://wandb.me/developer-guide' target=\"_blank\">docs</a>)<br>Sweep page: <a href='https://wandb.ai/benmcguirk-queen-mary-university-of-london/xgboost-optimization/sweeps/kk3lk19c' target=\"_blank\">https://wandb.ai/benmcguirk-queen-mary-university-of-london/xgboost-optimization/sweeps/kk3lk19c</a>"
      ],
      "text/plain": [
       "<IPython.core.display.HTML object>"
      ]
     },
     "metadata": {},
     "output_type": "display_data"
    },
    {
     "data": {
      "text/html": [
       " View project at <a href='https://wandb.ai/benmcguirk-queen-mary-university-of-london/xgboost-optimization' target=\"_blank\">https://wandb.ai/benmcguirk-queen-mary-university-of-london/xgboost-optimization</a>"
      ],
      "text/plain": [
       "<IPython.core.display.HTML object>"
      ]
     },
     "metadata": {},
     "output_type": "display_data"
    },
    {
     "data": {
      "text/html": [
       " View sweep at <a href='https://wandb.ai/benmcguirk-queen-mary-university-of-london/xgboost-optimization/sweeps/kk3lk19c' target=\"_blank\">https://wandb.ai/benmcguirk-queen-mary-university-of-london/xgboost-optimization/sweeps/kk3lk19c</a>"
      ],
      "text/plain": [
       "<IPython.core.display.HTML object>"
      ]
     },
     "metadata": {},
     "output_type": "display_data"
    },
    {
     "data": {
      "text/html": [
       " View run at <a href='https://wandb.ai/benmcguirk-queen-mary-university-of-london/xgboost-optimization/runs/vrv64uz6' target=\"_blank\">https://wandb.ai/benmcguirk-queen-mary-university-of-london/xgboost-optimization/runs/vrv64uz6</a>"
      ],
      "text/plain": [
       "<IPython.core.display.HTML object>"
      ]
     },
     "metadata": {},
     "output_type": "display_data"
    },
    {
     "data": {
      "text/html": [],
      "text/plain": [
       "<IPython.core.display.HTML object>"
      ]
     },
     "metadata": {},
     "output_type": "display_data"
    },
    {
     "data": {
      "text/html": [
       "<br>    <style><br>        .wandb-row {<br>            display: flex;<br>            flex-direction: row;<br>            flex-wrap: wrap;<br>            justify-content: flex-start;<br>            width: 100%;<br>        }<br>        .wandb-col {<br>            display: flex;<br>            flex-direction: column;<br>            flex-basis: 100%;<br>            flex: 1;<br>            padding: 10px;<br>        }<br>    </style><br><div class=\"wandb-row\"><div class=\"wandb-col\"><h3>Run history:</h3><br/><table class=\"wandb\"><tr><td>learning_rate</td><td>▁</td></tr><tr><td>max_depth</td><td>▁</td></tr><tr><td>n_estimators</td><td>▁</td></tr><tr><td>rmsle</td><td>▁</td></tr></table><br/></div><div class=\"wandb-col\"><h3>Run summary:</h3><br/><table class=\"wandb\"><tr><td>learning_rate</td><td>0.1068</td></tr><tr><td>max_depth</td><td>7</td></tr><tr><td>n_estimators</td><td>936</td></tr><tr><td>rmsle</td><td>0.00387</td></tr></table><br/></div></div>"
      ],
      "text/plain": [
       "<IPython.core.display.HTML object>"
      ]
     },
     "metadata": {},
     "output_type": "display_data"
    },
    {
     "data": {
      "text/html": [
       " View run <strong style=\"color:#cdcd00\">unique-sweep-34</strong> at: <a href='https://wandb.ai/benmcguirk-queen-mary-university-of-london/xgboost-optimization/runs/vrv64uz6' target=\"_blank\">https://wandb.ai/benmcguirk-queen-mary-university-of-london/xgboost-optimization/runs/vrv64uz6</a><br> View project at: <a href='https://wandb.ai/benmcguirk-queen-mary-university-of-london/xgboost-optimization' target=\"_blank\">https://wandb.ai/benmcguirk-queen-mary-university-of-london/xgboost-optimization</a><br>Synced 5 W&B file(s), 0 media file(s), 0 artifact file(s) and 0 other file(s)"
      ],
      "text/plain": [
       "<IPython.core.display.HTML object>"
      ]
     },
     "metadata": {},
     "output_type": "display_data"
    },
    {
     "data": {
      "text/html": [
       "Find logs at: <code>./wandb/run-20250510_152539-vrv64uz6/logs</code>"
      ],
      "text/plain": [
       "<IPython.core.display.HTML object>"
      ]
     },
     "metadata": {},
     "output_type": "display_data"
    },
    {
     "name": "stderr",
     "output_type": "stream",
     "text": [
      "\u001b[34m\u001b[1mwandb\u001b[0m: Sweep Agent: Waiting for job.\n",
      "\u001b[34m\u001b[1mwandb\u001b[0m: Job received.\n",
      "\u001b[34m\u001b[1mwandb\u001b[0m: Agent Starting Run: foh9moly with config:\n",
      "\u001b[34m\u001b[1mwandb\u001b[0m: \tlearning_rate: 0.0551841423367496\n",
      "\u001b[34m\u001b[1mwandb\u001b[0m: \tmax_depth: 7\n",
      "\u001b[34m\u001b[1mwandb\u001b[0m: \tn_estimators: 998\n"
     ]
    },
    {
     "data": {
      "text/html": [
       "Tracking run with wandb version 0.19.11"
      ],
      "text/plain": [
       "<IPython.core.display.HTML object>"
      ]
     },
     "metadata": {},
     "output_type": "display_data"
    },
    {
     "data": {
      "text/html": [
       "Run data is saved locally in <code>/Users/wpw555/Documents/Kaggle/playground_s5e5/notebooks/wandb/run-20250510_152609-foh9moly</code>"
      ],
      "text/plain": [
       "<IPython.core.display.HTML object>"
      ]
     },
     "metadata": {},
     "output_type": "display_data"
    },
    {
     "data": {
      "text/html": [
       "Syncing run <strong><a href='https://wandb.ai/benmcguirk-queen-mary-university-of-london/xgboost-optimization/runs/foh9moly' target=\"_blank\">toasty-sweep-35</a></strong> to <a href='https://wandb.ai/benmcguirk-queen-mary-university-of-london/xgboost-optimization' target=\"_blank\">Weights & Biases</a> (<a href='https://wandb.me/developer-guide' target=\"_blank\">docs</a>)<br>Sweep page: <a href='https://wandb.ai/benmcguirk-queen-mary-university-of-london/xgboost-optimization/sweeps/kk3lk19c' target=\"_blank\">https://wandb.ai/benmcguirk-queen-mary-university-of-london/xgboost-optimization/sweeps/kk3lk19c</a>"
      ],
      "text/plain": [
       "<IPython.core.display.HTML object>"
      ]
     },
     "metadata": {},
     "output_type": "display_data"
    },
    {
     "data": {
      "text/html": [
       " View project at <a href='https://wandb.ai/benmcguirk-queen-mary-university-of-london/xgboost-optimization' target=\"_blank\">https://wandb.ai/benmcguirk-queen-mary-university-of-london/xgboost-optimization</a>"
      ],
      "text/plain": [
       "<IPython.core.display.HTML object>"
      ]
     },
     "metadata": {},
     "output_type": "display_data"
    },
    {
     "data": {
      "text/html": [
       " View sweep at <a href='https://wandb.ai/benmcguirk-queen-mary-university-of-london/xgboost-optimization/sweeps/kk3lk19c' target=\"_blank\">https://wandb.ai/benmcguirk-queen-mary-university-of-london/xgboost-optimization/sweeps/kk3lk19c</a>"
      ],
      "text/plain": [
       "<IPython.core.display.HTML object>"
      ]
     },
     "metadata": {},
     "output_type": "display_data"
    },
    {
     "data": {
      "text/html": [
       " View run at <a href='https://wandb.ai/benmcguirk-queen-mary-university-of-london/xgboost-optimization/runs/foh9moly' target=\"_blank\">https://wandb.ai/benmcguirk-queen-mary-university-of-london/xgboost-optimization/runs/foh9moly</a>"
      ],
      "text/plain": [
       "<IPython.core.display.HTML object>"
      ]
     },
     "metadata": {},
     "output_type": "display_data"
    },
    {
     "data": {
      "text/html": [],
      "text/plain": [
       "<IPython.core.display.HTML object>"
      ]
     },
     "metadata": {},
     "output_type": "display_data"
    },
    {
     "data": {
      "text/html": [
       "<br>    <style><br>        .wandb-row {<br>            display: flex;<br>            flex-direction: row;<br>            flex-wrap: wrap;<br>            justify-content: flex-start;<br>            width: 100%;<br>        }<br>        .wandb-col {<br>            display: flex;<br>            flex-direction: column;<br>            flex-basis: 100%;<br>            flex: 1;<br>            padding: 10px;<br>        }<br>    </style><br><div class=\"wandb-row\"><div class=\"wandb-col\"><h3>Run history:</h3><br/><table class=\"wandb\"><tr><td>learning_rate</td><td>▁</td></tr><tr><td>max_depth</td><td>▁</td></tr><tr><td>n_estimators</td><td>▁</td></tr><tr><td>rmsle</td><td>▁</td></tr></table><br/></div><div class=\"wandb-col\"><h3>Run summary:</h3><br/><table class=\"wandb\"><tr><td>learning_rate</td><td>0.05518</td></tr><tr><td>max_depth</td><td>7</td></tr><tr><td>n_estimators</td><td>998</td></tr><tr><td>rmsle</td><td>0.00382</td></tr></table><br/></div></div>"
      ],
      "text/plain": [
       "<IPython.core.display.HTML object>"
      ]
     },
     "metadata": {},
     "output_type": "display_data"
    },
    {
     "data": {
      "text/html": [
       " View run <strong style=\"color:#cdcd00\">toasty-sweep-35</strong> at: <a href='https://wandb.ai/benmcguirk-queen-mary-university-of-london/xgboost-optimization/runs/foh9moly' target=\"_blank\">https://wandb.ai/benmcguirk-queen-mary-university-of-london/xgboost-optimization/runs/foh9moly</a><br> View project at: <a href='https://wandb.ai/benmcguirk-queen-mary-university-of-london/xgboost-optimization' target=\"_blank\">https://wandb.ai/benmcguirk-queen-mary-university-of-london/xgboost-optimization</a><br>Synced 5 W&B file(s), 0 media file(s), 0 artifact file(s) and 0 other file(s)"
      ],
      "text/plain": [
       "<IPython.core.display.HTML object>"
      ]
     },
     "metadata": {},
     "output_type": "display_data"
    },
    {
     "data": {
      "text/html": [
       "Find logs at: <code>./wandb/run-20250510_152609-foh9moly/logs</code>"
      ],
      "text/plain": [
       "<IPython.core.display.HTML object>"
      ]
     },
     "metadata": {},
     "output_type": "display_data"
    },
    {
     "name": "stderr",
     "output_type": "stream",
     "text": [
      "\u001b[34m\u001b[1mwandb\u001b[0m: Agent Starting Run: vq1ntbeh with config:\n",
      "\u001b[34m\u001b[1mwandb\u001b[0m: \tlearning_rate: 0.090543263065109\n",
      "\u001b[34m\u001b[1mwandb\u001b[0m: \tmax_depth: 7\n",
      "\u001b[34m\u001b[1mwandb\u001b[0m: \tn_estimators: 917\n"
     ]
    },
    {
     "data": {
      "text/html": [
       "Tracking run with wandb version 0.19.11"
      ],
      "text/plain": [
       "<IPython.core.display.HTML object>"
      ]
     },
     "metadata": {},
     "output_type": "display_data"
    },
    {
     "data": {
      "text/html": [
       "Run data is saved locally in <code>/Users/wpw555/Documents/Kaggle/playground_s5e5/notebooks/wandb/run-20250510_152630-vq1ntbeh</code>"
      ],
      "text/plain": [
       "<IPython.core.display.HTML object>"
      ]
     },
     "metadata": {},
     "output_type": "display_data"
    },
    {
     "data": {
      "text/html": [
       "Syncing run <strong><a href='https://wandb.ai/benmcguirk-queen-mary-university-of-london/xgboost-optimization/runs/vq1ntbeh' target=\"_blank\">cosmic-sweep-36</a></strong> to <a href='https://wandb.ai/benmcguirk-queen-mary-university-of-london/xgboost-optimization' target=\"_blank\">Weights & Biases</a> (<a href='https://wandb.me/developer-guide' target=\"_blank\">docs</a>)<br>Sweep page: <a href='https://wandb.ai/benmcguirk-queen-mary-university-of-london/xgboost-optimization/sweeps/kk3lk19c' target=\"_blank\">https://wandb.ai/benmcguirk-queen-mary-university-of-london/xgboost-optimization/sweeps/kk3lk19c</a>"
      ],
      "text/plain": [
       "<IPython.core.display.HTML object>"
      ]
     },
     "metadata": {},
     "output_type": "display_data"
    },
    {
     "data": {
      "text/html": [
       " View project at <a href='https://wandb.ai/benmcguirk-queen-mary-university-of-london/xgboost-optimization' target=\"_blank\">https://wandb.ai/benmcguirk-queen-mary-university-of-london/xgboost-optimization</a>"
      ],
      "text/plain": [
       "<IPython.core.display.HTML object>"
      ]
     },
     "metadata": {},
     "output_type": "display_data"
    },
    {
     "data": {
      "text/html": [
       " View sweep at <a href='https://wandb.ai/benmcguirk-queen-mary-university-of-london/xgboost-optimization/sweeps/kk3lk19c' target=\"_blank\">https://wandb.ai/benmcguirk-queen-mary-university-of-london/xgboost-optimization/sweeps/kk3lk19c</a>"
      ],
      "text/plain": [
       "<IPython.core.display.HTML object>"
      ]
     },
     "metadata": {},
     "output_type": "display_data"
    },
    {
     "data": {
      "text/html": [
       " View run at <a href='https://wandb.ai/benmcguirk-queen-mary-university-of-london/xgboost-optimization/runs/vq1ntbeh' target=\"_blank\">https://wandb.ai/benmcguirk-queen-mary-university-of-london/xgboost-optimization/runs/vq1ntbeh</a>"
      ],
      "text/plain": [
       "<IPython.core.display.HTML object>"
      ]
     },
     "metadata": {},
     "output_type": "display_data"
    },
    {
     "data": {
      "text/html": [],
      "text/plain": [
       "<IPython.core.display.HTML object>"
      ]
     },
     "metadata": {},
     "output_type": "display_data"
    },
    {
     "data": {
      "text/html": [
       "<br>    <style><br>        .wandb-row {<br>            display: flex;<br>            flex-direction: row;<br>            flex-wrap: wrap;<br>            justify-content: flex-start;<br>            width: 100%;<br>        }<br>        .wandb-col {<br>            display: flex;<br>            flex-direction: column;<br>            flex-basis: 100%;<br>            flex: 1;<br>            padding: 10px;<br>        }<br>    </style><br><div class=\"wandb-row\"><div class=\"wandb-col\"><h3>Run history:</h3><br/><table class=\"wandb\"><tr><td>learning_rate</td><td>▁</td></tr><tr><td>max_depth</td><td>▁</td></tr><tr><td>n_estimators</td><td>▁</td></tr><tr><td>rmsle</td><td>▁</td></tr></table><br/></div><div class=\"wandb-col\"><h3>Run summary:</h3><br/><table class=\"wandb\"><tr><td>learning_rate</td><td>0.09054</td></tr><tr><td>max_depth</td><td>7</td></tr><tr><td>n_estimators</td><td>917</td></tr><tr><td>rmsle</td><td>0.00386</td></tr></table><br/></div></div>"
      ],
      "text/plain": [
       "<IPython.core.display.HTML object>"
      ]
     },
     "metadata": {},
     "output_type": "display_data"
    },
    {
     "data": {
      "text/html": [
       " View run <strong style=\"color:#cdcd00\">cosmic-sweep-36</strong> at: <a href='https://wandb.ai/benmcguirk-queen-mary-university-of-london/xgboost-optimization/runs/vq1ntbeh' target=\"_blank\">https://wandb.ai/benmcguirk-queen-mary-university-of-london/xgboost-optimization/runs/vq1ntbeh</a><br> View project at: <a href='https://wandb.ai/benmcguirk-queen-mary-university-of-london/xgboost-optimization' target=\"_blank\">https://wandb.ai/benmcguirk-queen-mary-university-of-london/xgboost-optimization</a><br>Synced 5 W&B file(s), 0 media file(s), 0 artifact file(s) and 0 other file(s)"
      ],
      "text/plain": [
       "<IPython.core.display.HTML object>"
      ]
     },
     "metadata": {},
     "output_type": "display_data"
    },
    {
     "data": {
      "text/html": [
       "Find logs at: <code>./wandb/run-20250510_152630-vq1ntbeh/logs</code>"
      ],
      "text/plain": [
       "<IPython.core.display.HTML object>"
      ]
     },
     "metadata": {},
     "output_type": "display_data"
    },
    {
     "name": "stderr",
     "output_type": "stream",
     "text": [
      "\u001b[34m\u001b[1mwandb\u001b[0m: Agent Starting Run: 824plw5i with config:\n",
      "\u001b[34m\u001b[1mwandb\u001b[0m: \tlearning_rate: 0.05945092528224721\n",
      "\u001b[34m\u001b[1mwandb\u001b[0m: \tmax_depth: 7\n",
      "\u001b[34m\u001b[1mwandb\u001b[0m: \tn_estimators: 986\n"
     ]
    },
    {
     "data": {
      "text/html": [
       "Tracking run with wandb version 0.19.11"
      ],
      "text/plain": [
       "<IPython.core.display.HTML object>"
      ]
     },
     "metadata": {},
     "output_type": "display_data"
    },
    {
     "data": {
      "text/html": [
       "Run data is saved locally in <code>/Users/wpw555/Documents/Kaggle/playground_s5e5/notebooks/wandb/run-20250510_152652-824plw5i</code>"
      ],
      "text/plain": [
       "<IPython.core.display.HTML object>"
      ]
     },
     "metadata": {},
     "output_type": "display_data"
    },
    {
     "data": {
      "text/html": [
       "Syncing run <strong><a href='https://wandb.ai/benmcguirk-queen-mary-university-of-london/xgboost-optimization/runs/824plw5i' target=\"_blank\">bright-sweep-37</a></strong> to <a href='https://wandb.ai/benmcguirk-queen-mary-university-of-london/xgboost-optimization' target=\"_blank\">Weights & Biases</a> (<a href='https://wandb.me/developer-guide' target=\"_blank\">docs</a>)<br>Sweep page: <a href='https://wandb.ai/benmcguirk-queen-mary-university-of-london/xgboost-optimization/sweeps/kk3lk19c' target=\"_blank\">https://wandb.ai/benmcguirk-queen-mary-university-of-london/xgboost-optimization/sweeps/kk3lk19c</a>"
      ],
      "text/plain": [
       "<IPython.core.display.HTML object>"
      ]
     },
     "metadata": {},
     "output_type": "display_data"
    },
    {
     "data": {
      "text/html": [
       " View project at <a href='https://wandb.ai/benmcguirk-queen-mary-university-of-london/xgboost-optimization' target=\"_blank\">https://wandb.ai/benmcguirk-queen-mary-university-of-london/xgboost-optimization</a>"
      ],
      "text/plain": [
       "<IPython.core.display.HTML object>"
      ]
     },
     "metadata": {},
     "output_type": "display_data"
    },
    {
     "data": {
      "text/html": [
       " View sweep at <a href='https://wandb.ai/benmcguirk-queen-mary-university-of-london/xgboost-optimization/sweeps/kk3lk19c' target=\"_blank\">https://wandb.ai/benmcguirk-queen-mary-university-of-london/xgboost-optimization/sweeps/kk3lk19c</a>"
      ],
      "text/plain": [
       "<IPython.core.display.HTML object>"
      ]
     },
     "metadata": {},
     "output_type": "display_data"
    },
    {
     "data": {
      "text/html": [
       " View run at <a href='https://wandb.ai/benmcguirk-queen-mary-university-of-london/xgboost-optimization/runs/824plw5i' target=\"_blank\">https://wandb.ai/benmcguirk-queen-mary-university-of-london/xgboost-optimization/runs/824plw5i</a>"
      ],
      "text/plain": [
       "<IPython.core.display.HTML object>"
      ]
     },
     "metadata": {},
     "output_type": "display_data"
    },
    {
     "data": {
      "text/html": [],
      "text/plain": [
       "<IPython.core.display.HTML object>"
      ]
     },
     "metadata": {},
     "output_type": "display_data"
    },
    {
     "data": {
      "text/html": [
       "<br>    <style><br>        .wandb-row {<br>            display: flex;<br>            flex-direction: row;<br>            flex-wrap: wrap;<br>            justify-content: flex-start;<br>            width: 100%;<br>        }<br>        .wandb-col {<br>            display: flex;<br>            flex-direction: column;<br>            flex-basis: 100%;<br>            flex: 1;<br>            padding: 10px;<br>        }<br>    </style><br><div class=\"wandb-row\"><div class=\"wandb-col\"><h3>Run history:</h3><br/><table class=\"wandb\"><tr><td>learning_rate</td><td>▁</td></tr><tr><td>max_depth</td><td>▁</td></tr><tr><td>n_estimators</td><td>▁</td></tr><tr><td>rmsle</td><td>▁</td></tr></table><br/></div><div class=\"wandb-col\"><h3>Run summary:</h3><br/><table class=\"wandb\"><tr><td>learning_rate</td><td>0.05945</td></tr><tr><td>max_depth</td><td>7</td></tr><tr><td>n_estimators</td><td>986</td></tr><tr><td>rmsle</td><td>0.00381</td></tr></table><br/></div></div>"
      ],
      "text/plain": [
       "<IPython.core.display.HTML object>"
      ]
     },
     "metadata": {},
     "output_type": "display_data"
    },
    {
     "data": {
      "text/html": [
       " View run <strong style=\"color:#cdcd00\">bright-sweep-37</strong> at: <a href='https://wandb.ai/benmcguirk-queen-mary-university-of-london/xgboost-optimization/runs/824plw5i' target=\"_blank\">https://wandb.ai/benmcguirk-queen-mary-university-of-london/xgboost-optimization/runs/824plw5i</a><br> View project at: <a href='https://wandb.ai/benmcguirk-queen-mary-university-of-london/xgboost-optimization' target=\"_blank\">https://wandb.ai/benmcguirk-queen-mary-university-of-london/xgboost-optimization</a><br>Synced 5 W&B file(s), 0 media file(s), 0 artifact file(s) and 0 other file(s)"
      ],
      "text/plain": [
       "<IPython.core.display.HTML object>"
      ]
     },
     "metadata": {},
     "output_type": "display_data"
    },
    {
     "data": {
      "text/html": [
       "Find logs at: <code>./wandb/run-20250510_152652-824plw5i/logs</code>"
      ],
      "text/plain": [
       "<IPython.core.display.HTML object>"
      ]
     },
     "metadata": {},
     "output_type": "display_data"
    },
    {
     "name": "stderr",
     "output_type": "stream",
     "text": [
      "\u001b[34m\u001b[1mwandb\u001b[0m: Sweep Agent: Waiting for job.\n",
      "\u001b[34m\u001b[1mwandb\u001b[0m: Job received.\n",
      "\u001b[34m\u001b[1mwandb\u001b[0m: Agent Starting Run: dv5jfkva with config:\n",
      "\u001b[34m\u001b[1mwandb\u001b[0m: \tlearning_rate: 0.0874760818533417\n",
      "\u001b[34m\u001b[1mwandb\u001b[0m: \tmax_depth: 7\n",
      "\u001b[34m\u001b[1mwandb\u001b[0m: \tn_estimators: 991\n"
     ]
    },
    {
     "data": {
      "text/html": [
       "Tracking run with wandb version 0.19.11"
      ],
      "text/plain": [
       "<IPython.core.display.HTML object>"
      ]
     },
     "metadata": {},
     "output_type": "display_data"
    },
    {
     "data": {
      "text/html": [
       "Run data is saved locally in <code>/Users/wpw555/Documents/Kaggle/playground_s5e5/notebooks/wandb/run-20250510_152723-dv5jfkva</code>"
      ],
      "text/plain": [
       "<IPython.core.display.HTML object>"
      ]
     },
     "metadata": {},
     "output_type": "display_data"
    },
    {
     "data": {
      "text/html": [
       "Syncing run <strong><a href='https://wandb.ai/benmcguirk-queen-mary-university-of-london/xgboost-optimization/runs/dv5jfkva' target=\"_blank\">denim-sweep-38</a></strong> to <a href='https://wandb.ai/benmcguirk-queen-mary-university-of-london/xgboost-optimization' target=\"_blank\">Weights & Biases</a> (<a href='https://wandb.me/developer-guide' target=\"_blank\">docs</a>)<br>Sweep page: <a href='https://wandb.ai/benmcguirk-queen-mary-university-of-london/xgboost-optimization/sweeps/kk3lk19c' target=\"_blank\">https://wandb.ai/benmcguirk-queen-mary-university-of-london/xgboost-optimization/sweeps/kk3lk19c</a>"
      ],
      "text/plain": [
       "<IPython.core.display.HTML object>"
      ]
     },
     "metadata": {},
     "output_type": "display_data"
    },
    {
     "data": {
      "text/html": [
       " View project at <a href='https://wandb.ai/benmcguirk-queen-mary-university-of-london/xgboost-optimization' target=\"_blank\">https://wandb.ai/benmcguirk-queen-mary-university-of-london/xgboost-optimization</a>"
      ],
      "text/plain": [
       "<IPython.core.display.HTML object>"
      ]
     },
     "metadata": {},
     "output_type": "display_data"
    },
    {
     "data": {
      "text/html": [
       " View sweep at <a href='https://wandb.ai/benmcguirk-queen-mary-university-of-london/xgboost-optimization/sweeps/kk3lk19c' target=\"_blank\">https://wandb.ai/benmcguirk-queen-mary-university-of-london/xgboost-optimization/sweeps/kk3lk19c</a>"
      ],
      "text/plain": [
       "<IPython.core.display.HTML object>"
      ]
     },
     "metadata": {},
     "output_type": "display_data"
    },
    {
     "data": {
      "text/html": [
       " View run at <a href='https://wandb.ai/benmcguirk-queen-mary-university-of-london/xgboost-optimization/runs/dv5jfkva' target=\"_blank\">https://wandb.ai/benmcguirk-queen-mary-university-of-london/xgboost-optimization/runs/dv5jfkva</a>"
      ],
      "text/plain": [
       "<IPython.core.display.HTML object>"
      ]
     },
     "metadata": {},
     "output_type": "display_data"
    },
    {
     "data": {
      "text/html": [],
      "text/plain": [
       "<IPython.core.display.HTML object>"
      ]
     },
     "metadata": {},
     "output_type": "display_data"
    },
    {
     "data": {
      "text/html": [
       "<br>    <style><br>        .wandb-row {<br>            display: flex;<br>            flex-direction: row;<br>            flex-wrap: wrap;<br>            justify-content: flex-start;<br>            width: 100%;<br>        }<br>        .wandb-col {<br>            display: flex;<br>            flex-direction: column;<br>            flex-basis: 100%;<br>            flex: 1;<br>            padding: 10px;<br>        }<br>    </style><br><div class=\"wandb-row\"><div class=\"wandb-col\"><h3>Run history:</h3><br/><table class=\"wandb\"><tr><td>learning_rate</td><td>▁</td></tr><tr><td>max_depth</td><td>▁</td></tr><tr><td>n_estimators</td><td>▁</td></tr><tr><td>rmsle</td><td>▁</td></tr></table><br/></div><div class=\"wandb-col\"><h3>Run summary:</h3><br/><table class=\"wandb\"><tr><td>learning_rate</td><td>0.08748</td></tr><tr><td>max_depth</td><td>7</td></tr><tr><td>n_estimators</td><td>991</td></tr><tr><td>rmsle</td><td>0.00384</td></tr></table><br/></div></div>"
      ],
      "text/plain": [
       "<IPython.core.display.HTML object>"
      ]
     },
     "metadata": {},
     "output_type": "display_data"
    },
    {
     "data": {
      "text/html": [
       " View run <strong style=\"color:#cdcd00\">denim-sweep-38</strong> at: <a href='https://wandb.ai/benmcguirk-queen-mary-university-of-london/xgboost-optimization/runs/dv5jfkva' target=\"_blank\">https://wandb.ai/benmcguirk-queen-mary-university-of-london/xgboost-optimization/runs/dv5jfkva</a><br> View project at: <a href='https://wandb.ai/benmcguirk-queen-mary-university-of-london/xgboost-optimization' target=\"_blank\">https://wandb.ai/benmcguirk-queen-mary-university-of-london/xgboost-optimization</a><br>Synced 5 W&B file(s), 0 media file(s), 0 artifact file(s) and 0 other file(s)"
      ],
      "text/plain": [
       "<IPython.core.display.HTML object>"
      ]
     },
     "metadata": {},
     "output_type": "display_data"
    },
    {
     "data": {
      "text/html": [
       "Find logs at: <code>./wandb/run-20250510_152723-dv5jfkva/logs</code>"
      ],
      "text/plain": [
       "<IPython.core.display.HTML object>"
      ]
     },
     "metadata": {},
     "output_type": "display_data"
    },
    {
     "name": "stderr",
     "output_type": "stream",
     "text": [
      "\u001b[34m\u001b[1mwandb\u001b[0m: Agent Starting Run: zq3kqlh1 with config:\n",
      "\u001b[34m\u001b[1mwandb\u001b[0m: \tlearning_rate: 0.09517267916682225\n",
      "\u001b[34m\u001b[1mwandb\u001b[0m: \tmax_depth: 7\n",
      "\u001b[34m\u001b[1mwandb\u001b[0m: \tn_estimators: 907\n"
     ]
    },
    {
     "data": {
      "text/html": [
       "Tracking run with wandb version 0.19.11"
      ],
      "text/plain": [
       "<IPython.core.display.HTML object>"
      ]
     },
     "metadata": {},
     "output_type": "display_data"
    },
    {
     "data": {
      "text/html": [
       "Run data is saved locally in <code>/Users/wpw555/Documents/Kaggle/playground_s5e5/notebooks/wandb/run-20250510_152744-zq3kqlh1</code>"
      ],
      "text/plain": [
       "<IPython.core.display.HTML object>"
      ]
     },
     "metadata": {},
     "output_type": "display_data"
    },
    {
     "data": {
      "text/html": [
       "Syncing run <strong><a href='https://wandb.ai/benmcguirk-queen-mary-university-of-london/xgboost-optimization/runs/zq3kqlh1' target=\"_blank\">snowy-sweep-39</a></strong> to <a href='https://wandb.ai/benmcguirk-queen-mary-university-of-london/xgboost-optimization' target=\"_blank\">Weights & Biases</a> (<a href='https://wandb.me/developer-guide' target=\"_blank\">docs</a>)<br>Sweep page: <a href='https://wandb.ai/benmcguirk-queen-mary-university-of-london/xgboost-optimization/sweeps/kk3lk19c' target=\"_blank\">https://wandb.ai/benmcguirk-queen-mary-university-of-london/xgboost-optimization/sweeps/kk3lk19c</a>"
      ],
      "text/plain": [
       "<IPython.core.display.HTML object>"
      ]
     },
     "metadata": {},
     "output_type": "display_data"
    },
    {
     "data": {
      "text/html": [
       " View project at <a href='https://wandb.ai/benmcguirk-queen-mary-university-of-london/xgboost-optimization' target=\"_blank\">https://wandb.ai/benmcguirk-queen-mary-university-of-london/xgboost-optimization</a>"
      ],
      "text/plain": [
       "<IPython.core.display.HTML object>"
      ]
     },
     "metadata": {},
     "output_type": "display_data"
    },
    {
     "data": {
      "text/html": [
       " View sweep at <a href='https://wandb.ai/benmcguirk-queen-mary-university-of-london/xgboost-optimization/sweeps/kk3lk19c' target=\"_blank\">https://wandb.ai/benmcguirk-queen-mary-university-of-london/xgboost-optimization/sweeps/kk3lk19c</a>"
      ],
      "text/plain": [
       "<IPython.core.display.HTML object>"
      ]
     },
     "metadata": {},
     "output_type": "display_data"
    },
    {
     "data": {
      "text/html": [
       " View run at <a href='https://wandb.ai/benmcguirk-queen-mary-university-of-london/xgboost-optimization/runs/zq3kqlh1' target=\"_blank\">https://wandb.ai/benmcguirk-queen-mary-university-of-london/xgboost-optimization/runs/zq3kqlh1</a>"
      ],
      "text/plain": [
       "<IPython.core.display.HTML object>"
      ]
     },
     "metadata": {},
     "output_type": "display_data"
    },
    {
     "data": {
      "text/html": [],
      "text/plain": [
       "<IPython.core.display.HTML object>"
      ]
     },
     "metadata": {},
     "output_type": "display_data"
    },
    {
     "data": {
      "text/html": [
       "<br>    <style><br>        .wandb-row {<br>            display: flex;<br>            flex-direction: row;<br>            flex-wrap: wrap;<br>            justify-content: flex-start;<br>            width: 100%;<br>        }<br>        .wandb-col {<br>            display: flex;<br>            flex-direction: column;<br>            flex-basis: 100%;<br>            flex: 1;<br>            padding: 10px;<br>        }<br>    </style><br><div class=\"wandb-row\"><div class=\"wandb-col\"><h3>Run history:</h3><br/><table class=\"wandb\"><tr><td>learning_rate</td><td>▁</td></tr><tr><td>max_depth</td><td>▁</td></tr><tr><td>n_estimators</td><td>▁</td></tr><tr><td>rmsle</td><td>▁</td></tr></table><br/></div><div class=\"wandb-col\"><h3>Run summary:</h3><br/><table class=\"wandb\"><tr><td>learning_rate</td><td>0.09517</td></tr><tr><td>max_depth</td><td>7</td></tr><tr><td>n_estimators</td><td>907</td></tr><tr><td>rmsle</td><td>0.00383</td></tr></table><br/></div></div>"
      ],
      "text/plain": [
       "<IPython.core.display.HTML object>"
      ]
     },
     "metadata": {},
     "output_type": "display_data"
    },
    {
     "data": {
      "text/html": [
       " View run <strong style=\"color:#cdcd00\">snowy-sweep-39</strong> at: <a href='https://wandb.ai/benmcguirk-queen-mary-university-of-london/xgboost-optimization/runs/zq3kqlh1' target=\"_blank\">https://wandb.ai/benmcguirk-queen-mary-university-of-london/xgboost-optimization/runs/zq3kqlh1</a><br> View project at: <a href='https://wandb.ai/benmcguirk-queen-mary-university-of-london/xgboost-optimization' target=\"_blank\">https://wandb.ai/benmcguirk-queen-mary-university-of-london/xgboost-optimization</a><br>Synced 5 W&B file(s), 0 media file(s), 0 artifact file(s) and 0 other file(s)"
      ],
      "text/plain": [
       "<IPython.core.display.HTML object>"
      ]
     },
     "metadata": {},
     "output_type": "display_data"
    },
    {
     "data": {
      "text/html": [
       "Find logs at: <code>./wandb/run-20250510_152744-zq3kqlh1/logs</code>"
      ],
      "text/plain": [
       "<IPython.core.display.HTML object>"
      ]
     },
     "metadata": {},
     "output_type": "display_data"
    },
    {
     "name": "stderr",
     "output_type": "stream",
     "text": [
      "\u001b[34m\u001b[1mwandb\u001b[0m: Agent Starting Run: 97if9b18 with config:\n",
      "\u001b[34m\u001b[1mwandb\u001b[0m: \tlearning_rate: 0.10284424541415758\n",
      "\u001b[34m\u001b[1mwandb\u001b[0m: \tmax_depth: 7\n",
      "\u001b[34m\u001b[1mwandb\u001b[0m: \tn_estimators: 934\n"
     ]
    },
    {
     "data": {
      "text/html": [
       "Tracking run with wandb version 0.19.11"
      ],
      "text/plain": [
       "<IPython.core.display.HTML object>"
      ]
     },
     "metadata": {},
     "output_type": "display_data"
    },
    {
     "data": {
      "text/html": [
       "Run data is saved locally in <code>/Users/wpw555/Documents/Kaggle/playground_s5e5/notebooks/wandb/run-20250510_152804-97if9b18</code>"
      ],
      "text/plain": [
       "<IPython.core.display.HTML object>"
      ]
     },
     "metadata": {},
     "output_type": "display_data"
    },
    {
     "data": {
      "text/html": [
       "Syncing run <strong><a href='https://wandb.ai/benmcguirk-queen-mary-university-of-london/xgboost-optimization/runs/97if9b18' target=\"_blank\">zany-sweep-40</a></strong> to <a href='https://wandb.ai/benmcguirk-queen-mary-university-of-london/xgboost-optimization' target=\"_blank\">Weights & Biases</a> (<a href='https://wandb.me/developer-guide' target=\"_blank\">docs</a>)<br>Sweep page: <a href='https://wandb.ai/benmcguirk-queen-mary-university-of-london/xgboost-optimization/sweeps/kk3lk19c' target=\"_blank\">https://wandb.ai/benmcguirk-queen-mary-university-of-london/xgboost-optimization/sweeps/kk3lk19c</a>"
      ],
      "text/plain": [
       "<IPython.core.display.HTML object>"
      ]
     },
     "metadata": {},
     "output_type": "display_data"
    },
    {
     "data": {
      "text/html": [
       " View project at <a href='https://wandb.ai/benmcguirk-queen-mary-university-of-london/xgboost-optimization' target=\"_blank\">https://wandb.ai/benmcguirk-queen-mary-university-of-london/xgboost-optimization</a>"
      ],
      "text/plain": [
       "<IPython.core.display.HTML object>"
      ]
     },
     "metadata": {},
     "output_type": "display_data"
    },
    {
     "data": {
      "text/html": [
       " View sweep at <a href='https://wandb.ai/benmcguirk-queen-mary-university-of-london/xgboost-optimization/sweeps/kk3lk19c' target=\"_blank\">https://wandb.ai/benmcguirk-queen-mary-university-of-london/xgboost-optimization/sweeps/kk3lk19c</a>"
      ],
      "text/plain": [
       "<IPython.core.display.HTML object>"
      ]
     },
     "metadata": {},
     "output_type": "display_data"
    },
    {
     "data": {
      "text/html": [
       " View run at <a href='https://wandb.ai/benmcguirk-queen-mary-university-of-london/xgboost-optimization/runs/97if9b18' target=\"_blank\">https://wandb.ai/benmcguirk-queen-mary-university-of-london/xgboost-optimization/runs/97if9b18</a>"
      ],
      "text/plain": [
       "<IPython.core.display.HTML object>"
      ]
     },
     "metadata": {},
     "output_type": "display_data"
    },
    {
     "data": {
      "text/html": [],
      "text/plain": [
       "<IPython.core.display.HTML object>"
      ]
     },
     "metadata": {},
     "output_type": "display_data"
    },
    {
     "data": {
      "text/html": [
       "<br>    <style><br>        .wandb-row {<br>            display: flex;<br>            flex-direction: row;<br>            flex-wrap: wrap;<br>            justify-content: flex-start;<br>            width: 100%;<br>        }<br>        .wandb-col {<br>            display: flex;<br>            flex-direction: column;<br>            flex-basis: 100%;<br>            flex: 1;<br>            padding: 10px;<br>        }<br>    </style><br><div class=\"wandb-row\"><div class=\"wandb-col\"><h3>Run history:</h3><br/><table class=\"wandb\"><tr><td>learning_rate</td><td>▁</td></tr><tr><td>max_depth</td><td>▁</td></tr><tr><td>n_estimators</td><td>▁</td></tr><tr><td>rmsle</td><td>▁</td></tr></table><br/></div><div class=\"wandb-col\"><h3>Run summary:</h3><br/><table class=\"wandb\"><tr><td>learning_rate</td><td>0.10284</td></tr><tr><td>max_depth</td><td>7</td></tr><tr><td>n_estimators</td><td>934</td></tr><tr><td>rmsle</td><td>0.00391</td></tr></table><br/></div></div>"
      ],
      "text/plain": [
       "<IPython.core.display.HTML object>"
      ]
     },
     "metadata": {},
     "output_type": "display_data"
    },
    {
     "data": {
      "text/html": [
       " View run <strong style=\"color:#cdcd00\">zany-sweep-40</strong> at: <a href='https://wandb.ai/benmcguirk-queen-mary-university-of-london/xgboost-optimization/runs/97if9b18' target=\"_blank\">https://wandb.ai/benmcguirk-queen-mary-university-of-london/xgboost-optimization/runs/97if9b18</a><br> View project at: <a href='https://wandb.ai/benmcguirk-queen-mary-university-of-london/xgboost-optimization' target=\"_blank\">https://wandb.ai/benmcguirk-queen-mary-university-of-london/xgboost-optimization</a><br>Synced 5 W&B file(s), 0 media file(s), 0 artifact file(s) and 0 other file(s)"
      ],
      "text/plain": [
       "<IPython.core.display.HTML object>"
      ]
     },
     "metadata": {},
     "output_type": "display_data"
    },
    {
     "data": {
      "text/html": [
       "Find logs at: <code>./wandb/run-20250510_152804-97if9b18/logs</code>"
      ],
      "text/plain": [
       "<IPython.core.display.HTML object>"
      ]
     },
     "metadata": {},
     "output_type": "display_data"
    },
    {
     "name": "stderr",
     "output_type": "stream",
     "text": [
      "\u001b[34m\u001b[1mwandb\u001b[0m: Agent Starting Run: ee4fqoni with config:\n",
      "\u001b[34m\u001b[1mwandb\u001b[0m: \tlearning_rate: 0.257980329354878\n",
      "\u001b[34m\u001b[1mwandb\u001b[0m: \tmax_depth: 3\n",
      "\u001b[34m\u001b[1mwandb\u001b[0m: \tn_estimators: 851\n"
     ]
    },
    {
     "data": {
      "text/html": [
       "Tracking run with wandb version 0.19.11"
      ],
      "text/plain": [
       "<IPython.core.display.HTML object>"
      ]
     },
     "metadata": {},
     "output_type": "display_data"
    },
    {
     "data": {
      "text/html": [
       "Run data is saved locally in <code>/Users/wpw555/Documents/Kaggle/playground_s5e5/notebooks/wandb/run-20250510_152826-ee4fqoni</code>"
      ],
      "text/plain": [
       "<IPython.core.display.HTML object>"
      ]
     },
     "metadata": {},
     "output_type": "display_data"
    },
    {
     "data": {
      "text/html": [
       "Syncing run <strong><a href='https://wandb.ai/benmcguirk-queen-mary-university-of-london/xgboost-optimization/runs/ee4fqoni' target=\"_blank\">classic-sweep-41</a></strong> to <a href='https://wandb.ai/benmcguirk-queen-mary-university-of-london/xgboost-optimization' target=\"_blank\">Weights & Biases</a> (<a href='https://wandb.me/developer-guide' target=\"_blank\">docs</a>)<br>Sweep page: <a href='https://wandb.ai/benmcguirk-queen-mary-university-of-london/xgboost-optimization/sweeps/kk3lk19c' target=\"_blank\">https://wandb.ai/benmcguirk-queen-mary-university-of-london/xgboost-optimization/sweeps/kk3lk19c</a>"
      ],
      "text/plain": [
       "<IPython.core.display.HTML object>"
      ]
     },
     "metadata": {},
     "output_type": "display_data"
    },
    {
     "data": {
      "text/html": [
       " View project at <a href='https://wandb.ai/benmcguirk-queen-mary-university-of-london/xgboost-optimization' target=\"_blank\">https://wandb.ai/benmcguirk-queen-mary-university-of-london/xgboost-optimization</a>"
      ],
      "text/plain": [
       "<IPython.core.display.HTML object>"
      ]
     },
     "metadata": {},
     "output_type": "display_data"
    },
    {
     "data": {
      "text/html": [
       " View sweep at <a href='https://wandb.ai/benmcguirk-queen-mary-university-of-london/xgboost-optimization/sweeps/kk3lk19c' target=\"_blank\">https://wandb.ai/benmcguirk-queen-mary-university-of-london/xgboost-optimization/sweeps/kk3lk19c</a>"
      ],
      "text/plain": [
       "<IPython.core.display.HTML object>"
      ]
     },
     "metadata": {},
     "output_type": "display_data"
    },
    {
     "data": {
      "text/html": [
       " View run at <a href='https://wandb.ai/benmcguirk-queen-mary-university-of-london/xgboost-optimization/runs/ee4fqoni' target=\"_blank\">https://wandb.ai/benmcguirk-queen-mary-university-of-london/xgboost-optimization/runs/ee4fqoni</a>"
      ],
      "text/plain": [
       "<IPython.core.display.HTML object>"
      ]
     },
     "metadata": {},
     "output_type": "display_data"
    },
    {
     "data": {
      "text/html": [],
      "text/plain": [
       "<IPython.core.display.HTML object>"
      ]
     },
     "metadata": {},
     "output_type": "display_data"
    },
    {
     "data": {
      "text/html": [
       "<br>    <style><br>        .wandb-row {<br>            display: flex;<br>            flex-direction: row;<br>            flex-wrap: wrap;<br>            justify-content: flex-start;<br>            width: 100%;<br>        }<br>        .wandb-col {<br>            display: flex;<br>            flex-direction: column;<br>            flex-basis: 100%;<br>            flex: 1;<br>            padding: 10px;<br>        }<br>    </style><br><div class=\"wandb-row\"><div class=\"wandb-col\"><h3>Run history:</h3><br/><table class=\"wandb\"><tr><td>learning_rate</td><td>▁</td></tr><tr><td>max_depth</td><td>▁</td></tr><tr><td>n_estimators</td><td>▁</td></tr><tr><td>rmsle</td><td>▁</td></tr></table><br/></div><div class=\"wandb-col\"><h3>Run summary:</h3><br/><table class=\"wandb\"><tr><td>learning_rate</td><td>0.25798</td></tr><tr><td>max_depth</td><td>3</td></tr><tr><td>n_estimators</td><td>851</td></tr><tr><td>rmsle</td><td>0.00472</td></tr></table><br/></div></div>"
      ],
      "text/plain": [
       "<IPython.core.display.HTML object>"
      ]
     },
     "metadata": {},
     "output_type": "display_data"
    },
    {
     "data": {
      "text/html": [
       " View run <strong style=\"color:#cdcd00\">classic-sweep-41</strong> at: <a href='https://wandb.ai/benmcguirk-queen-mary-university-of-london/xgboost-optimization/runs/ee4fqoni' target=\"_blank\">https://wandb.ai/benmcguirk-queen-mary-university-of-london/xgboost-optimization/runs/ee4fqoni</a><br> View project at: <a href='https://wandb.ai/benmcguirk-queen-mary-university-of-london/xgboost-optimization' target=\"_blank\">https://wandb.ai/benmcguirk-queen-mary-university-of-london/xgboost-optimization</a><br>Synced 5 W&B file(s), 0 media file(s), 0 artifact file(s) and 0 other file(s)"
      ],
      "text/plain": [
       "<IPython.core.display.HTML object>"
      ]
     },
     "metadata": {},
     "output_type": "display_data"
    },
    {
     "data": {
      "text/html": [
       "Find logs at: <code>./wandb/run-20250510_152826-ee4fqoni/logs</code>"
      ],
      "text/plain": [
       "<IPython.core.display.HTML object>"
      ]
     },
     "metadata": {},
     "output_type": "display_data"
    },
    {
     "name": "stderr",
     "output_type": "stream",
     "text": [
      "\u001b[34m\u001b[1mwandb\u001b[0m: Agent Starting Run: lljlaq8p with config:\n",
      "\u001b[34m\u001b[1mwandb\u001b[0m: \tlearning_rate: 0.11092542703834718\n",
      "\u001b[34m\u001b[1mwandb\u001b[0m: \tmax_depth: 7\n",
      "\u001b[34m\u001b[1mwandb\u001b[0m: \tn_estimators: 901\n"
     ]
    },
    {
     "data": {
      "text/html": [
       "Tracking run with wandb version 0.19.11"
      ],
      "text/plain": [
       "<IPython.core.display.HTML object>"
      ]
     },
     "metadata": {},
     "output_type": "display_data"
    },
    {
     "data": {
      "text/html": [
       "Run data is saved locally in <code>/Users/wpw555/Documents/Kaggle/playground_s5e5/notebooks/wandb/run-20250510_152841-lljlaq8p</code>"
      ],
      "text/plain": [
       "<IPython.core.display.HTML object>"
      ]
     },
     "metadata": {},
     "output_type": "display_data"
    },
    {
     "data": {
      "text/html": [
       "Syncing run <strong><a href='https://wandb.ai/benmcguirk-queen-mary-university-of-london/xgboost-optimization/runs/lljlaq8p' target=\"_blank\">graceful-sweep-42</a></strong> to <a href='https://wandb.ai/benmcguirk-queen-mary-university-of-london/xgboost-optimization' target=\"_blank\">Weights & Biases</a> (<a href='https://wandb.me/developer-guide' target=\"_blank\">docs</a>)<br>Sweep page: <a href='https://wandb.ai/benmcguirk-queen-mary-university-of-london/xgboost-optimization/sweeps/kk3lk19c' target=\"_blank\">https://wandb.ai/benmcguirk-queen-mary-university-of-london/xgboost-optimization/sweeps/kk3lk19c</a>"
      ],
      "text/plain": [
       "<IPython.core.display.HTML object>"
      ]
     },
     "metadata": {},
     "output_type": "display_data"
    },
    {
     "data": {
      "text/html": [
       " View project at <a href='https://wandb.ai/benmcguirk-queen-mary-university-of-london/xgboost-optimization' target=\"_blank\">https://wandb.ai/benmcguirk-queen-mary-university-of-london/xgboost-optimization</a>"
      ],
      "text/plain": [
       "<IPython.core.display.HTML object>"
      ]
     },
     "metadata": {},
     "output_type": "display_data"
    },
    {
     "data": {
      "text/html": [
       " View sweep at <a href='https://wandb.ai/benmcguirk-queen-mary-university-of-london/xgboost-optimization/sweeps/kk3lk19c' target=\"_blank\">https://wandb.ai/benmcguirk-queen-mary-university-of-london/xgboost-optimization/sweeps/kk3lk19c</a>"
      ],
      "text/plain": [
       "<IPython.core.display.HTML object>"
      ]
     },
     "metadata": {},
     "output_type": "display_data"
    },
    {
     "data": {
      "text/html": [
       " View run at <a href='https://wandb.ai/benmcguirk-queen-mary-university-of-london/xgboost-optimization/runs/lljlaq8p' target=\"_blank\">https://wandb.ai/benmcguirk-queen-mary-university-of-london/xgboost-optimization/runs/lljlaq8p</a>"
      ],
      "text/plain": [
       "<IPython.core.display.HTML object>"
      ]
     },
     "metadata": {},
     "output_type": "display_data"
    },
    {
     "data": {
      "text/html": [],
      "text/plain": [
       "<IPython.core.display.HTML object>"
      ]
     },
     "metadata": {},
     "output_type": "display_data"
    },
    {
     "data": {
      "text/html": [
       "<br>    <style><br>        .wandb-row {<br>            display: flex;<br>            flex-direction: row;<br>            flex-wrap: wrap;<br>            justify-content: flex-start;<br>            width: 100%;<br>        }<br>        .wandb-col {<br>            display: flex;<br>            flex-direction: column;<br>            flex-basis: 100%;<br>            flex: 1;<br>            padding: 10px;<br>        }<br>    </style><br><div class=\"wandb-row\"><div class=\"wandb-col\"><h3>Run history:</h3><br/><table class=\"wandb\"><tr><td>learning_rate</td><td>▁</td></tr><tr><td>max_depth</td><td>▁</td></tr><tr><td>n_estimators</td><td>▁</td></tr><tr><td>rmsle</td><td>▁</td></tr></table><br/></div><div class=\"wandb-col\"><h3>Run summary:</h3><br/><table class=\"wandb\"><tr><td>learning_rate</td><td>0.11093</td></tr><tr><td>max_depth</td><td>7</td></tr><tr><td>n_estimators</td><td>901</td></tr><tr><td>rmsle</td><td>0.00385</td></tr></table><br/></div></div>"
      ],
      "text/plain": [
       "<IPython.core.display.HTML object>"
      ]
     },
     "metadata": {},
     "output_type": "display_data"
    },
    {
     "data": {
      "text/html": [
       " View run <strong style=\"color:#cdcd00\">graceful-sweep-42</strong> at: <a href='https://wandb.ai/benmcguirk-queen-mary-university-of-london/xgboost-optimization/runs/lljlaq8p' target=\"_blank\">https://wandb.ai/benmcguirk-queen-mary-university-of-london/xgboost-optimization/runs/lljlaq8p</a><br> View project at: <a href='https://wandb.ai/benmcguirk-queen-mary-university-of-london/xgboost-optimization' target=\"_blank\">https://wandb.ai/benmcguirk-queen-mary-university-of-london/xgboost-optimization</a><br>Synced 5 W&B file(s), 0 media file(s), 0 artifact file(s) and 0 other file(s)"
      ],
      "text/plain": [
       "<IPython.core.display.HTML object>"
      ]
     },
     "metadata": {},
     "output_type": "display_data"
    },
    {
     "data": {
      "text/html": [
       "Find logs at: <code>./wandb/run-20250510_152841-lljlaq8p/logs</code>"
      ],
      "text/plain": [
       "<IPython.core.display.HTML object>"
      ]
     },
     "metadata": {},
     "output_type": "display_data"
    },
    {
     "name": "stderr",
     "output_type": "stream",
     "text": [
      "\u001b[34m\u001b[1mwandb\u001b[0m: Agent Starting Run: 54ted0e5 with config:\n",
      "\u001b[34m\u001b[1mwandb\u001b[0m: \tlearning_rate: 0.08398686853919232\n",
      "\u001b[34m\u001b[1mwandb\u001b[0m: \tmax_depth: 7\n",
      "\u001b[34m\u001b[1mwandb\u001b[0m: \tn_estimators: 942\n"
     ]
    },
    {
     "data": {
      "text/html": [
       "Tracking run with wandb version 0.19.11"
      ],
      "text/plain": [
       "<IPython.core.display.HTML object>"
      ]
     },
     "metadata": {},
     "output_type": "display_data"
    },
    {
     "data": {
      "text/html": [
       "Run data is saved locally in <code>/Users/wpw555/Documents/Kaggle/playground_s5e5/notebooks/wandb/run-20250510_152903-54ted0e5</code>"
      ],
      "text/plain": [
       "<IPython.core.display.HTML object>"
      ]
     },
     "metadata": {},
     "output_type": "display_data"
    },
    {
     "data": {
      "text/html": [
       "Syncing run <strong><a href='https://wandb.ai/benmcguirk-queen-mary-university-of-london/xgboost-optimization/runs/54ted0e5' target=\"_blank\">rose-sweep-43</a></strong> to <a href='https://wandb.ai/benmcguirk-queen-mary-university-of-london/xgboost-optimization' target=\"_blank\">Weights & Biases</a> (<a href='https://wandb.me/developer-guide' target=\"_blank\">docs</a>)<br>Sweep page: <a href='https://wandb.ai/benmcguirk-queen-mary-university-of-london/xgboost-optimization/sweeps/kk3lk19c' target=\"_blank\">https://wandb.ai/benmcguirk-queen-mary-university-of-london/xgboost-optimization/sweeps/kk3lk19c</a>"
      ],
      "text/plain": [
       "<IPython.core.display.HTML object>"
      ]
     },
     "metadata": {},
     "output_type": "display_data"
    },
    {
     "data": {
      "text/html": [
       " View project at <a href='https://wandb.ai/benmcguirk-queen-mary-university-of-london/xgboost-optimization' target=\"_blank\">https://wandb.ai/benmcguirk-queen-mary-university-of-london/xgboost-optimization</a>"
      ],
      "text/plain": [
       "<IPython.core.display.HTML object>"
      ]
     },
     "metadata": {},
     "output_type": "display_data"
    },
    {
     "data": {
      "text/html": [
       " View sweep at <a href='https://wandb.ai/benmcguirk-queen-mary-university-of-london/xgboost-optimization/sweeps/kk3lk19c' target=\"_blank\">https://wandb.ai/benmcguirk-queen-mary-university-of-london/xgboost-optimization/sweeps/kk3lk19c</a>"
      ],
      "text/plain": [
       "<IPython.core.display.HTML object>"
      ]
     },
     "metadata": {},
     "output_type": "display_data"
    },
    {
     "data": {
      "text/html": [
       " View run at <a href='https://wandb.ai/benmcguirk-queen-mary-university-of-london/xgboost-optimization/runs/54ted0e5' target=\"_blank\">https://wandb.ai/benmcguirk-queen-mary-university-of-london/xgboost-optimization/runs/54ted0e5</a>"
      ],
      "text/plain": [
       "<IPython.core.display.HTML object>"
      ]
     },
     "metadata": {},
     "output_type": "display_data"
    },
    {
     "data": {
      "text/html": [],
      "text/plain": [
       "<IPython.core.display.HTML object>"
      ]
     },
     "metadata": {},
     "output_type": "display_data"
    },
    {
     "data": {
      "text/html": [
       "<br>    <style><br>        .wandb-row {<br>            display: flex;<br>            flex-direction: row;<br>            flex-wrap: wrap;<br>            justify-content: flex-start;<br>            width: 100%;<br>        }<br>        .wandb-col {<br>            display: flex;<br>            flex-direction: column;<br>            flex-basis: 100%;<br>            flex: 1;<br>            padding: 10px;<br>        }<br>    </style><br><div class=\"wandb-row\"><div class=\"wandb-col\"><h3>Run history:</h3><br/><table class=\"wandb\"><tr><td>learning_rate</td><td>▁</td></tr><tr><td>max_depth</td><td>▁</td></tr><tr><td>n_estimators</td><td>▁</td></tr><tr><td>rmsle</td><td>▁</td></tr></table><br/></div><div class=\"wandb-col\"><h3>Run summary:</h3><br/><table class=\"wandb\"><tr><td>learning_rate</td><td>0.08399</td></tr><tr><td>max_depth</td><td>7</td></tr><tr><td>n_estimators</td><td>942</td></tr><tr><td>rmsle</td><td>0.00386</td></tr></table><br/></div></div>"
      ],
      "text/plain": [
       "<IPython.core.display.HTML object>"
      ]
     },
     "metadata": {},
     "output_type": "display_data"
    },
    {
     "data": {
      "text/html": [
       " View run <strong style=\"color:#cdcd00\">rose-sweep-43</strong> at: <a href='https://wandb.ai/benmcguirk-queen-mary-university-of-london/xgboost-optimization/runs/54ted0e5' target=\"_blank\">https://wandb.ai/benmcguirk-queen-mary-university-of-london/xgboost-optimization/runs/54ted0e5</a><br> View project at: <a href='https://wandb.ai/benmcguirk-queen-mary-university-of-london/xgboost-optimization' target=\"_blank\">https://wandb.ai/benmcguirk-queen-mary-university-of-london/xgboost-optimization</a><br>Synced 5 W&B file(s), 0 media file(s), 0 artifact file(s) and 0 other file(s)"
      ],
      "text/plain": [
       "<IPython.core.display.HTML object>"
      ]
     },
     "metadata": {},
     "output_type": "display_data"
    },
    {
     "data": {
      "text/html": [
       "Find logs at: <code>./wandb/run-20250510_152903-54ted0e5/logs</code>"
      ],
      "text/plain": [
       "<IPython.core.display.HTML object>"
      ]
     },
     "metadata": {},
     "output_type": "display_data"
    },
    {
     "name": "stderr",
     "output_type": "stream",
     "text": [
      "\u001b[34m\u001b[1mwandb\u001b[0m: Agent Starting Run: 2lrp9s0l with config:\n",
      "\u001b[34m\u001b[1mwandb\u001b[0m: \tlearning_rate: 0.10116218848760895\n",
      "\u001b[34m\u001b[1mwandb\u001b[0m: \tmax_depth: 7\n",
      "\u001b[34m\u001b[1mwandb\u001b[0m: \tn_estimators: 898\n"
     ]
    },
    {
     "data": {
      "text/html": [
       "Tracking run with wandb version 0.19.11"
      ],
      "text/plain": [
       "<IPython.core.display.HTML object>"
      ]
     },
     "metadata": {},
     "output_type": "display_data"
    },
    {
     "data": {
      "text/html": [
       "Run data is saved locally in <code>/Users/wpw555/Documents/Kaggle/playground_s5e5/notebooks/wandb/run-20250510_152924-2lrp9s0l</code>"
      ],
      "text/plain": [
       "<IPython.core.display.HTML object>"
      ]
     },
     "metadata": {},
     "output_type": "display_data"
    },
    {
     "data": {
      "text/html": [
       "Syncing run <strong><a href='https://wandb.ai/benmcguirk-queen-mary-university-of-london/xgboost-optimization/runs/2lrp9s0l' target=\"_blank\">rich-sweep-44</a></strong> to <a href='https://wandb.ai/benmcguirk-queen-mary-university-of-london/xgboost-optimization' target=\"_blank\">Weights & Biases</a> (<a href='https://wandb.me/developer-guide' target=\"_blank\">docs</a>)<br>Sweep page: <a href='https://wandb.ai/benmcguirk-queen-mary-university-of-london/xgboost-optimization/sweeps/kk3lk19c' target=\"_blank\">https://wandb.ai/benmcguirk-queen-mary-university-of-london/xgboost-optimization/sweeps/kk3lk19c</a>"
      ],
      "text/plain": [
       "<IPython.core.display.HTML object>"
      ]
     },
     "metadata": {},
     "output_type": "display_data"
    },
    {
     "data": {
      "text/html": [
       " View project at <a href='https://wandb.ai/benmcguirk-queen-mary-university-of-london/xgboost-optimization' target=\"_blank\">https://wandb.ai/benmcguirk-queen-mary-university-of-london/xgboost-optimization</a>"
      ],
      "text/plain": [
       "<IPython.core.display.HTML object>"
      ]
     },
     "metadata": {},
     "output_type": "display_data"
    },
    {
     "data": {
      "text/html": [
       " View sweep at <a href='https://wandb.ai/benmcguirk-queen-mary-university-of-london/xgboost-optimization/sweeps/kk3lk19c' target=\"_blank\">https://wandb.ai/benmcguirk-queen-mary-university-of-london/xgboost-optimization/sweeps/kk3lk19c</a>"
      ],
      "text/plain": [
       "<IPython.core.display.HTML object>"
      ]
     },
     "metadata": {},
     "output_type": "display_data"
    },
    {
     "data": {
      "text/html": [
       " View run at <a href='https://wandb.ai/benmcguirk-queen-mary-university-of-london/xgboost-optimization/runs/2lrp9s0l' target=\"_blank\">https://wandb.ai/benmcguirk-queen-mary-university-of-london/xgboost-optimization/runs/2lrp9s0l</a>"
      ],
      "text/plain": [
       "<IPython.core.display.HTML object>"
      ]
     },
     "metadata": {},
     "output_type": "display_data"
    },
    {
     "data": {
      "text/html": [],
      "text/plain": [
       "<IPython.core.display.HTML object>"
      ]
     },
     "metadata": {},
     "output_type": "display_data"
    },
    {
     "data": {
      "text/html": [
       "<br>    <style><br>        .wandb-row {<br>            display: flex;<br>            flex-direction: row;<br>            flex-wrap: wrap;<br>            justify-content: flex-start;<br>            width: 100%;<br>        }<br>        .wandb-col {<br>            display: flex;<br>            flex-direction: column;<br>            flex-basis: 100%;<br>            flex: 1;<br>            padding: 10px;<br>        }<br>    </style><br><div class=\"wandb-row\"><div class=\"wandb-col\"><h3>Run history:</h3><br/><table class=\"wandb\"><tr><td>learning_rate</td><td>▁</td></tr><tr><td>max_depth</td><td>▁</td></tr><tr><td>n_estimators</td><td>▁</td></tr><tr><td>rmsle</td><td>▁</td></tr></table><br/></div><div class=\"wandb-col\"><h3>Run summary:</h3><br/><table class=\"wandb\"><tr><td>learning_rate</td><td>0.10116</td></tr><tr><td>max_depth</td><td>7</td></tr><tr><td>n_estimators</td><td>898</td></tr><tr><td>rmsle</td><td>0.00389</td></tr></table><br/></div></div>"
      ],
      "text/plain": [
       "<IPython.core.display.HTML object>"
      ]
     },
     "metadata": {},
     "output_type": "display_data"
    },
    {
     "data": {
      "text/html": [
       " View run <strong style=\"color:#cdcd00\">rich-sweep-44</strong> at: <a href='https://wandb.ai/benmcguirk-queen-mary-university-of-london/xgboost-optimization/runs/2lrp9s0l' target=\"_blank\">https://wandb.ai/benmcguirk-queen-mary-university-of-london/xgboost-optimization/runs/2lrp9s0l</a><br> View project at: <a href='https://wandb.ai/benmcguirk-queen-mary-university-of-london/xgboost-optimization' target=\"_blank\">https://wandb.ai/benmcguirk-queen-mary-university-of-london/xgboost-optimization</a><br>Synced 5 W&B file(s), 0 media file(s), 0 artifact file(s) and 0 other file(s)"
      ],
      "text/plain": [
       "<IPython.core.display.HTML object>"
      ]
     },
     "metadata": {},
     "output_type": "display_data"
    },
    {
     "data": {
      "text/html": [
       "Find logs at: <code>./wandb/run-20250510_152924-2lrp9s0l/logs</code>"
      ],
      "text/plain": [
       "<IPython.core.display.HTML object>"
      ]
     },
     "metadata": {},
     "output_type": "display_data"
    },
    {
     "name": "stderr",
     "output_type": "stream",
     "text": [
      "\u001b[34m\u001b[1mwandb\u001b[0m: Agent Starting Run: d21r4zy3 with config:\n",
      "\u001b[34m\u001b[1mwandb\u001b[0m: \tlearning_rate: 0.17484372045675445\n",
      "\u001b[34m\u001b[1mwandb\u001b[0m: \tmax_depth: 3\n",
      "\u001b[34m\u001b[1mwandb\u001b[0m: \tn_estimators: 399\n"
     ]
    },
    {
     "data": {
      "text/html": [
       "Tracking run with wandb version 0.19.11"
      ],
      "text/plain": [
       "<IPython.core.display.HTML object>"
      ]
     },
     "metadata": {},
     "output_type": "display_data"
    },
    {
     "data": {
      "text/html": [
       "Run data is saved locally in <code>/Users/wpw555/Documents/Kaggle/playground_s5e5/notebooks/wandb/run-20250510_152944-d21r4zy3</code>"
      ],
      "text/plain": [
       "<IPython.core.display.HTML object>"
      ]
     },
     "metadata": {},
     "output_type": "display_data"
    },
    {
     "data": {
      "text/html": [
       "Syncing run <strong><a href='https://wandb.ai/benmcguirk-queen-mary-university-of-london/xgboost-optimization/runs/d21r4zy3' target=\"_blank\">ethereal-sweep-45</a></strong> to <a href='https://wandb.ai/benmcguirk-queen-mary-university-of-london/xgboost-optimization' target=\"_blank\">Weights & Biases</a> (<a href='https://wandb.me/developer-guide' target=\"_blank\">docs</a>)<br>Sweep page: <a href='https://wandb.ai/benmcguirk-queen-mary-university-of-london/xgboost-optimization/sweeps/kk3lk19c' target=\"_blank\">https://wandb.ai/benmcguirk-queen-mary-university-of-london/xgboost-optimization/sweeps/kk3lk19c</a>"
      ],
      "text/plain": [
       "<IPython.core.display.HTML object>"
      ]
     },
     "metadata": {},
     "output_type": "display_data"
    },
    {
     "data": {
      "text/html": [
       " View project at <a href='https://wandb.ai/benmcguirk-queen-mary-university-of-london/xgboost-optimization' target=\"_blank\">https://wandb.ai/benmcguirk-queen-mary-university-of-london/xgboost-optimization</a>"
      ],
      "text/plain": [
       "<IPython.core.display.HTML object>"
      ]
     },
     "metadata": {},
     "output_type": "display_data"
    },
    {
     "data": {
      "text/html": [
       " View sweep at <a href='https://wandb.ai/benmcguirk-queen-mary-university-of-london/xgboost-optimization/sweeps/kk3lk19c' target=\"_blank\">https://wandb.ai/benmcguirk-queen-mary-university-of-london/xgboost-optimization/sweeps/kk3lk19c</a>"
      ],
      "text/plain": [
       "<IPython.core.display.HTML object>"
      ]
     },
     "metadata": {},
     "output_type": "display_data"
    },
    {
     "data": {
      "text/html": [
       " View run at <a href='https://wandb.ai/benmcguirk-queen-mary-university-of-london/xgboost-optimization/runs/d21r4zy3' target=\"_blank\">https://wandb.ai/benmcguirk-queen-mary-university-of-london/xgboost-optimization/runs/d21r4zy3</a>"
      ],
      "text/plain": [
       "<IPython.core.display.HTML object>"
      ]
     },
     "metadata": {},
     "output_type": "display_data"
    },
    {
     "data": {
      "text/html": [],
      "text/plain": [
       "<IPython.core.display.HTML object>"
      ]
     },
     "metadata": {},
     "output_type": "display_data"
    },
    {
     "data": {
      "text/html": [
       "<br>    <style><br>        .wandb-row {<br>            display: flex;<br>            flex-direction: row;<br>            flex-wrap: wrap;<br>            justify-content: flex-start;<br>            width: 100%;<br>        }<br>        .wandb-col {<br>            display: flex;<br>            flex-direction: column;<br>            flex-basis: 100%;<br>            flex: 1;<br>            padding: 10px;<br>        }<br>    </style><br><div class=\"wandb-row\"><div class=\"wandb-col\"><h3>Run history:</h3><br/><table class=\"wandb\"><tr><td>learning_rate</td><td>▁</td></tr><tr><td>max_depth</td><td>▁</td></tr><tr><td>n_estimators</td><td>▁</td></tr><tr><td>rmsle</td><td>▁</td></tr></table><br/></div><div class=\"wandb-col\"><h3>Run summary:</h3><br/><table class=\"wandb\"><tr><td>learning_rate</td><td>0.17484</td></tr><tr><td>max_depth</td><td>3</td></tr><tr><td>n_estimators</td><td>399</td></tr><tr><td>rmsle</td><td>0.00537</td></tr></table><br/></div></div>"
      ],
      "text/plain": [
       "<IPython.core.display.HTML object>"
      ]
     },
     "metadata": {},
     "output_type": "display_data"
    },
    {
     "data": {
      "text/html": [
       " View run <strong style=\"color:#cdcd00\">ethereal-sweep-45</strong> at: <a href='https://wandb.ai/benmcguirk-queen-mary-university-of-london/xgboost-optimization/runs/d21r4zy3' target=\"_blank\">https://wandb.ai/benmcguirk-queen-mary-university-of-london/xgboost-optimization/runs/d21r4zy3</a><br> View project at: <a href='https://wandb.ai/benmcguirk-queen-mary-university-of-london/xgboost-optimization' target=\"_blank\">https://wandb.ai/benmcguirk-queen-mary-university-of-london/xgboost-optimization</a><br>Synced 5 W&B file(s), 0 media file(s), 0 artifact file(s) and 0 other file(s)"
      ],
      "text/plain": [
       "<IPython.core.display.HTML object>"
      ]
     },
     "metadata": {},
     "output_type": "display_data"
    },
    {
     "data": {
      "text/html": [
       "Find logs at: <code>./wandb/run-20250510_152944-d21r4zy3/logs</code>"
      ],
      "text/plain": [
       "<IPython.core.display.HTML object>"
      ]
     },
     "metadata": {},
     "output_type": "display_data"
    },
    {
     "name": "stderr",
     "output_type": "stream",
     "text": [
      "\u001b[34m\u001b[1mwandb\u001b[0m: Agent Starting Run: 4affqw30 with config:\n",
      "\u001b[34m\u001b[1mwandb\u001b[0m: \tlearning_rate: 0.09577733789588808\n",
      "\u001b[34m\u001b[1mwandb\u001b[0m: \tmax_depth: 7\n",
      "\u001b[34m\u001b[1mwandb\u001b[0m: \tn_estimators: 847\n"
     ]
    },
    {
     "data": {
      "text/html": [
       "Tracking run with wandb version 0.19.11"
      ],
      "text/plain": [
       "<IPython.core.display.HTML object>"
      ]
     },
     "metadata": {},
     "output_type": "display_data"
    },
    {
     "data": {
      "text/html": [
       "Run data is saved locally in <code>/Users/wpw555/Documents/Kaggle/playground_s5e5/notebooks/wandb/run-20250510_152955-4affqw30</code>"
      ],
      "text/plain": [
       "<IPython.core.display.HTML object>"
      ]
     },
     "metadata": {},
     "output_type": "display_data"
    },
    {
     "data": {
      "text/html": [
       "Syncing run <strong><a href='https://wandb.ai/benmcguirk-queen-mary-university-of-london/xgboost-optimization/runs/4affqw30' target=\"_blank\">vivid-sweep-46</a></strong> to <a href='https://wandb.ai/benmcguirk-queen-mary-university-of-london/xgboost-optimization' target=\"_blank\">Weights & Biases</a> (<a href='https://wandb.me/developer-guide' target=\"_blank\">docs</a>)<br>Sweep page: <a href='https://wandb.ai/benmcguirk-queen-mary-university-of-london/xgboost-optimization/sweeps/kk3lk19c' target=\"_blank\">https://wandb.ai/benmcguirk-queen-mary-university-of-london/xgboost-optimization/sweeps/kk3lk19c</a>"
      ],
      "text/plain": [
       "<IPython.core.display.HTML object>"
      ]
     },
     "metadata": {},
     "output_type": "display_data"
    },
    {
     "data": {
      "text/html": [
       " View project at <a href='https://wandb.ai/benmcguirk-queen-mary-university-of-london/xgboost-optimization' target=\"_blank\">https://wandb.ai/benmcguirk-queen-mary-university-of-london/xgboost-optimization</a>"
      ],
      "text/plain": [
       "<IPython.core.display.HTML object>"
      ]
     },
     "metadata": {},
     "output_type": "display_data"
    },
    {
     "data": {
      "text/html": [
       " View sweep at <a href='https://wandb.ai/benmcguirk-queen-mary-university-of-london/xgboost-optimization/sweeps/kk3lk19c' target=\"_blank\">https://wandb.ai/benmcguirk-queen-mary-university-of-london/xgboost-optimization/sweeps/kk3lk19c</a>"
      ],
      "text/plain": [
       "<IPython.core.display.HTML object>"
      ]
     },
     "metadata": {},
     "output_type": "display_data"
    },
    {
     "data": {
      "text/html": [
       " View run at <a href='https://wandb.ai/benmcguirk-queen-mary-university-of-london/xgboost-optimization/runs/4affqw30' target=\"_blank\">https://wandb.ai/benmcguirk-queen-mary-university-of-london/xgboost-optimization/runs/4affqw30</a>"
      ],
      "text/plain": [
       "<IPython.core.display.HTML object>"
      ]
     },
     "metadata": {},
     "output_type": "display_data"
    },
    {
     "data": {
      "text/html": [],
      "text/plain": [
       "<IPython.core.display.HTML object>"
      ]
     },
     "metadata": {},
     "output_type": "display_data"
    },
    {
     "data": {
      "text/html": [
       "<br>    <style><br>        .wandb-row {<br>            display: flex;<br>            flex-direction: row;<br>            flex-wrap: wrap;<br>            justify-content: flex-start;<br>            width: 100%;<br>        }<br>        .wandb-col {<br>            display: flex;<br>            flex-direction: column;<br>            flex-basis: 100%;<br>            flex: 1;<br>            padding: 10px;<br>        }<br>    </style><br><div class=\"wandb-row\"><div class=\"wandb-col\"><h3>Run history:</h3><br/><table class=\"wandb\"><tr><td>learning_rate</td><td>▁</td></tr><tr><td>max_depth</td><td>▁</td></tr><tr><td>n_estimators</td><td>▁</td></tr><tr><td>rmsle</td><td>▁</td></tr></table><br/></div><div class=\"wandb-col\"><h3>Run summary:</h3><br/><table class=\"wandb\"><tr><td>learning_rate</td><td>0.09578</td></tr><tr><td>max_depth</td><td>7</td></tr><tr><td>n_estimators</td><td>847</td></tr><tr><td>rmsle</td><td>0.00381</td></tr></table><br/></div></div>"
      ],
      "text/plain": [
       "<IPython.core.display.HTML object>"
      ]
     },
     "metadata": {},
     "output_type": "display_data"
    },
    {
     "data": {
      "text/html": [
       " View run <strong style=\"color:#cdcd00\">vivid-sweep-46</strong> at: <a href='https://wandb.ai/benmcguirk-queen-mary-university-of-london/xgboost-optimization/runs/4affqw30' target=\"_blank\">https://wandb.ai/benmcguirk-queen-mary-university-of-london/xgboost-optimization/runs/4affqw30</a><br> View project at: <a href='https://wandb.ai/benmcguirk-queen-mary-university-of-london/xgboost-optimization' target=\"_blank\">https://wandb.ai/benmcguirk-queen-mary-university-of-london/xgboost-optimization</a><br>Synced 5 W&B file(s), 0 media file(s), 0 artifact file(s) and 0 other file(s)"
      ],
      "text/plain": [
       "<IPython.core.display.HTML object>"
      ]
     },
     "metadata": {},
     "output_type": "display_data"
    },
    {
     "data": {
      "text/html": [
       "Find logs at: <code>./wandb/run-20250510_152955-4affqw30/logs</code>"
      ],
      "text/plain": [
       "<IPython.core.display.HTML object>"
      ]
     },
     "metadata": {},
     "output_type": "display_data"
    },
    {
     "name": "stderr",
     "output_type": "stream",
     "text": [
      "\u001b[34m\u001b[1mwandb\u001b[0m: Agent Starting Run: q4mkmo38 with config:\n",
      "\u001b[34m\u001b[1mwandb\u001b[0m: \tlearning_rate: 0.10338712277549146\n",
      "\u001b[34m\u001b[1mwandb\u001b[0m: \tmax_depth: 7\n",
      "\u001b[34m\u001b[1mwandb\u001b[0m: \tn_estimators: 899\n"
     ]
    },
    {
     "data": {
      "text/html": [
       "Tracking run with wandb version 0.19.11"
      ],
      "text/plain": [
       "<IPython.core.display.HTML object>"
      ]
     },
     "metadata": {},
     "output_type": "display_data"
    },
    {
     "data": {
      "text/html": [
       "Run data is saved locally in <code>/Users/wpw555/Documents/Kaggle/playground_s5e5/notebooks/wandb/run-20250510_153016-q4mkmo38</code>"
      ],
      "text/plain": [
       "<IPython.core.display.HTML object>"
      ]
     },
     "metadata": {},
     "output_type": "display_data"
    },
    {
     "data": {
      "text/html": [
       "Syncing run <strong><a href='https://wandb.ai/benmcguirk-queen-mary-university-of-london/xgboost-optimization/runs/q4mkmo38' target=\"_blank\">stellar-sweep-47</a></strong> to <a href='https://wandb.ai/benmcguirk-queen-mary-university-of-london/xgboost-optimization' target=\"_blank\">Weights & Biases</a> (<a href='https://wandb.me/developer-guide' target=\"_blank\">docs</a>)<br>Sweep page: <a href='https://wandb.ai/benmcguirk-queen-mary-university-of-london/xgboost-optimization/sweeps/kk3lk19c' target=\"_blank\">https://wandb.ai/benmcguirk-queen-mary-university-of-london/xgboost-optimization/sweeps/kk3lk19c</a>"
      ],
      "text/plain": [
       "<IPython.core.display.HTML object>"
      ]
     },
     "metadata": {},
     "output_type": "display_data"
    },
    {
     "data": {
      "text/html": [
       " View project at <a href='https://wandb.ai/benmcguirk-queen-mary-university-of-london/xgboost-optimization' target=\"_blank\">https://wandb.ai/benmcguirk-queen-mary-university-of-london/xgboost-optimization</a>"
      ],
      "text/plain": [
       "<IPython.core.display.HTML object>"
      ]
     },
     "metadata": {},
     "output_type": "display_data"
    },
    {
     "data": {
      "text/html": [
       " View sweep at <a href='https://wandb.ai/benmcguirk-queen-mary-university-of-london/xgboost-optimization/sweeps/kk3lk19c' target=\"_blank\">https://wandb.ai/benmcguirk-queen-mary-university-of-london/xgboost-optimization/sweeps/kk3lk19c</a>"
      ],
      "text/plain": [
       "<IPython.core.display.HTML object>"
      ]
     },
     "metadata": {},
     "output_type": "display_data"
    },
    {
     "data": {
      "text/html": [
       " View run at <a href='https://wandb.ai/benmcguirk-queen-mary-university-of-london/xgboost-optimization/runs/q4mkmo38' target=\"_blank\">https://wandb.ai/benmcguirk-queen-mary-university-of-london/xgboost-optimization/runs/q4mkmo38</a>"
      ],
      "text/plain": [
       "<IPython.core.display.HTML object>"
      ]
     },
     "metadata": {},
     "output_type": "display_data"
    },
    {
     "data": {
      "text/html": [],
      "text/plain": [
       "<IPython.core.display.HTML object>"
      ]
     },
     "metadata": {},
     "output_type": "display_data"
    },
    {
     "data": {
      "text/html": [
       "<br>    <style><br>        .wandb-row {<br>            display: flex;<br>            flex-direction: row;<br>            flex-wrap: wrap;<br>            justify-content: flex-start;<br>            width: 100%;<br>        }<br>        .wandb-col {<br>            display: flex;<br>            flex-direction: column;<br>            flex-basis: 100%;<br>            flex: 1;<br>            padding: 10px;<br>        }<br>    </style><br><div class=\"wandb-row\"><div class=\"wandb-col\"><h3>Run history:</h3><br/><table class=\"wandb\"><tr><td>learning_rate</td><td>▁</td></tr><tr><td>max_depth</td><td>▁</td></tr><tr><td>n_estimators</td><td>▁</td></tr><tr><td>rmsle</td><td>▁</td></tr></table><br/></div><div class=\"wandb-col\"><h3>Run summary:</h3><br/><table class=\"wandb\"><tr><td>learning_rate</td><td>0.10339</td></tr><tr><td>max_depth</td><td>7</td></tr><tr><td>n_estimators</td><td>899</td></tr><tr><td>rmsle</td><td>0.00388</td></tr></table><br/></div></div>"
      ],
      "text/plain": [
       "<IPython.core.display.HTML object>"
      ]
     },
     "metadata": {},
     "output_type": "display_data"
    },
    {
     "data": {
      "text/html": [
       " View run <strong style=\"color:#cdcd00\">stellar-sweep-47</strong> at: <a href='https://wandb.ai/benmcguirk-queen-mary-university-of-london/xgboost-optimization/runs/q4mkmo38' target=\"_blank\">https://wandb.ai/benmcguirk-queen-mary-university-of-london/xgboost-optimization/runs/q4mkmo38</a><br> View project at: <a href='https://wandb.ai/benmcguirk-queen-mary-university-of-london/xgboost-optimization' target=\"_blank\">https://wandb.ai/benmcguirk-queen-mary-university-of-london/xgboost-optimization</a><br>Synced 5 W&B file(s), 0 media file(s), 0 artifact file(s) and 0 other file(s)"
      ],
      "text/plain": [
       "<IPython.core.display.HTML object>"
      ]
     },
     "metadata": {},
     "output_type": "display_data"
    },
    {
     "data": {
      "text/html": [
       "Find logs at: <code>./wandb/run-20250510_153016-q4mkmo38/logs</code>"
      ],
      "text/plain": [
       "<IPython.core.display.HTML object>"
      ]
     },
     "metadata": {},
     "output_type": "display_data"
    },
    {
     "name": "stderr",
     "output_type": "stream",
     "text": [
      "\u001b[34m\u001b[1mwandb\u001b[0m: Agent Starting Run: p8k6u69f with config:\n",
      "\u001b[34m\u001b[1mwandb\u001b[0m: \tlearning_rate: 0.1029119023464464\n",
      "\u001b[34m\u001b[1mwandb\u001b[0m: \tmax_depth: 7\n",
      "\u001b[34m\u001b[1mwandb\u001b[0m: \tn_estimators: 839\n"
     ]
    },
    {
     "data": {
      "text/html": [
       "Tracking run with wandb version 0.19.11"
      ],
      "text/plain": [
       "<IPython.core.display.HTML object>"
      ]
     },
     "metadata": {},
     "output_type": "display_data"
    },
    {
     "data": {
      "text/html": [
       "Run data is saved locally in <code>/Users/wpw555/Documents/Kaggle/playground_s5e5/notebooks/wandb/run-20250510_153037-p8k6u69f</code>"
      ],
      "text/plain": [
       "<IPython.core.display.HTML object>"
      ]
     },
     "metadata": {},
     "output_type": "display_data"
    },
    {
     "data": {
      "text/html": [
       "Syncing run <strong><a href='https://wandb.ai/benmcguirk-queen-mary-university-of-london/xgboost-optimization/runs/p8k6u69f' target=\"_blank\">morning-sweep-48</a></strong> to <a href='https://wandb.ai/benmcguirk-queen-mary-university-of-london/xgboost-optimization' target=\"_blank\">Weights & Biases</a> (<a href='https://wandb.me/developer-guide' target=\"_blank\">docs</a>)<br>Sweep page: <a href='https://wandb.ai/benmcguirk-queen-mary-university-of-london/xgboost-optimization/sweeps/kk3lk19c' target=\"_blank\">https://wandb.ai/benmcguirk-queen-mary-university-of-london/xgboost-optimization/sweeps/kk3lk19c</a>"
      ],
      "text/plain": [
       "<IPython.core.display.HTML object>"
      ]
     },
     "metadata": {},
     "output_type": "display_data"
    },
    {
     "data": {
      "text/html": [
       " View project at <a href='https://wandb.ai/benmcguirk-queen-mary-university-of-london/xgboost-optimization' target=\"_blank\">https://wandb.ai/benmcguirk-queen-mary-university-of-london/xgboost-optimization</a>"
      ],
      "text/plain": [
       "<IPython.core.display.HTML object>"
      ]
     },
     "metadata": {},
     "output_type": "display_data"
    },
    {
     "data": {
      "text/html": [
       " View sweep at <a href='https://wandb.ai/benmcguirk-queen-mary-university-of-london/xgboost-optimization/sweeps/kk3lk19c' target=\"_blank\">https://wandb.ai/benmcguirk-queen-mary-university-of-london/xgboost-optimization/sweeps/kk3lk19c</a>"
      ],
      "text/plain": [
       "<IPython.core.display.HTML object>"
      ]
     },
     "metadata": {},
     "output_type": "display_data"
    },
    {
     "data": {
      "text/html": [
       " View run at <a href='https://wandb.ai/benmcguirk-queen-mary-university-of-london/xgboost-optimization/runs/p8k6u69f' target=\"_blank\">https://wandb.ai/benmcguirk-queen-mary-university-of-london/xgboost-optimization/runs/p8k6u69f</a>"
      ],
      "text/plain": [
       "<IPython.core.display.HTML object>"
      ]
     },
     "metadata": {},
     "output_type": "display_data"
    },
    {
     "data": {
      "text/html": [],
      "text/plain": [
       "<IPython.core.display.HTML object>"
      ]
     },
     "metadata": {},
     "output_type": "display_data"
    },
    {
     "data": {
      "text/html": [
       "<br>    <style><br>        .wandb-row {<br>            display: flex;<br>            flex-direction: row;<br>            flex-wrap: wrap;<br>            justify-content: flex-start;<br>            width: 100%;<br>        }<br>        .wandb-col {<br>            display: flex;<br>            flex-direction: column;<br>            flex-basis: 100%;<br>            flex: 1;<br>            padding: 10px;<br>        }<br>    </style><br><div class=\"wandb-row\"><div class=\"wandb-col\"><h3>Run history:</h3><br/><table class=\"wandb\"><tr><td>learning_rate</td><td>▁</td></tr><tr><td>max_depth</td><td>▁</td></tr><tr><td>n_estimators</td><td>▁</td></tr><tr><td>rmsle</td><td>▁</td></tr></table><br/></div><div class=\"wandb-col\"><h3>Run summary:</h3><br/><table class=\"wandb\"><tr><td>learning_rate</td><td>0.10291</td></tr><tr><td>max_depth</td><td>7</td></tr><tr><td>n_estimators</td><td>839</td></tr><tr><td>rmsle</td><td>0.00381</td></tr></table><br/></div></div>"
      ],
      "text/plain": [
       "<IPython.core.display.HTML object>"
      ]
     },
     "metadata": {},
     "output_type": "display_data"
    },
    {
     "data": {
      "text/html": [
       " View run <strong style=\"color:#cdcd00\">morning-sweep-48</strong> at: <a href='https://wandb.ai/benmcguirk-queen-mary-university-of-london/xgboost-optimization/runs/p8k6u69f' target=\"_blank\">https://wandb.ai/benmcguirk-queen-mary-university-of-london/xgboost-optimization/runs/p8k6u69f</a><br> View project at: <a href='https://wandb.ai/benmcguirk-queen-mary-university-of-london/xgboost-optimization' target=\"_blank\">https://wandb.ai/benmcguirk-queen-mary-university-of-london/xgboost-optimization</a><br>Synced 5 W&B file(s), 0 media file(s), 0 artifact file(s) and 0 other file(s)"
      ],
      "text/plain": [
       "<IPython.core.display.HTML object>"
      ]
     },
     "metadata": {},
     "output_type": "display_data"
    },
    {
     "data": {
      "text/html": [
       "Find logs at: <code>./wandb/run-20250510_153037-p8k6u69f/logs</code>"
      ],
      "text/plain": [
       "<IPython.core.display.HTML object>"
      ]
     },
     "metadata": {},
     "output_type": "display_data"
    },
    {
     "name": "stderr",
     "output_type": "stream",
     "text": [
      "\u001b[34m\u001b[1mwandb\u001b[0m: Agent Starting Run: sca7yv3i with config:\n",
      "\u001b[34m\u001b[1mwandb\u001b[0m: \tlearning_rate: 0.0975668829948364\n",
      "\u001b[34m\u001b[1mwandb\u001b[0m: \tmax_depth: 7\n",
      "\u001b[34m\u001b[1mwandb\u001b[0m: \tn_estimators: 955\n"
     ]
    },
    {
     "data": {
      "text/html": [
       "Tracking run with wandb version 0.19.11"
      ],
      "text/plain": [
       "<IPython.core.display.HTML object>"
      ]
     },
     "metadata": {},
     "output_type": "display_data"
    },
    {
     "data": {
      "text/html": [
       "Run data is saved locally in <code>/Users/wpw555/Documents/Kaggle/playground_s5e5/notebooks/wandb/run-20250510_153058-sca7yv3i</code>"
      ],
      "text/plain": [
       "<IPython.core.display.HTML object>"
      ]
     },
     "metadata": {},
     "output_type": "display_data"
    },
    {
     "data": {
      "text/html": [
       "Syncing run <strong><a href='https://wandb.ai/benmcguirk-queen-mary-university-of-london/xgboost-optimization/runs/sca7yv3i' target=\"_blank\">visionary-sweep-49</a></strong> to <a href='https://wandb.ai/benmcguirk-queen-mary-university-of-london/xgboost-optimization' target=\"_blank\">Weights & Biases</a> (<a href='https://wandb.me/developer-guide' target=\"_blank\">docs</a>)<br>Sweep page: <a href='https://wandb.ai/benmcguirk-queen-mary-university-of-london/xgboost-optimization/sweeps/kk3lk19c' target=\"_blank\">https://wandb.ai/benmcguirk-queen-mary-university-of-london/xgboost-optimization/sweeps/kk3lk19c</a>"
      ],
      "text/plain": [
       "<IPython.core.display.HTML object>"
      ]
     },
     "metadata": {},
     "output_type": "display_data"
    },
    {
     "data": {
      "text/html": [
       " View project at <a href='https://wandb.ai/benmcguirk-queen-mary-university-of-london/xgboost-optimization' target=\"_blank\">https://wandb.ai/benmcguirk-queen-mary-university-of-london/xgboost-optimization</a>"
      ],
      "text/plain": [
       "<IPython.core.display.HTML object>"
      ]
     },
     "metadata": {},
     "output_type": "display_data"
    },
    {
     "data": {
      "text/html": [
       " View sweep at <a href='https://wandb.ai/benmcguirk-queen-mary-university-of-london/xgboost-optimization/sweeps/kk3lk19c' target=\"_blank\">https://wandb.ai/benmcguirk-queen-mary-university-of-london/xgboost-optimization/sweeps/kk3lk19c</a>"
      ],
      "text/plain": [
       "<IPython.core.display.HTML object>"
      ]
     },
     "metadata": {},
     "output_type": "display_data"
    },
    {
     "data": {
      "text/html": [
       " View run at <a href='https://wandb.ai/benmcguirk-queen-mary-university-of-london/xgboost-optimization/runs/sca7yv3i' target=\"_blank\">https://wandb.ai/benmcguirk-queen-mary-university-of-london/xgboost-optimization/runs/sca7yv3i</a>"
      ],
      "text/plain": [
       "<IPython.core.display.HTML object>"
      ]
     },
     "metadata": {},
     "output_type": "display_data"
    },
    {
     "data": {
      "text/html": [],
      "text/plain": [
       "<IPython.core.display.HTML object>"
      ]
     },
     "metadata": {},
     "output_type": "display_data"
    },
    {
     "data": {
      "text/html": [
       "<br>    <style><br>        .wandb-row {<br>            display: flex;<br>            flex-direction: row;<br>            flex-wrap: wrap;<br>            justify-content: flex-start;<br>            width: 100%;<br>        }<br>        .wandb-col {<br>            display: flex;<br>            flex-direction: column;<br>            flex-basis: 100%;<br>            flex: 1;<br>            padding: 10px;<br>        }<br>    </style><br><div class=\"wandb-row\"><div class=\"wandb-col\"><h3>Run history:</h3><br/><table class=\"wandb\"><tr><td>learning_rate</td><td>▁</td></tr><tr><td>max_depth</td><td>▁</td></tr><tr><td>n_estimators</td><td>▁</td></tr><tr><td>rmsle</td><td>▁</td></tr></table><br/></div><div class=\"wandb-col\"><h3>Run summary:</h3><br/><table class=\"wandb\"><tr><td>learning_rate</td><td>0.09757</td></tr><tr><td>max_depth</td><td>7</td></tr><tr><td>n_estimators</td><td>955</td></tr><tr><td>rmsle</td><td>0.00387</td></tr></table><br/></div></div>"
      ],
      "text/plain": [
       "<IPython.core.display.HTML object>"
      ]
     },
     "metadata": {},
     "output_type": "display_data"
    },
    {
     "data": {
      "text/html": [
       " View run <strong style=\"color:#cdcd00\">visionary-sweep-49</strong> at: <a href='https://wandb.ai/benmcguirk-queen-mary-university-of-london/xgboost-optimization/runs/sca7yv3i' target=\"_blank\">https://wandb.ai/benmcguirk-queen-mary-university-of-london/xgboost-optimization/runs/sca7yv3i</a><br> View project at: <a href='https://wandb.ai/benmcguirk-queen-mary-university-of-london/xgboost-optimization' target=\"_blank\">https://wandb.ai/benmcguirk-queen-mary-university-of-london/xgboost-optimization</a><br>Synced 5 W&B file(s), 0 media file(s), 0 artifact file(s) and 0 other file(s)"
      ],
      "text/plain": [
       "<IPython.core.display.HTML object>"
      ]
     },
     "metadata": {},
     "output_type": "display_data"
    },
    {
     "data": {
      "text/html": [
       "Find logs at: <code>./wandb/run-20250510_153058-sca7yv3i/logs</code>"
      ],
      "text/plain": [
       "<IPython.core.display.HTML object>"
      ]
     },
     "metadata": {},
     "output_type": "display_data"
    },
    {
     "name": "stderr",
     "output_type": "stream",
     "text": [
      "\u001b[34m\u001b[1mwandb\u001b[0m: Agent Starting Run: p9t5k22l with config:\n",
      "\u001b[34m\u001b[1mwandb\u001b[0m: \tlearning_rate: 0.10646011872970676\n",
      "\u001b[34m\u001b[1mwandb\u001b[0m: \tmax_depth: 7\n",
      "\u001b[34m\u001b[1mwandb\u001b[0m: \tn_estimators: 891\n"
     ]
    },
    {
     "data": {
      "text/html": [
       "Tracking run with wandb version 0.19.11"
      ],
      "text/plain": [
       "<IPython.core.display.HTML object>"
      ]
     },
     "metadata": {},
     "output_type": "display_data"
    },
    {
     "data": {
      "text/html": [
       "Run data is saved locally in <code>/Users/wpw555/Documents/Kaggle/playground_s5e5/notebooks/wandb/run-20250510_153119-p9t5k22l</code>"
      ],
      "text/plain": [
       "<IPython.core.display.HTML object>"
      ]
     },
     "metadata": {},
     "output_type": "display_data"
    },
    {
     "data": {
      "text/html": [
       "Syncing run <strong><a href='https://wandb.ai/benmcguirk-queen-mary-university-of-london/xgboost-optimization/runs/p9t5k22l' target=\"_blank\">sweepy-sweep-50</a></strong> to <a href='https://wandb.ai/benmcguirk-queen-mary-university-of-london/xgboost-optimization' target=\"_blank\">Weights & Biases</a> (<a href='https://wandb.me/developer-guide' target=\"_blank\">docs</a>)<br>Sweep page: <a href='https://wandb.ai/benmcguirk-queen-mary-university-of-london/xgboost-optimization/sweeps/kk3lk19c' target=\"_blank\">https://wandb.ai/benmcguirk-queen-mary-university-of-london/xgboost-optimization/sweeps/kk3lk19c</a>"
      ],
      "text/plain": [
       "<IPython.core.display.HTML object>"
      ]
     },
     "metadata": {},
     "output_type": "display_data"
    },
    {
     "data": {
      "text/html": [
       " View project at <a href='https://wandb.ai/benmcguirk-queen-mary-university-of-london/xgboost-optimization' target=\"_blank\">https://wandb.ai/benmcguirk-queen-mary-university-of-london/xgboost-optimization</a>"
      ],
      "text/plain": [
       "<IPython.core.display.HTML object>"
      ]
     },
     "metadata": {},
     "output_type": "display_data"
    },
    {
     "data": {
      "text/html": [
       " View sweep at <a href='https://wandb.ai/benmcguirk-queen-mary-university-of-london/xgboost-optimization/sweeps/kk3lk19c' target=\"_blank\">https://wandb.ai/benmcguirk-queen-mary-university-of-london/xgboost-optimization/sweeps/kk3lk19c</a>"
      ],
      "text/plain": [
       "<IPython.core.display.HTML object>"
      ]
     },
     "metadata": {},
     "output_type": "display_data"
    },
    {
     "data": {
      "text/html": [
       " View run at <a href='https://wandb.ai/benmcguirk-queen-mary-university-of-london/xgboost-optimization/runs/p9t5k22l' target=\"_blank\">https://wandb.ai/benmcguirk-queen-mary-university-of-london/xgboost-optimization/runs/p9t5k22l</a>"
      ],
      "text/plain": [
       "<IPython.core.display.HTML object>"
      ]
     },
     "metadata": {},
     "output_type": "display_data"
    },
    {
     "data": {
      "text/html": [],
      "text/plain": [
       "<IPython.core.display.HTML object>"
      ]
     },
     "metadata": {},
     "output_type": "display_data"
    },
    {
     "data": {
      "text/html": [
       "<br>    <style><br>        .wandb-row {<br>            display: flex;<br>            flex-direction: row;<br>            flex-wrap: wrap;<br>            justify-content: flex-start;<br>            width: 100%;<br>        }<br>        .wandb-col {<br>            display: flex;<br>            flex-direction: column;<br>            flex-basis: 100%;<br>            flex: 1;<br>            padding: 10px;<br>        }<br>    </style><br><div class=\"wandb-row\"><div class=\"wandb-col\"><h3>Run history:</h3><br/><table class=\"wandb\"><tr><td>learning_rate</td><td>▁</td></tr><tr><td>max_depth</td><td>▁</td></tr><tr><td>n_estimators</td><td>▁</td></tr><tr><td>rmsle</td><td>▁</td></tr></table><br/></div><div class=\"wandb-col\"><h3>Run summary:</h3><br/><table class=\"wandb\"><tr><td>learning_rate</td><td>0.10646</td></tr><tr><td>max_depth</td><td>7</td></tr><tr><td>n_estimators</td><td>891</td></tr><tr><td>rmsle</td><td>0.00386</td></tr></table><br/></div></div>"
      ],
      "text/plain": [
       "<IPython.core.display.HTML object>"
      ]
     },
     "metadata": {},
     "output_type": "display_data"
    },
    {
     "data": {
      "text/html": [
       " View run <strong style=\"color:#cdcd00\">sweepy-sweep-50</strong> at: <a href='https://wandb.ai/benmcguirk-queen-mary-university-of-london/xgboost-optimization/runs/p9t5k22l' target=\"_blank\">https://wandb.ai/benmcguirk-queen-mary-university-of-london/xgboost-optimization/runs/p9t5k22l</a><br> View project at: <a href='https://wandb.ai/benmcguirk-queen-mary-university-of-london/xgboost-optimization' target=\"_blank\">https://wandb.ai/benmcguirk-queen-mary-university-of-london/xgboost-optimization</a><br>Synced 5 W&B file(s), 0 media file(s), 0 artifact file(s) and 0 other file(s)"
      ],
      "text/plain": [
       "<IPython.core.display.HTML object>"
      ]
     },
     "metadata": {},
     "output_type": "display_data"
    },
    {
     "data": {
      "text/html": [
       "Find logs at: <code>./wandb/run-20250510_153119-p9t5k22l/logs</code>"
      ],
      "text/plain": [
       "<IPython.core.display.HTML object>"
      ]
     },
     "metadata": {},
     "output_type": "display_data"
    }
   ],
   "source": [
    "# Define training function\n",
    "def train():\n",
    "    with wandb.init() as run:\n",
    "        config = run.config\n",
    "        model = xgb.XGBRegressor(\n",
    "            learning_rate=config.learning_rate,\n",
    "            max_depth=config.max_depth,\n",
    "            n_estimators=config.n_estimators,\n",
    "            random_state=42\n",
    "        )\n",
    "        model.fit(X_train_processed, y_train, eval_set=[(X_val_processed, y_val)], verbose=False)\n",
    "        preds = model.predict(X_val_processed)\n",
    "        preds = np.maximum(preds, 0) # clip predictions to ensure they are non-negative\n",
    "        rmsle = np.sqrt(mean_squared_log_error(y_val, preds))\n",
    "        wandb.log({\n",
    "            \"rmsle\": rmsle,\n",
    "            \"learning_rate\": config.learning_rate,\n",
    "            \"max_depth\": config.max_depth,\n",
    "            \"n_estimators\": config.n_estimators\n",
    "        })\n",
    "\n",
    "# Start sweep\n",
    "sweep_id = wandb.sweep(sweep_config, project=\"xgboost-optimization\")\n",
    "wandb.agent(sweep_id, function=train, count=50)"
   ]
  },
  {
   "cell_type": "code",
   "execution_count": 13,
   "id": "118d30e4",
   "metadata": {},
   "outputs": [],
   "source": [
    "# Create and train the xgb model\n",
    "best_model = xgb.XGBRegressor(learning_rate=0.10724, max_depth=7, n_estimators=856, random_state=42)\n",
    "best_model.fit(X_train_processed, y_train)\n",
    "\n",
    "# Make predictions\n",
    "y_train_pred = best_model.predict(X_train_processed)\n",
    "y_val_pred = best_model.predict(X_val_processed)"
   ]
  },
  {
   "cell_type": "code",
   "execution_count": 14,
   "id": "7aa04f2c",
   "metadata": {},
   "outputs": [],
   "source": [
    "# Clip predictions to ensure they are non-negative\n",
    "y_train_pred = np.clip(y_train_pred, 0, None)\n",
    "y_val_pred = np.clip(y_val_pred, 0, None)"
   ]
  },
  {
   "cell_type": "code",
   "execution_count": 15,
   "id": "2510bdd9",
   "metadata": {},
   "outputs": [
    {
     "name": "stdout",
     "output_type": "stream",
     "text": [
      "Training RMSLE: 0.0561\n",
      "Validation RMSLE: 0.0619\n",
      "Training R²: 0.9978\n",
      "Validation R²: 0.9966\n"
     ]
    }
   ],
   "source": [
    "# Evaluate the model\n",
    "train_rmsle = np.sqrt(mean_squared_log_error(y_train, y_train_pred))\n",
    "val_rmsle = np.sqrt(mean_squared_log_error(y_val, y_val_pred))\n",
    "train_r2 = r2_score(y_train, y_train_pred)\n",
    "val_r2 = r2_score(y_val, y_val_pred)\n",
    "\n",
    "print(f\"Training RMSLE: {train_rmsle:.4f}\")\n",
    "print(f\"Validation RMSLE: {val_rmsle:.4f}\")\n",
    "print(f\"Training R²: {train_r2:.4f}\")\n",
    "print(f\"Validation R²: {val_r2:.4f}\")"
   ]
  },
  {
   "cell_type": "code",
   "execution_count": 16,
   "id": "14b66f13",
   "metadata": {},
   "outputs": [
    {
     "data": {
      "image/png": "[encoded data removed]",
      "text/plain": [
       "<Figure size 1000x600 with 1 Axes>"
      ]
     },
     "metadata": {},
     "output_type": "display_data"
    }
   ],
   "source": [
    "# Visualize predictions vs actual\n",
    "plt.figure(figsize=(10, 6))\n",
    "plt.scatter(y_val, y_val_pred, alpha=0.5)\n",
    "plt.plot([y.min(), y.max()], [y.min(), y.max()], 'r--')\n",
    "plt.xlabel('Actual Calories')\n",
    "plt.ylabel('Predicted Calories')\n",
    "plt.title('Linear Regression: Actual vs Predicted Calories')\n",
    "plt.tight_layout()\n",
    "plt.show()"
   ]
  },
  {
   "cell_type": "code",
   "execution_count": 17,
   "id": "a4f5d966",
   "metadata": {},
   "outputs": [
    {
     "name": "stdout",
     "output_type": "stream",
     "text": [
      "Model saved successfully!\n"
     ]
    }
   ],
   "source": [
    "# Save the model\n",
    "joblib.dump(best_model, '../output/models/XGBoost_model_wandb.pkl')\n",
    "print(\"Model saved successfully!\")"
   ]
  },
  {
   "cell_type": "code",
   "execution_count": 18,
   "id": "c88d187e",
   "metadata": {},
   "outputs": [],
   "source": [
    "# Load the test data\n",
    "test_data = pd.read_csv('../data/raw/test.csv')\n",
    "\n",
    "# Clean the test data\n",
    "cleaned_test_data = prep.clean_test_data(test_data)\n",
    "\n",
    "# Split into features and target\n",
    "X_test = cleaned_test_data.drop(columns=['id'])\n",
    "X_test = prep.create_features(X_test)\n",
    "\n",
    "# Transform the test features using the fitted preprocessor\n",
    "X_test_processed = preprocessor.transform(X_test)\n",
    "\n",
    "# 2. Make predictions using the fitted model\n",
    "y_test_pred = best_model.predict(X_test_processed)\n",
    "y_test_pred = np.clip(y_test_pred, 0, None)"
   ]
  },
  {
   "cell_type": "code",
   "execution_count": 19,
   "id": "f76484b1",
   "metadata": {},
   "outputs": [],
   "source": [
    "submission = pd.DataFrame({\n",
    "    'id': test_data['id'],\n",
    "    'Calories': y_test_pred\n",
    "})\n",
    "submission.to_csv('../output/submissions/XGBoost_wandb.csv', index=False)"
   ]
  }
 ],
 "metadata": {
  "kernelspec": {
   "display_name": "kaggle-env",
   "language": "python",
   "name": "python3"
  },
  "language_info": {
   "codemirror_mode": {
    "name": "ipython",
    "version": 3
   },
   "file_extension": ".py",
   "mimetype": "text/x-python",
   "name": "python",
   "nbconvert_exporter": "python",
   "pygments_lexer": "ipython3",
   "version": "3.9.21"
  }
 },
 "nbformat": 4,
 "nbformat_minor": 5
}
