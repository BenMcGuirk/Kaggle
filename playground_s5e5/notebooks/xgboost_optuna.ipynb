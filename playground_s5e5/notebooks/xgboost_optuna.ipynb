{
 "cells": [
  {
   "cell_type": "markdown",
   "id": "9fc10f89",
   "metadata": {},
   "source": [
    "# Single XGBoost model"
   ]
  },
  {
   "cell_type": "code",
   "execution_count": 18,
   "id": "ec2e653b",
   "metadata": {},
   "outputs": [],
   "source": [
    "import sys\n",
    "import os\n",
    "\n",
    "# Adjust the path to point to your project root (the folder containing 'src')\n",
    "sys.path.append(os.path.abspath(os.path.join(os.getcwd(), '..')))"
   ]
  },
  {
   "cell_type": "code",
   "execution_count": 34,
   "id": "6de1c935",
   "metadata": {},
   "outputs": [
    {
     "data": {
      "text/plain": [
       "<module 'src.preprocessing' from '/Users/wpw555/Documents/Kaggle/playground_s5e5/src/preprocessing.py'>"
      ]
     },
     "execution_count": 34,
     "metadata": {},
     "output_type": "execute_result"
    }
   ],
   "source": [
    "import pandas as pd\n",
    "import numpy as np\n",
    "import matplotlib.pyplot as plt\n",
    "import seaborn as sns\n",
    "import joblib\n",
    "import xgboost as xgb\n",
    "from sklearn.model_selection import train_test_split, KFold\n",
    "from sklearn.metrics import r2_score, mean_squared_log_error\n",
    "import optuna\n",
    "import importlib\n",
    "import src.preprocessing as prep\n",
    "importlib.reload(prep)"
   ]
  },
  {
   "cell_type": "code",
   "execution_count": 35,
   "id": "80eaa6cc",
   "metadata": {},
   "outputs": [
    {
     "name": "stdout",
     "output_type": "stream",
     "text": [
      "Dataset shape: (750000, 9)\n"
     ]
    },
    {
     "data": {
      "text/html": [
       "<div>\n",
       "<style scoped>\n",
       "    .dataframe tbody tr th:only-of-type {\n",
       "        vertical-align: middle;\n",
       "    }\n",
       "\n",
       "    .dataframe tbody tr th {\n",
       "        vertical-align: top;\n",
       "    }\n",
       "\n",
       "    .dataframe thead th {\n",
       "        text-align: right;\n",
       "    }\n",
       "</style>\n",
       "<table border=\"1\" class=\"dataframe\">\n",
       "  <thead>\n",
       "    <tr style=\"text-align: right;\">\n",
       "      <th></th>\n",
       "      <th>id</th>\n",
       "      <th>Sex</th>\n",
       "      <th>Age</th>\n",
       "      <th>Height</th>\n",
       "      <th>Weight</th>\n",
       "      <th>Duration</th>\n",
       "      <th>Heart_Rate</th>\n",
       "      <th>Body_Temp</th>\n",
       "      <th>Calories</th>\n",
       "    </tr>\n",
       "  </thead>\n",
       "  <tbody>\n",
       "    <tr>\n",
       "      <th>0</th>\n",
       "      <td>0</td>\n",
       "      <td>male</td>\n",
       "      <td>36</td>\n",
       "      <td>189.0</td>\n",
       "      <td>82.0</td>\n",
       "      <td>26.0</td>\n",
       "      <td>101.0</td>\n",
       "      <td>41.0</td>\n",
       "      <td>150.0</td>\n",
       "    </tr>\n",
       "    <tr>\n",
       "      <th>1</th>\n",
       "      <td>1</td>\n",
       "      <td>female</td>\n",
       "      <td>64</td>\n",
       "      <td>163.0</td>\n",
       "      <td>60.0</td>\n",
       "      <td>8.0</td>\n",
       "      <td>85.0</td>\n",
       "      <td>39.7</td>\n",
       "      <td>34.0</td>\n",
       "    </tr>\n",
       "    <tr>\n",
       "      <th>2</th>\n",
       "      <td>2</td>\n",
       "      <td>female</td>\n",
       "      <td>51</td>\n",
       "      <td>161.0</td>\n",
       "      <td>64.0</td>\n",
       "      <td>7.0</td>\n",
       "      <td>84.0</td>\n",
       "      <td>39.8</td>\n",
       "      <td>29.0</td>\n",
       "    </tr>\n",
       "    <tr>\n",
       "      <th>3</th>\n",
       "      <td>3</td>\n",
       "      <td>male</td>\n",
       "      <td>20</td>\n",
       "      <td>192.0</td>\n",
       "      <td>90.0</td>\n",
       "      <td>25.0</td>\n",
       "      <td>105.0</td>\n",
       "      <td>40.7</td>\n",
       "      <td>140.0</td>\n",
       "    </tr>\n",
       "    <tr>\n",
       "      <th>4</th>\n",
       "      <td>4</td>\n",
       "      <td>female</td>\n",
       "      <td>38</td>\n",
       "      <td>166.0</td>\n",
       "      <td>61.0</td>\n",
       "      <td>25.0</td>\n",
       "      <td>102.0</td>\n",
       "      <td>40.6</td>\n",
       "      <td>146.0</td>\n",
       "    </tr>\n",
       "  </tbody>\n",
       "</table>\n",
       "</div>"
      ],
      "text/plain": [
       "   id     Sex  Age  Height  Weight  Duration  Heart_Rate  Body_Temp  Calories\n",
       "0   0    male   36   189.0    82.0      26.0       101.0       41.0     150.0\n",
       "1   1  female   64   163.0    60.0       8.0        85.0       39.7      34.0\n",
       "2   2  female   51   161.0    64.0       7.0        84.0       39.8      29.0\n",
       "3   3    male   20   192.0    90.0      25.0       105.0       40.7     140.0\n",
       "4   4  female   38   166.0    61.0      25.0       102.0       40.6     146.0"
      ]
     },
     "execution_count": 35,
     "metadata": {},
     "output_type": "execute_result"
    }
   ],
   "source": [
    "# Set paths\n",
    "DATA_PATH = '../data/raw/train.csv'\n",
    "PREPROCESSOR_PATH = '../src/preprocessor.pkl'\n",
    "\n",
    "# Load the data\n",
    "data = pd.read_csv(DATA_PATH)\n",
    "print(f\"Dataset shape: {data.shape}\")\n",
    "data.head()"
   ]
  },
  {
   "cell_type": "code",
   "execution_count": 36,
   "id": "08f53b39",
   "metadata": {},
   "outputs": [
    {
     "data": {
      "text/plain": [
       "Index(['id', 'Sex', 'Age', 'Height', 'Weight', 'Duration', 'Heart_Rate',\n",
       "       'Body_Temp', 'Calories'],\n",
       "      dtype='object')"
      ]
     },
     "execution_count": 36,
     "metadata": {},
     "output_type": "execute_result"
    }
   ],
   "source": [
    "data.columns"
   ]
  },
  {
   "cell_type": "code",
   "execution_count": 37,
   "id": "2d9b8874",
   "metadata": {},
   "outputs": [],
   "source": [
    "# Clean data\n",
    "cleaned_data, caps = prep.clean_train_data(data)\n",
    "\n",
    "X = data.drop(columns=['id', 'Calories'])\n",
    "X = prep.create_features(X)\n",
    "y = data['Calories']"
   ]
  },
  {
   "cell_type": "code",
   "execution_count": 23,
   "id": "753bf26e",
   "metadata": {},
   "outputs": [],
   "source": [
    "# Define the objective function for optimization\n",
    "def objective(trial):\n",
    "    params = {\n",
    "        \"learning_rate\": trial.suggest_float(\"learning_rate\", 0.01, 0.3, log=True),\n",
    "        \"max_depth\": trial.suggest_int(\"max_depth\", 3, 10),\n",
    "        \"n_estimators\": trial.suggest_int(\"n_estimators\", 100, 1000),\n",
    "        \"subsample\": trial.suggest_float(\"subsample\", 0.5, 1.0),\n",
    "        \"colsample_bytree\": trial.suggest_float(\"colsample_bytree\", 0.5, 1.0),\n",
    "        \"gamma\": trial.suggest_float(\"gamma\", 0, 5),\n",
    "        \"random_state\": 42,\n",
    "        \"objective\": \"reg:squarederror\",\n",
    "        \"enable_categorical\": True\n",
    "    }\n",
    "\n",
    "    kf = KFold(n_splits=5, shuffle=True, random_state=42)\n",
    "    rmsle_scores = []\n",
    "\n",
    "    for train_idx, val_idx in kf.split(X):\n",
    "        X_train_fold, X_val_fold = X.iloc[train_idx], X.iloc[val_idx]\n",
    "        y_train_fold, y_val_fold = y.iloc[train_idx], y.iloc[val_idx]\n",
    "\n",
    "        # Build and fit preprocessor\n",
    "        preprocessor = prep.build_preprocessor(X_train_fold)\n",
    "        X_train_fold, X_val_fold = prep.fit_and_transform_preprocessor(preprocessor, X_train_fold, X_val_fold)\n",
    "\n",
    "        model = xgb.XGBRegressor(**params)\n",
    "        model.fit(X_train_fold, y_train_fold)\n",
    "\n",
    "        preds = model.predict(X_val_fold)\n",
    "        preds = np.maximum(preds, 0)\n",
    "\n",
    "        score = np.sqrt(mean_squared_log_error(y_val_fold, preds))\n",
    "        rmsle_scores.append(score)\n",
    "\n",
    "    return np.mean(rmsle_scores)"
   ]
  },
  {
   "cell_type": "code",
   "execution_count": 24,
   "id": "ab68e971",
   "metadata": {},
   "outputs": [
    {
     "name": "stderr",
     "output_type": "stream",
     "text": [
      "[I 2025-05-11 13:16:01,540] A new study created in memory with name: no-name-a8d7b1a5-c5ad-4c8a-b35e-2561d3087bcd\n",
      "[I 2025-05-11 13:16:36,550] Trial 0 finished with value: 0.06833833677323572 and parameters: {'learning_rate': 0.05480679290129504, 'max_depth': 4, 'n_estimators': 633, 'subsample': 0.5275700943640604, 'colsample_bytree': 0.5133195306252352, 'gamma': 1.175836013243718}. Best is trial 0 with value: 0.06833833677323572.\n",
      "[I 2025-05-11 13:16:57,999] Trial 1 finished with value: 0.0660003003400759 and parameters: {'learning_rate': 0.08654573334972851, 'max_depth': 5, 'n_estimators': 247, 'subsample': 0.5695343415909838, 'colsample_bytree': 0.7489823979953986, 'gamma': 1.2623936485977827}. Best is trial 1 with value: 0.0660003003400759.\n",
      "[I 2025-05-11 13:17:38,851] Trial 2 finished with value: 0.06657474190873999 and parameters: {'learning_rate': 0.023205658396843125, 'max_depth': 5, 'n_estimators': 579, 'subsample': 0.5547527392178329, 'colsample_bytree': 0.862574881987568, 'gamma': 4.4893770209264785}. Best is trial 1 with value: 0.0660003003400759.\n",
      "[I 2025-05-11 13:18:04,610] Trial 3 finished with value: 0.06424094488261518 and parameters: {'learning_rate': 0.22214659144523663, 'max_depth': 6, 'n_estimators': 306, 'subsample': 0.6097319874579027, 'colsample_bytree': 0.8768071699544246, 'gamma': 2.8011144971837765}. Best is trial 3 with value: 0.06424094488261518.\n",
      "[I 2025-05-11 13:18:28,098] Trial 4 finished with value: 0.07727122789640292 and parameters: {'learning_rate': 0.077075153501318, 'max_depth': 3, 'n_estimators': 406, 'subsample': 0.8396949094030799, 'colsample_bytree': 0.7826653720769667, 'gamma': 2.0073452973551174}. Best is trial 3 with value: 0.06424094488261518.\n",
      "[I 2025-05-11 13:19:55,737] Trial 5 finished with value: 0.06159372338202061 and parameters: {'learning_rate': 0.08675410636911327, 'max_depth': 10, 'n_estimators': 864, 'subsample': 0.5266580345923696, 'colsample_bytree': 0.7032188501988929, 'gamma': 0.6863001059323987}. Best is trial 5 with value: 0.06159372338202061.\n",
      "[I 2025-05-11 13:20:28,024] Trial 6 finished with value: 0.0707222694991843 and parameters: {'learning_rate': 0.13961396969080303, 'max_depth': 3, 'n_estimators': 651, 'subsample': 0.7950922424822758, 'colsample_bytree': 0.9651161429920934, 'gamma': 3.5611601045999874}. Best is trial 5 with value: 0.06159372338202061.\n",
      "[I 2025-05-11 13:21:32,787] Trial 7 finished with value: 0.06191901589706254 and parameters: {'learning_rate': 0.014731447480900595, 'max_depth': 7, 'n_estimators': 714, 'subsample': 0.5546324852680431, 'colsample_bytree': 0.8297219639301163, 'gamma': 1.7175116705176525}. Best is trial 5 with value: 0.06159372338202061.\n",
      "[I 2025-05-11 13:22:08,383] Trial 8 finished with value: 0.07302824503949513 and parameters: {'learning_rate': 0.014405896092478294, 'max_depth': 5, 'n_estimators': 382, 'subsample': 0.5492388608857923, 'colsample_bytree': 0.506515426358205, 'gamma': 2.6588381134923056}. Best is trial 5 with value: 0.06159372338202061.\n",
      "[I 2025-05-11 13:22:31,741] Trial 9 finished with value: 0.07312670552702215 and parameters: {'learning_rate': 0.03611039487860778, 'max_depth': 4, 'n_estimators': 289, 'subsample': 0.6412914239286448, 'colsample_bytree': 0.7312149402107265, 'gamma': 1.2621764116209304}. Best is trial 5 with value: 0.06159372338202061.\n",
      "[I 2025-05-11 13:24:01,759] Trial 10 finished with value: 0.06335835554482859 and parameters: {'learning_rate': 0.24787237048683483, 'max_depth': 10, 'n_estimators': 989, 'subsample': 0.9923249184364289, 'colsample_bytree': 0.6328248676898489, 'gamma': 0.0037622793331618665}. Best is trial 5 with value: 0.06159372338202061.\n",
      "[I 2025-05-11 13:25:39,625] Trial 11 finished with value: 0.06072686240066253 and parameters: {'learning_rate': 0.011737162432958399, 'max_depth': 9, 'n_estimators': 869, 'subsample': 0.6801991193729675, 'colsample_bytree': 0.6495322556396139, 'gamma': 0.25898882398846634}. Best is trial 11 with value: 0.06072686240066253.\n",
      "[I 2025-05-11 13:27:13,415] Trial 12 finished with value: 0.06078813694504089 and parameters: {'learning_rate': 0.0377728131557079, 'max_depth': 10, 'n_estimators': 899, 'subsample': 0.7021220671206656, 'colsample_bytree': 0.6441508332323955, 'gamma': 0.24661345171178828}. Best is trial 11 with value: 0.06072686240066253.\n",
      "[I 2025-05-11 13:28:38,112] Trial 13 finished with value: 0.0610727292030262 and parameters: {'learning_rate': 0.010499721804604513, 'max_depth': 8, 'n_estimators': 834, 'subsample': 0.7122553125759532, 'colsample_bytree': 0.6198871182547537, 'gamma': 0.09590028880386084}. Best is trial 11 with value: 0.06072686240066253.\n",
      "[I 2025-05-11 13:29:01,144] Trial 14 finished with value: 0.13580206264253 and parameters: {'learning_rate': 0.03180767182865187, 'max_depth': 9, 'n_estimators': 103, 'subsample': 0.6998715103852475, 'colsample_bytree': 0.6141331739954592, 'gamma': 0.6018697323360322}. Best is trial 11 with value: 0.06072686240066253.\n",
      "[I 2025-05-11 13:30:32,096] Trial 15 finished with value: 0.0605498302987979 and parameters: {'learning_rate': 0.021966655042749667, 'max_depth': 9, 'n_estimators': 986, 'subsample': 0.8838546077105147, 'colsample_bytree': 0.6610369452907909, 'gamma': 0.4694318343460074}. Best is trial 15 with value: 0.0605498302987979.\n",
      "[I 2025-05-11 13:31:54,758] Trial 16 finished with value: 0.06077081432582325 and parameters: {'learning_rate': 0.020746314821068323, 'max_depth': 8, 'n_estimators': 989, 'subsample': 0.904970623533704, 'colsample_bytree': 0.6790271828652749, 'gamma': 3.316943085317903}. Best is trial 15 with value: 0.0605498302987979.\n",
      "[I 2025-05-11 13:33:14,471] Trial 17 finished with value: 0.061119887778869376 and parameters: {'learning_rate': 0.010320240264700306, 'max_depth': 8, 'n_estimators': 772, 'subsample': 0.9231154683598992, 'colsample_bytree': 0.5466277679269522, 'gamma': 0.8000262409206433}. Best is trial 15 with value: 0.0605498302987979.\n",
      "[I 2025-05-11 13:34:11,873] Trial 18 finished with value: 0.06066207992704138 and parameters: {'learning_rate': 0.021707497767436072, 'max_depth': 9, 'n_estimators': 506, 'subsample': 0.8066714124564106, 'colsample_bytree': 0.5833352444936806, 'gamma': 1.9809520983166429}. Best is trial 15 with value: 0.0605498302987979.\n",
      "[I 2025-05-11 13:34:56,407] Trial 19 finished with value: 0.06152049037829075 and parameters: {'learning_rate': 0.02126243846372095, 'max_depth': 7, 'n_estimators': 494, 'subsample': 0.7839008551054778, 'colsample_bytree': 0.5968338890584894, 'gamma': 2.1060572582009494}. Best is trial 15 with value: 0.0605498302987979.\n"
     ]
    }
   ],
   "source": [
    "study = optuna.create_study(direction=\"minimize\")\n",
    "study.optimize(objective, n_trials=20)  # try 20 different sets of hyperparameters"
   ]
  },
  {
   "cell_type": "code",
   "execution_count": 25,
   "id": "9e7386b1",
   "metadata": {},
   "outputs": [
    {
     "name": "stdout",
     "output_type": "stream",
     "text": [
      "Best trial:\n",
      "  RMSLE: 0.0605498302987979\n",
      "  Params: {'learning_rate': 0.021966655042749667, 'max_depth': 9, 'n_estimators': 986, 'subsample': 0.8838546077105147, 'colsample_bytree': 0.6610369452907909, 'gamma': 0.4694318343460074}\n"
     ]
    }
   ],
   "source": [
    "print(\"Best trial:\")\n",
    "print(\"  RMSLE:\", study.best_value)\n",
    "print(\"  Params:\", study.best_params)"
   ]
  },
  {
   "cell_type": "code",
   "execution_count": 38,
   "id": "118d30e4",
   "metadata": {},
   "outputs": [],
   "source": [
    "# Use full training set with best params\n",
    "preprocessor = prep.build_preprocessor(X)\n",
    "X_train = prep.fit_and_transform_full(preprocessor, X)\n",
    "\n",
    "# Create and train the xgb model\n",
    "best_model = xgb.XGBRegressor(**study.best_params, enable_categorical=True)\n",
    "best_model.fit(X_train, y)\n",
    "\n",
    "# Make predictions\n",
    "y_train_pred = best_model.predict(X_train)"
   ]
  },
  {
   "cell_type": "code",
   "execution_count": 39,
   "id": "7aa04f2c",
   "metadata": {},
   "outputs": [],
   "source": [
    "# Clip predictions to ensure they are non-negative\n",
    "y_train_pred = np.clip(y_train_pred, 0, None)"
   ]
  },
  {
   "cell_type": "code",
   "execution_count": 40,
   "id": "2510bdd9",
   "metadata": {},
   "outputs": [
    {
     "name": "stdout",
     "output_type": "stream",
     "text": [
      "Training RMSLE: 0.0561\n",
      "Training R²: 0.9977\n"
     ]
    }
   ],
   "source": [
    "# Evaluate the model\n",
    "train_rmsle = np.sqrt(mean_squared_log_error(y, y_train_pred))\n",
    "train_r2 = r2_score(y, y_train_pred)\n",
    "\n",
    "print(f\"Training RMSLE: {train_rmsle:.4f}\")\n",
    "print(f\"Training R²: {train_r2:.4f}\")"
   ]
  },
  {
   "cell_type": "code",
   "execution_count": 31,
   "id": "a4f5d966",
   "metadata": {},
   "outputs": [
    {
     "name": "stdout",
     "output_type": "stream",
     "text": [
      "Model saved successfully!\n"
     ]
    }
   ],
   "source": [
    "# Save the model\n",
    "joblib.dump(best_model, '../output/models/XGBoost_model_optuna4.pkl')\n",
    "print(\"Model saved successfully!\")"
   ]
  },
  {
   "cell_type": "code",
   "execution_count": 41,
   "id": "c88d187e",
   "metadata": {},
   "outputs": [],
   "source": [
    "# Load the test data\n",
    "test_data = pd.read_csv('../data/raw/test.csv')\n",
    "\n",
    "# Clean the test data\n",
    "cleaned_test_data = prep.clean_test_data(test_data)\n",
    "\n",
    "# Split into features and target\n",
    "X_test = cleaned_test_data.drop(columns=['id'])\n",
    "X_test = prep.create_features(X_test)\n",
    "\n",
    "# Transform the test features using the fitted preprocessor\n",
    "X_test_processed = preprocessor.transform(X_test)\n",
    "\n",
    "# 2. Make predictions using the fitted model\n",
    "y_test_pred = best_model.predict(X_test_processed)\n",
    "y_test_pred = np.clip(y_test_pred, 0, None)"
   ]
  },
  {
   "cell_type": "code",
   "execution_count": 42,
   "id": "f76484b1",
   "metadata": {},
   "outputs": [],
   "source": [
    "submission = pd.DataFrame({\n",
    "    'id': test_data['id'],\n",
    "    'Calories': y_test_pred\n",
    "})\n",
    "submission.to_csv('../output/submissions/XGBoost_optuna4.csv', index=False)"
   ]
  }
 ],
 "metadata": {
  "kernelspec": {
   "display_name": "kaggle-env",
   "language": "python",
   "name": "python3"
  },
  "language_info": {
   "codemirror_mode": {
    "name": "ipython",
    "version": 3
   },
   "file_extension": ".py",
   "mimetype": "text/x-python",
   "name": "python",
   "nbconvert_exporter": "python",
   "pygments_lexer": "ipython3",
   "version": "3.9.21"
  }
 },
 "nbformat": 4,
 "nbformat_minor": 5
}
