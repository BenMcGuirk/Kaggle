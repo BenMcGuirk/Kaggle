{
 "cells": [
  {
   "cell_type": "markdown",
   "id": "9fc10f89",
   "metadata": {},
   "source": [
    "# Single XGBoost model"
   ]
  },
  {
   "cell_type": "code",
   "execution_count": 53,
   "id": "ec2e653b",
   "metadata": {},
   "outputs": [],
   "source": [
    "import sys\n",
    "import os\n",
    "\n",
    "# Adjust the path to point to your project root (the folder containing 'src')\n",
    "sys.path.append(os.path.abspath(os.path.join(os.getcwd(), '..')))"
   ]
  },
  {
   "cell_type": "code",
   "execution_count": 61,
   "id": "6de1c935",
   "metadata": {},
   "outputs": [
    {
     "data": {
      "text/plain": [
       "<module 'src.preprocessing' from '/Users/wpw555/Documents/Kaggle/playground_s5e5/src/preprocessing.py'>"
      ]
     },
     "execution_count": 61,
     "metadata": {},
     "output_type": "execute_result"
    }
   ],
   "source": [
    "import pandas as pd\n",
    "import numpy as np\n",
    "import matplotlib.pyplot as plt\n",
    "import seaborn as sns\n",
    "import joblib\n",
    "import xgboost as xgb\n",
    "from sklearn.model_selection import train_test_split, KFold\n",
    "from sklearn.metrics import r2_score, mean_squared_log_error, mean_squared_error\n",
    "import optuna\n",
    "import importlib\n",
    "import src.preprocessing as prep\n",
    "importlib.reload(prep)"
   ]
  },
  {
   "cell_type": "code",
   "execution_count": 87,
   "id": "80eaa6cc",
   "metadata": {},
   "outputs": [
    {
     "name": "stdout",
     "output_type": "stream",
     "text": [
      "Dataset shape: (750000, 9)\n"
     ]
    },
    {
     "data": {
      "text/html": [
       "<div>\n",
       "<style scoped>\n",
       "    .dataframe tbody tr th:only-of-type {\n",
       "        vertical-align: middle;\n",
       "    }\n",
       "\n",
       "    .dataframe tbody tr th {\n",
       "        vertical-align: top;\n",
       "    }\n",
       "\n",
       "    .dataframe thead th {\n",
       "        text-align: right;\n",
       "    }\n",
       "</style>\n",
       "<table border=\"1\" class=\"dataframe\">\n",
       "  <thead>\n",
       "    <tr style=\"text-align: right;\">\n",
       "      <th></th>\n",
       "      <th>id</th>\n",
       "      <th>Sex</th>\n",
       "      <th>Age</th>\n",
       "      <th>Height</th>\n",
       "      <th>Weight</th>\n",
       "      <th>Duration</th>\n",
       "      <th>Heart_Rate</th>\n",
       "      <th>Body_Temp</th>\n",
       "      <th>Calories</th>\n",
       "    </tr>\n",
       "  </thead>\n",
       "  <tbody>\n",
       "    <tr>\n",
       "      <th>0</th>\n",
       "      <td>0</td>\n",
       "      <td>male</td>\n",
       "      <td>36</td>\n",
       "      <td>189.0</td>\n",
       "      <td>82.0</td>\n",
       "      <td>26.0</td>\n",
       "      <td>101.0</td>\n",
       "      <td>41.0</td>\n",
       "      <td>150.0</td>\n",
       "    </tr>\n",
       "    <tr>\n",
       "      <th>1</th>\n",
       "      <td>1</td>\n",
       "      <td>female</td>\n",
       "      <td>64</td>\n",
       "      <td>163.0</td>\n",
       "      <td>60.0</td>\n",
       "      <td>8.0</td>\n",
       "      <td>85.0</td>\n",
       "      <td>39.7</td>\n",
       "      <td>34.0</td>\n",
       "    </tr>\n",
       "    <tr>\n",
       "      <th>2</th>\n",
       "      <td>2</td>\n",
       "      <td>female</td>\n",
       "      <td>51</td>\n",
       "      <td>161.0</td>\n",
       "      <td>64.0</td>\n",
       "      <td>7.0</td>\n",
       "      <td>84.0</td>\n",
       "      <td>39.8</td>\n",
       "      <td>29.0</td>\n",
       "    </tr>\n",
       "    <tr>\n",
       "      <th>3</th>\n",
       "      <td>3</td>\n",
       "      <td>male</td>\n",
       "      <td>20</td>\n",
       "      <td>192.0</td>\n",
       "      <td>90.0</td>\n",
       "      <td>25.0</td>\n",
       "      <td>105.0</td>\n",
       "      <td>40.7</td>\n",
       "      <td>140.0</td>\n",
       "    </tr>\n",
       "    <tr>\n",
       "      <th>4</th>\n",
       "      <td>4</td>\n",
       "      <td>female</td>\n",
       "      <td>38</td>\n",
       "      <td>166.0</td>\n",
       "      <td>61.0</td>\n",
       "      <td>25.0</td>\n",
       "      <td>102.0</td>\n",
       "      <td>40.6</td>\n",
       "      <td>146.0</td>\n",
       "    </tr>\n",
       "  </tbody>\n",
       "</table>\n",
       "</div>"
      ],
      "text/plain": [
       "   id     Sex  Age  Height  Weight  Duration  Heart_Rate  Body_Temp  Calories\n",
       "0   0    male   36   189.0    82.0      26.0       101.0       41.0     150.0\n",
       "1   1  female   64   163.0    60.0       8.0        85.0       39.7      34.0\n",
       "2   2  female   51   161.0    64.0       7.0        84.0       39.8      29.0\n",
       "3   3    male   20   192.0    90.0      25.0       105.0       40.7     140.0\n",
       "4   4  female   38   166.0    61.0      25.0       102.0       40.6     146.0"
      ]
     },
     "execution_count": 87,
     "metadata": {},
     "output_type": "execute_result"
    }
   ],
   "source": [
    "# Set paths\n",
    "DATA_PATH = '../data/raw/train.csv'\n",
    "PREPROCESSOR_PATH = '../src/preprocessor.pkl'\n",
    "\n",
    "# Load the data\n",
    "data = pd.read_csv(DATA_PATH)\n",
    "print(f\"Dataset shape: {data.shape}\")\n",
    "data.head()"
   ]
  },
  {
   "cell_type": "code",
   "execution_count": 88,
   "id": "08f53b39",
   "metadata": {},
   "outputs": [
    {
     "data": {
      "text/plain": [
       "Index(['id', 'Sex', 'Age', 'Height', 'Weight', 'Duration', 'Heart_Rate',\n",
       "       'Body_Temp', 'Calories'],\n",
       "      dtype='object')"
      ]
     },
     "execution_count": 88,
     "metadata": {},
     "output_type": "execute_result"
    }
   ],
   "source": [
    "data.columns"
   ]
  },
  {
   "cell_type": "code",
   "execution_count": 89,
   "id": "2d9b8874",
   "metadata": {},
   "outputs": [
    {
     "name": "stdout",
     "output_type": "stream",
     "text": [
      "   Sex   Age  Height  Weight  Duration  Heart_Rate  Body_Temp  Calories\n",
      "0    0  20.0   150.0    51.0      14.0        94.0       40.1      67.0\n",
      "1    0  20.0   150.0    51.0       1.0        90.0       37.8       5.0\n",
      "2    0  20.0   150.0    51.0      26.0       101.0       40.8     151.0\n",
      "3    0  20.0   150.0    52.0      18.0       106.0       40.1     111.0\n",
      "4    0  20.0   150.0    51.0       1.0        79.0       37.7       4.0\n"
     ]
    }
   ],
   "source": [
    "# Clean data\n",
    "cleaned_data, caps = prep.clean_train_data(data)\n",
    "\n",
    "X = cleaned_data.drop(columns=['Calories'])\n",
    "X = prep.create_features(X)\n",
    "y = cleaned_data['Calories']\n",
    "\n",
    "# Apply log transformation\n",
    "y = np.log1p(y)"
   ]
  },
  {
   "cell_type": "code",
   "execution_count": 90,
   "id": "753bf26e",
   "metadata": {},
   "outputs": [],
   "source": [
    "# Define the objective function for optimization\n",
    "def objective(trial):\n",
    "    params = {\n",
    "        \"learning_rate\": trial.suggest_float(\"learning_rate\", 0.01, 0.3, log=True),\n",
    "        \"max_depth\": trial.suggest_int(\"max_depth\", 3, 10),\n",
    "        \"n_estimators\": trial.suggest_int(\"n_estimators\", 100, 1000),\n",
    "        \"subsample\": trial.suggest_float(\"subsample\", 0.5, 1.0),\n",
    "        \"colsample_bytree\": trial.suggest_float(\"colsample_bytree\", 0.5, 1.0),\n",
    "        \"gamma\": trial.suggest_float(\"gamma\", 0, 5),\n",
    "        \"random_state\": 42,\n",
    "        \"objective\": \"reg:squarederror\",\n",
    "        \"enable_categorical\": True\n",
    "    }\n",
    "\n",
    "    kf = KFold(n_splits=5, shuffle=True, random_state=42)\n",
    "    rmsle_scores = []\n",
    "\n",
    "    for train_idx, val_idx in kf.split(X):\n",
    "        X_train_fold, X_val_fold = X.iloc[train_idx], X.iloc[val_idx]\n",
    "        y_train_fold, y_val_fold = y.iloc[train_idx], y.iloc[val_idx]\n",
    "\n",
    "        # Build and fit preprocessor\n",
    "        preprocessor = prep.build_preprocessor(X_train_fold)\n",
    "        X_train_fold, X_val_fold = prep.fit_and_transform_preprocessor(preprocessor, X_train_fold, X_val_fold)\n",
    "\n",
    "        model = xgb.XGBRegressor(**params)\n",
    "        model.fit(X_train_fold, y_train_fold)\n",
    "\n",
    "        log_preds = model.predict(X_val_fold)\n",
    "        preds = np.expm1(log_preds)\n",
    "        preds = np.clip(preds, 0, None)\n",
    "\n",
    "        y_val_original = np.expm1(y_val_fold)\n",
    "\n",
    "        score = np.sqrt(mean_squared_log_error(y_val_original, preds))\n",
    "        rmsle_scores.append(score)\n",
    "\n",
    "    return np.mean(rmsle_scores)"
   ]
  },
  {
   "cell_type": "code",
   "execution_count": 91,
   "id": "ab68e971",
   "metadata": {},
   "outputs": [
    {
     "name": "stderr",
     "output_type": "stream",
     "text": [
      "[I 2025-05-11 18:18:59,728] A new study created in memory with name: no-name-2ce29a54-106f-4a99-abf6-603bf944d0ad\n",
      "[I 2025-05-11 18:19:29,275] Trial 0 finished with value: 0.06281651443553535 and parameters: {'learning_rate': 0.026248887009042387, 'max_depth': 5, 'n_estimators': 774, 'subsample': 0.5613003253209559, 'colsample_bytree': 0.516633691192101, 'gamma': 4.839353728428216}. Best is trial 0 with value: 0.06281651443553535.\n",
      "[I 2025-05-11 18:19:58,172] Trial 1 finished with value: 0.060316312869442744 and parameters: {'learning_rate': 0.055310148523597835, 'max_depth': 8, 'n_estimators': 958, 'subsample': 0.8976199243661203, 'colsample_bytree': 0.8970844449290423, 'gamma': 2.8277293421782908}. Best is trial 1 with value: 0.060316312869442744.\n",
      "[I 2025-05-11 18:20:13,803] Trial 2 finished with value: 0.06045493406218516 and parameters: {'learning_rate': 0.04795031614474571, 'max_depth': 5, 'n_estimators': 134, 'subsample': 0.6958263421652497, 'colsample_bytree': 0.92279071052324, 'gamma': 0.712510745739155}. Best is trial 1 with value: 0.060316312869442744.\n",
      "[I 2025-05-11 18:20:35,213] Trial 3 finished with value: 0.06251604864085725 and parameters: {'learning_rate': 0.020603088323044024, 'max_depth': 4, 'n_estimators': 301, 'subsample': 0.7877767223628317, 'colsample_bytree': 0.7661418709002722, 'gamma': 2.156027285736079}. Best is trial 1 with value: 0.060316312869442744.\n",
      "[I 2025-05-11 18:20:48,753] Trial 4 finished with value: 0.0611015336588824 and parameters: {'learning_rate': 0.10956279336845212, 'max_depth': 7, 'n_estimators': 200, 'subsample': 0.7524782649774184, 'colsample_bytree': 0.8536654769198322, 'gamma': 3.2917872692097836}. Best is trial 1 with value: 0.060316312869442744.\n",
      "[I 2025-05-11 18:21:09,681] Trial 5 finished with value: 0.06213782351748561 and parameters: {'learning_rate': 0.1410143399157645, 'max_depth': 5, 'n_estimators': 620, 'subsample': 0.6460045109683894, 'colsample_bytree': 0.8555593996374542, 'gamma': 2.41528774680388}. Best is trial 1 with value: 0.060316312869442744.\n",
      "[I 2025-05-11 18:21:23,964] Trial 6 finished with value: 0.060927474849806554 and parameters: {'learning_rate': 0.08198999607311926, 'max_depth': 10, 'n_estimators': 174, 'subsample': 0.9504923495976608, 'colsample_bytree': 0.9982591940931873, 'gamma': 3.923051864868747}. Best is trial 1 with value: 0.060316312869442744.\n",
      "[I 2025-05-11 18:22:09,646] Trial 7 finished with value: 0.06006735665190503 and parameters: {'learning_rate': 0.012471903512616133, 'max_depth': 7, 'n_estimators': 669, 'subsample': 0.6044031039049063, 'colsample_bytree': 0.8325026494916399, 'gamma': 1.9148609220887787}. Best is trial 7 with value: 0.06006735665190503.\n",
      "[I 2025-05-11 18:22:24,861] Trial 8 finished with value: 0.059734655345026685 and parameters: {'learning_rate': 0.070011279371585, 'max_depth': 6, 'n_estimators': 136, 'subsample': 0.805678228907537, 'colsample_bytree': 0.8845422597403043, 'gamma': 0.8664551611122912}. Best is trial 8 with value: 0.059734655345026685.\n",
      "[I 2025-05-11 18:22:57,142] Trial 9 finished with value: 0.06375654082529675 and parameters: {'learning_rate': 0.014834639473134674, 'max_depth': 6, 'n_estimators': 301, 'subsample': 0.9005929211032089, 'colsample_bytree': 0.8031380711371077, 'gamma': 3.9080819320038014}. Best is trial 8 with value: 0.059734655345026685.\n",
      "[I 2025-05-11 18:23:19,079] Trial 10 finished with value: 0.0632157233090678 and parameters: {'learning_rate': 0.24271079357386877, 'max_depth': 3, 'n_estimators': 454, 'subsample': 0.8410760471636823, 'colsample_bytree': 0.6394834108101223, 'gamma': 0.31739825364196406}. Best is trial 8 with value: 0.059734655345026685.\n",
      "[I 2025-05-11 18:24:27,486] Trial 11 finished with value: 0.0597606471654117 and parameters: {'learning_rate': 0.010029507940215378, 'max_depth': 8, 'n_estimators': 614, 'subsample': 0.5797174699529997, 'colsample_bytree': 0.7202357594837847, 'gamma': 1.3779237839954677}. Best is trial 8 with value: 0.059734655345026685.\n",
      "[I 2025-05-11 18:25:01,809] Trial 12 finished with value: 0.05977654795975555 and parameters: {'learning_rate': 0.03766221911492379, 'max_depth': 9, 'n_estimators': 509, 'subsample': 0.519730666825531, 'colsample_bytree': 0.6917103689997803, 'gamma': 1.363036739855119}. Best is trial 8 with value: 0.059734655345026685.\n",
      "[I 2025-05-11 18:25:37,571] Trial 13 finished with value: 0.059627872660597214 and parameters: {'learning_rate': 0.07514491217463952, 'max_depth': 8, 'n_estimators': 823, 'subsample': 0.7107011575709968, 'colsample_bytree': 0.6892878587626096, 'gamma': 1.1673231658405836}. Best is trial 13 with value: 0.059627872660597214.\n",
      "[I 2025-05-11 18:26:13,840] Trial 14 finished with value: 0.06061733600020375 and parameters: {'learning_rate': 0.18612442361569353, 'max_depth': 8, 'n_estimators': 998, 'subsample': 0.6912342388417565, 'colsample_bytree': 0.6185804142854986, 'gamma': 0.9858588431053602}. Best is trial 13 with value: 0.059627872660597214.\n",
      "[I 2025-05-11 18:26:57,191] Trial 15 finished with value: 0.058113290122172055 and parameters: {'learning_rate': 0.0726557083093565, 'max_depth': 10, 'n_estimators': 832, 'subsample': 0.8107523161071091, 'colsample_bytree': 0.5572490823912128, 'gamma': 0.04707141251577207}. Best is trial 15 with value: 0.058113290122172055.\n",
      "[I 2025-05-11 18:27:35,665] Trial 16 finished with value: 0.05840939588470958 and parameters: {'learning_rate': 0.10495644979904147, 'max_depth': 10, 'n_estimators': 847, 'subsample': 0.9992713978386825, 'colsample_bytree': 0.5451807679024272, 'gamma': 0.25038805802457287}. Best is trial 15 with value: 0.058113290122172055.\n",
      "[I 2025-05-11 18:28:16,109] Trial 17 finished with value: 0.05830654011298386 and parameters: {'learning_rate': 0.11817085512985001, 'max_depth': 10, 'n_estimators': 852, 'subsample': 0.9991038337220852, 'colsample_bytree': 0.5147948671719005, 'gamma': 0.027518664854808618}. Best is trial 15 with value: 0.058113290122172055.\n",
      "[I 2025-05-11 18:28:50,264] Trial 18 finished with value: 0.05996165238998328 and parameters: {'learning_rate': 0.27367930608041774, 'max_depth': 10, 'n_estimators': 878, 'subsample': 0.8695392612394466, 'colsample_bytree': 0.581626528775528, 'gamma': 0.17990448412909044}. Best is trial 15 with value: 0.058113290122172055.\n",
      "[I 2025-05-11 18:29:21,512] Trial 19 finished with value: 0.05869676951237267 and parameters: {'learning_rate': 0.14997227628054827, 'max_depth': 9, 'n_estimators': 721, 'subsample': 0.998519534943297, 'colsample_bytree': 0.511397739957021, 'gamma': 0.015331908537137963}. Best is trial 15 with value: 0.058113290122172055.\n"
     ]
    }
   ],
   "source": [
    "study = optuna.create_study(direction=\"minimize\")\n",
    "study.optimize(objective, n_trials=20)  # try 20 different sets of hyperparameters"
   ]
  },
  {
   "cell_type": "code",
   "execution_count": 92,
   "id": "9e7386b1",
   "metadata": {},
   "outputs": [
    {
     "name": "stdout",
     "output_type": "stream",
     "text": [
      "Best trial:\n",
      "  RMSLE: 0.058113290122172055\n",
      "  Params: {'learning_rate': 0.0726557083093565, 'max_depth': 10, 'n_estimators': 832, 'subsample': 0.8107523161071091, 'colsample_bytree': 0.5572490823912128, 'gamma': 0.04707141251577207}\n"
     ]
    }
   ],
   "source": [
    "print(\"Best trial:\")\n",
    "print(\"  RMSLE:\", study.best_value)\n",
    "print(\"  Params:\", study.best_params)"
   ]
  },
  {
   "cell_type": "code",
   "execution_count": 93,
   "id": "118d30e4",
   "metadata": {},
   "outputs": [],
   "source": [
    "# Use full training set with best params\n",
    "preprocessor = prep.build_preprocessor(X)\n",
    "X_train = prep.fit_and_transform_full(preprocessor, X)\n",
    "\n",
    "# Create and train the xgb model\n",
    "best_model = xgb.XGBRegressor(**study.best_params, enable_categorical=True)\n",
    "best_model.fit(X_train, y)\n",
    "\n",
    "# Make predictions\n",
    "y_train_pred = best_model.predict(X_train)\n",
    "y_train_pred = np.expm1(y_train_pred)"
   ]
  },
  {
   "cell_type": "code",
   "execution_count": 94,
   "id": "7aa04f2c",
   "metadata": {},
   "outputs": [],
   "source": [
    "# Clip predictions to ensure they are non-negative\n",
    "y_train_pred = np.clip(y_train_pred, 0, None)"
   ]
  },
  {
   "cell_type": "code",
   "execution_count": 95,
   "id": "2510bdd9",
   "metadata": {},
   "outputs": [
    {
     "name": "stdout",
     "output_type": "stream",
     "text": [
      "Training RMSLE: 0.0522\n",
      "Training R²: 0.9973\n"
     ]
    }
   ],
   "source": [
    "# Evaluate the model\n",
    "y_original = np.expm1(y)\n",
    "train_rmsle = np.sqrt(mean_squared_log_error(y_original, y_train_pred))\n",
    "train_r2 = r2_score(y_original, y_train_pred)\n",
    "\n",
    "print(f\"Training RMSLE: {train_rmsle:.4f}\")\n",
    "print(f\"Training R²: {train_r2:.4f}\")"
   ]
  },
  {
   "cell_type": "code",
   "execution_count": 96,
   "id": "a4f5d966",
   "metadata": {},
   "outputs": [
    {
     "name": "stdout",
     "output_type": "stream",
     "text": [
      "Model saved successfully!\n"
     ]
    }
   ],
   "source": [
    "# Save the model\n",
    "joblib.dump(best_model, '../output/models/XGBoost_model_optuna6.pkl')\n",
    "print(\"Model saved successfully!\")"
   ]
  },
  {
   "cell_type": "code",
   "execution_count": 97,
   "id": "c88d187e",
   "metadata": {},
   "outputs": [],
   "source": [
    "# Load the test data\n",
    "test_data = pd.read_csv('../data/raw/test.csv')\n",
    "\n",
    "# Clean the test data\n",
    "cleaned_test_data = prep.clean_test_data(test_data)\n",
    "\n",
    "# Split into features and target\n",
    "X_test = cleaned_test_data.drop(columns=['id'])\n",
    "X_test = prep.create_features(X_test)\n",
    "\n",
    "# Transform the test features using the fitted preprocessor\n",
    "X_test_processed = preprocessor.transform(X_test)\n",
    "\n",
    "# 2. Make predictions using the fitted model\n",
    "y_test_log_pred = best_model.predict(X_test_processed)\n",
    "y_test_pred = np.expm1(y_test_log_pred)\n",
    "y_test_pred = np.clip(y_test_pred, 0, None)"
   ]
  },
  {
   "cell_type": "code",
   "execution_count": 98,
   "id": "f76484b1",
   "metadata": {},
   "outputs": [],
   "source": [
    "submission = pd.DataFrame({\n",
    "    'id': test_data['id'],\n",
    "    'Calories': y_test_pred\n",
    "})\n",
    "submission.to_csv('../output/submissions/XGBoost_optuna6.csv', index=False)"
   ]
  }
 ],
 "metadata": {
  "kernelspec": {
   "display_name": "kaggle-env",
   "language": "python",
   "name": "python3"
  },
  "language_info": {
   "codemirror_mode": {
    "name": "ipython",
    "version": 3
   },
   "file_extension": ".py",
   "mimetype": "text/x-python",
   "name": "python",
   "nbconvert_exporter": "python",
   "pygments_lexer": "ipython3",
   "version": "3.9.21"
  }
 },
 "nbformat": 4,
 "nbformat_minor": 5
}
